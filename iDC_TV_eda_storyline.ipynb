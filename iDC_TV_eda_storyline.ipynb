{
 "cells": [
  {
   "cell_type": "markdown",
   "metadata": {},
   "source": [
    "---\n",
    "format:\n",
    "  html:\n",
    "    embed-resources: true\n",
    "---"
   ]
  },
  {
   "cell_type": "markdown",
   "metadata": {},
   "source": [
    "# Exploratory Data Analysis of TV Sales Across Major Retailers"
   ]
  },
  {
   "cell_type": "markdown",
   "metadata": {},
   "source": [
    "### Introduction:\n",
    "\n",
    "iDC TV Inc. aims to regain its market presence by understanding and countering the promotional strategies and pricing structures of its competitors. By leveraging data from major competitors, the objective is to derive insights that can aid in formulating an effective pricing strategy."
   ]
  },
  {
   "cell_type": "markdown",
   "metadata": {},
   "source": [
    "### Section 1: Market Overview"
   ]
  },
  {
   "cell_type": "markdown",
   "metadata": {},
   "source": [
    "###  1.1 Market Presence and Customer Preference:"
   ]
  },
  {
   "cell_type": "code",
   "execution_count": 1,
   "metadata": {},
   "outputs": [],
   "source": [
    "import pandas as pd\n",
    "import plotly.express as px\n",
    "import plotly.graph_objects as go\n",
    "import plotly.figure_factory as ff\n",
    "from plotly.subplots import make_subplots\n",
    "\n",
    "# Load the datasets\n",
    "file_paths = {\n",
    "    'Walmart': 'walmart_data_cleaned.csv',\n",
    "    'Costco': 'costco_data_cleaned.csv',\n",
    "    'BestBuy': 'bestbuy_data_cleaned.csv',\n",
    "    'Amazon': 'amazon_data_cleaned.csv'\n",
    "}\n",
    "\n",
    "datasets = {}\n",
    "for retailer, path in file_paths.items():\n",
    "    datasets[retailer] = pd.read_csv(path)\n",
    "\n",
    "all_data = []\n",
    "for retailer, df in datasets.items():\n",
    "    df = df.copy()\n",
    "    df['Retailer'] = retailer\n",
    "    all_data.append(df)\n",
    "\n",
    "all_df = pd.concat(all_data, axis=0, ignore_index=True)"
   ]
  },
  {
   "cell_type": "code",
   "execution_count": 2,
   "metadata": {},
   "outputs": [
    {
     "data": {
      "application/vnd.plotly.v1+json": {
       "config": {
        "plotlyServerURL": "https://plot.ly"
       },
       "data": [
        {
         "alignmentgroup": "True",
         "hovertemplate": "Retailer=Walmart<br>TV Brand=%{x}<br>Number of Reviews=%{text}<extra></extra>",
         "legendgroup": "Walmart",
         "marker": {
          "color": "rgb(141,211,199)",
          "pattern": {
           "shape": ""
          }
         },
         "name": "Walmart",
         "offsetgroup": "Walmart",
         "orientation": "v",
         "showlegend": true,
         "text": [
          10729,
          0,
          39844,
          2022,
          107540,
          20776,
          4318,
          46152,
          167452
         ],
         "textposition": "outside",
         "texttemplate": "%{text:.2s}",
         "type": "bar",
         "x": [
          "Hisense",
          "Insignia",
          "LG",
          "Other",
          "Samsung",
          "Sceptre",
          "Sony",
          "TCL",
          "Vizio"
         ],
         "xaxis": "x",
         "y": [
          10729,
          0,
          39844,
          2022,
          107540,
          20776,
          4318,
          46152,
          167452
         ],
         "yaxis": "y"
        },
        {
         "alignmentgroup": "True",
         "hovertemplate": "Retailer=Costco<br>TV Brand=%{x}<br>Number of Reviews=%{text}<extra></extra>",
         "legendgroup": "Costco",
         "marker": {
          "color": "rgb(255,255,179)",
          "pattern": {
           "shape": ""
          }
         },
         "name": "Costco",
         "offsetgroup": "Costco",
         "orientation": "v",
         "showlegend": true,
         "text": [
          57,
          853,
          1983,
          1021
         ],
         "textposition": "outside",
         "texttemplate": "%{text:.2s}",
         "type": "bar",
         "x": [
          "Hisense",
          "LG",
          "Samsung",
          "Sony"
         ],
         "xaxis": "x",
         "y": [
          57,
          853,
          1983,
          1021
         ],
         "yaxis": "y"
        },
        {
         "alignmentgroup": "True",
         "hovertemplate": "Retailer=BestBuy<br>TV Brand=%{x}<br>Number of Reviews=%{text}<extra></extra>",
         "legendgroup": "BestBuy",
         "marker": {
          "color": "rgb(190,186,218)",
          "pattern": {
           "shape": ""
          }
         },
         "name": "BestBuy",
         "offsetgroup": "BestBuy",
         "orientation": "v",
         "showlegend": true,
         "text": [
          13810,
          47963,
          28356,
          2588,
          90253,
          22095,
          15811,
          9739,
          6783
         ],
         "textposition": "outside",
         "texttemplate": "%{text:.2s}",
         "type": "bar",
         "x": [
          "Hisense",
          "Insignia",
          "LG",
          "Other",
          "Samsung",
          "Sony",
          "TCL",
          "Toshiba",
          "Vizio"
         ],
         "xaxis": "x",
         "y": [
          13810,
          47963,
          28356,
          2588,
          90253,
          22095,
          15811,
          9739,
          6783
         ],
         "yaxis": "y"
        },
        {
         "alignmentgroup": "True",
         "hovertemplate": "Retailer=Amazon<br>TV Brand=%{x}<br>Number of Reviews=%{text}<extra></extra>",
         "legendgroup": "Amazon",
         "marker": {
          "color": "rgb(251,128,114)",
          "pattern": {
           "shape": ""
          }
         },
         "name": "Amazon",
         "offsetgroup": "Amazon",
         "orientation": "v",
         "showlegend": true,
         "text": [
          2908,
          161,
          2092,
          3568,
          4459,
          3006,
          1752,
          178,
          618
         ],
         "textposition": "outside",
         "texttemplate": "%{text:.2s}",
         "type": "bar",
         "x": [
          "Hisense",
          "Insignia",
          "LG",
          "Other",
          "Samsung",
          "Sony",
          "TCL",
          "Toshiba",
          "Vizio"
         ],
         "xaxis": "x",
         "y": [
          2908,
          161,
          2092,
          3568,
          4459,
          3006,
          1752,
          178,
          618
         ],
         "yaxis": "y"
        }
       ],
       "layout": {
        "barmode": "relative",
        "legend": {
         "title": {
          "text": "Retailer"
         },
         "tracegroupgap": 0
        },
        "showlegend": true,
        "template": {
         "data": {
          "bar": [
           {
            "error_x": {
             "color": "#2a3f5f"
            },
            "error_y": {
             "color": "#2a3f5f"
            },
            "marker": {
             "line": {
              "color": "#E5ECF6",
              "width": 0.5
             },
             "pattern": {
              "fillmode": "overlay",
              "size": 10,
              "solidity": 0.2
             }
            },
            "type": "bar"
           }
          ],
          "barpolar": [
           {
            "marker": {
             "line": {
              "color": "#E5ECF6",
              "width": 0.5
             },
             "pattern": {
              "fillmode": "overlay",
              "size": 10,
              "solidity": 0.2
             }
            },
            "type": "barpolar"
           }
          ],
          "carpet": [
           {
            "aaxis": {
             "endlinecolor": "#2a3f5f",
             "gridcolor": "white",
             "linecolor": "white",
             "minorgridcolor": "white",
             "startlinecolor": "#2a3f5f"
            },
            "baxis": {
             "endlinecolor": "#2a3f5f",
             "gridcolor": "white",
             "linecolor": "white",
             "minorgridcolor": "white",
             "startlinecolor": "#2a3f5f"
            },
            "type": "carpet"
           }
          ],
          "choropleth": [
           {
            "colorbar": {
             "outlinewidth": 0,
             "ticks": ""
            },
            "type": "choropleth"
           }
          ],
          "contour": [
           {
            "colorbar": {
             "outlinewidth": 0,
             "ticks": ""
            },
            "colorscale": [
             [
              0,
              "#0d0887"
             ],
             [
              0.1111111111111111,
              "#46039f"
             ],
             [
              0.2222222222222222,
              "#7201a8"
             ],
             [
              0.3333333333333333,
              "#9c179e"
             ],
             [
              0.4444444444444444,
              "#bd3786"
             ],
             [
              0.5555555555555556,
              "#d8576b"
             ],
             [
              0.6666666666666666,
              "#ed7953"
             ],
             [
              0.7777777777777778,
              "#fb9f3a"
             ],
             [
              0.8888888888888888,
              "#fdca26"
             ],
             [
              1,
              "#f0f921"
             ]
            ],
            "type": "contour"
           }
          ],
          "contourcarpet": [
           {
            "colorbar": {
             "outlinewidth": 0,
             "ticks": ""
            },
            "type": "contourcarpet"
           }
          ],
          "heatmap": [
           {
            "colorbar": {
             "outlinewidth": 0,
             "ticks": ""
            },
            "colorscale": [
             [
              0,
              "#0d0887"
             ],
             [
              0.1111111111111111,
              "#46039f"
             ],
             [
              0.2222222222222222,
              "#7201a8"
             ],
             [
              0.3333333333333333,
              "#9c179e"
             ],
             [
              0.4444444444444444,
              "#bd3786"
             ],
             [
              0.5555555555555556,
              "#d8576b"
             ],
             [
              0.6666666666666666,
              "#ed7953"
             ],
             [
              0.7777777777777778,
              "#fb9f3a"
             ],
             [
              0.8888888888888888,
              "#fdca26"
             ],
             [
              1,
              "#f0f921"
             ]
            ],
            "type": "heatmap"
           }
          ],
          "heatmapgl": [
           {
            "colorbar": {
             "outlinewidth": 0,
             "ticks": ""
            },
            "colorscale": [
             [
              0,
              "#0d0887"
             ],
             [
              0.1111111111111111,
              "#46039f"
             ],
             [
              0.2222222222222222,
              "#7201a8"
             ],
             [
              0.3333333333333333,
              "#9c179e"
             ],
             [
              0.4444444444444444,
              "#bd3786"
             ],
             [
              0.5555555555555556,
              "#d8576b"
             ],
             [
              0.6666666666666666,
              "#ed7953"
             ],
             [
              0.7777777777777778,
              "#fb9f3a"
             ],
             [
              0.8888888888888888,
              "#fdca26"
             ],
             [
              1,
              "#f0f921"
             ]
            ],
            "type": "heatmapgl"
           }
          ],
          "histogram": [
           {
            "marker": {
             "pattern": {
              "fillmode": "overlay",
              "size": 10,
              "solidity": 0.2
             }
            },
            "type": "histogram"
           }
          ],
          "histogram2d": [
           {
            "colorbar": {
             "outlinewidth": 0,
             "ticks": ""
            },
            "colorscale": [
             [
              0,
              "#0d0887"
             ],
             [
              0.1111111111111111,
              "#46039f"
             ],
             [
              0.2222222222222222,
              "#7201a8"
             ],
             [
              0.3333333333333333,
              "#9c179e"
             ],
             [
              0.4444444444444444,
              "#bd3786"
             ],
             [
              0.5555555555555556,
              "#d8576b"
             ],
             [
              0.6666666666666666,
              "#ed7953"
             ],
             [
              0.7777777777777778,
              "#fb9f3a"
             ],
             [
              0.8888888888888888,
              "#fdca26"
             ],
             [
              1,
              "#f0f921"
             ]
            ],
            "type": "histogram2d"
           }
          ],
          "histogram2dcontour": [
           {
            "colorbar": {
             "outlinewidth": 0,
             "ticks": ""
            },
            "colorscale": [
             [
              0,
              "#0d0887"
             ],
             [
              0.1111111111111111,
              "#46039f"
             ],
             [
              0.2222222222222222,
              "#7201a8"
             ],
             [
              0.3333333333333333,
              "#9c179e"
             ],
             [
              0.4444444444444444,
              "#bd3786"
             ],
             [
              0.5555555555555556,
              "#d8576b"
             ],
             [
              0.6666666666666666,
              "#ed7953"
             ],
             [
              0.7777777777777778,
              "#fb9f3a"
             ],
             [
              0.8888888888888888,
              "#fdca26"
             ],
             [
              1,
              "#f0f921"
             ]
            ],
            "type": "histogram2dcontour"
           }
          ],
          "mesh3d": [
           {
            "colorbar": {
             "outlinewidth": 0,
             "ticks": ""
            },
            "type": "mesh3d"
           }
          ],
          "parcoords": [
           {
            "line": {
             "colorbar": {
              "outlinewidth": 0,
              "ticks": ""
             }
            },
            "type": "parcoords"
           }
          ],
          "pie": [
           {
            "automargin": true,
            "type": "pie"
           }
          ],
          "scatter": [
           {
            "fillpattern": {
             "fillmode": "overlay",
             "size": 10,
             "solidity": 0.2
            },
            "type": "scatter"
           }
          ],
          "scatter3d": [
           {
            "line": {
             "colorbar": {
              "outlinewidth": 0,
              "ticks": ""
             }
            },
            "marker": {
             "colorbar": {
              "outlinewidth": 0,
              "ticks": ""
             }
            },
            "type": "scatter3d"
           }
          ],
          "scattercarpet": [
           {
            "marker": {
             "colorbar": {
              "outlinewidth": 0,
              "ticks": ""
             }
            },
            "type": "scattercarpet"
           }
          ],
          "scattergeo": [
           {
            "marker": {
             "colorbar": {
              "outlinewidth": 0,
              "ticks": ""
             }
            },
            "type": "scattergeo"
           }
          ],
          "scattergl": [
           {
            "marker": {
             "colorbar": {
              "outlinewidth": 0,
              "ticks": ""
             }
            },
            "type": "scattergl"
           }
          ],
          "scattermapbox": [
           {
            "marker": {
             "colorbar": {
              "outlinewidth": 0,
              "ticks": ""
             }
            },
            "type": "scattermapbox"
           }
          ],
          "scatterpolar": [
           {
            "marker": {
             "colorbar": {
              "outlinewidth": 0,
              "ticks": ""
             }
            },
            "type": "scatterpolar"
           }
          ],
          "scatterpolargl": [
           {
            "marker": {
             "colorbar": {
              "outlinewidth": 0,
              "ticks": ""
             }
            },
            "type": "scatterpolargl"
           }
          ],
          "scatterternary": [
           {
            "marker": {
             "colorbar": {
              "outlinewidth": 0,
              "ticks": ""
             }
            },
            "type": "scatterternary"
           }
          ],
          "surface": [
           {
            "colorbar": {
             "outlinewidth": 0,
             "ticks": ""
            },
            "colorscale": [
             [
              0,
              "#0d0887"
             ],
             [
              0.1111111111111111,
              "#46039f"
             ],
             [
              0.2222222222222222,
              "#7201a8"
             ],
             [
              0.3333333333333333,
              "#9c179e"
             ],
             [
              0.4444444444444444,
              "#bd3786"
             ],
             [
              0.5555555555555556,
              "#d8576b"
             ],
             [
              0.6666666666666666,
              "#ed7953"
             ],
             [
              0.7777777777777778,
              "#fb9f3a"
             ],
             [
              0.8888888888888888,
              "#fdca26"
             ],
             [
              1,
              "#f0f921"
             ]
            ],
            "type": "surface"
           }
          ],
          "table": [
           {
            "cells": {
             "fill": {
              "color": "#EBF0F8"
             },
             "line": {
              "color": "white"
             }
            },
            "header": {
             "fill": {
              "color": "#C8D4E3"
             },
             "line": {
              "color": "white"
             }
            },
            "type": "table"
           }
          ]
         },
         "layout": {
          "annotationdefaults": {
           "arrowcolor": "#2a3f5f",
           "arrowhead": 0,
           "arrowwidth": 1
          },
          "autotypenumbers": "strict",
          "coloraxis": {
           "colorbar": {
            "outlinewidth": 0,
            "ticks": ""
           }
          },
          "colorscale": {
           "diverging": [
            [
             0,
             "#8e0152"
            ],
            [
             0.1,
             "#c51b7d"
            ],
            [
             0.2,
             "#de77ae"
            ],
            [
             0.3,
             "#f1b6da"
            ],
            [
             0.4,
             "#fde0ef"
            ],
            [
             0.5,
             "#f7f7f7"
            ],
            [
             0.6,
             "#e6f5d0"
            ],
            [
             0.7,
             "#b8e186"
            ],
            [
             0.8,
             "#7fbc41"
            ],
            [
             0.9,
             "#4d9221"
            ],
            [
             1,
             "#276419"
            ]
           ],
           "sequential": [
            [
             0,
             "#0d0887"
            ],
            [
             0.1111111111111111,
             "#46039f"
            ],
            [
             0.2222222222222222,
             "#7201a8"
            ],
            [
             0.3333333333333333,
             "#9c179e"
            ],
            [
             0.4444444444444444,
             "#bd3786"
            ],
            [
             0.5555555555555556,
             "#d8576b"
            ],
            [
             0.6666666666666666,
             "#ed7953"
            ],
            [
             0.7777777777777778,
             "#fb9f3a"
            ],
            [
             0.8888888888888888,
             "#fdca26"
            ],
            [
             1,
             "#f0f921"
            ]
           ],
           "sequentialminus": [
            [
             0,
             "#0d0887"
            ],
            [
             0.1111111111111111,
             "#46039f"
            ],
            [
             0.2222222222222222,
             "#7201a8"
            ],
            [
             0.3333333333333333,
             "#9c179e"
            ],
            [
             0.4444444444444444,
             "#bd3786"
            ],
            [
             0.5555555555555556,
             "#d8576b"
            ],
            [
             0.6666666666666666,
             "#ed7953"
            ],
            [
             0.7777777777777778,
             "#fb9f3a"
            ],
            [
             0.8888888888888888,
             "#fdca26"
            ],
            [
             1,
             "#f0f921"
            ]
           ]
          },
          "colorway": [
           "#636efa",
           "#EF553B",
           "#00cc96",
           "#ab63fa",
           "#FFA15A",
           "#19d3f3",
           "#FF6692",
           "#B6E880",
           "#FF97FF",
           "#FECB52"
          ],
          "font": {
           "color": "#2a3f5f"
          },
          "geo": {
           "bgcolor": "white",
           "lakecolor": "white",
           "landcolor": "#E5ECF6",
           "showlakes": true,
           "showland": true,
           "subunitcolor": "white"
          },
          "hoverlabel": {
           "align": "left"
          },
          "hovermode": "closest",
          "mapbox": {
           "style": "light"
          },
          "paper_bgcolor": "white",
          "plot_bgcolor": "#E5ECF6",
          "polar": {
           "angularaxis": {
            "gridcolor": "white",
            "linecolor": "white",
            "ticks": ""
           },
           "bgcolor": "#E5ECF6",
           "radialaxis": {
            "gridcolor": "white",
            "linecolor": "white",
            "ticks": ""
           }
          },
          "scene": {
           "xaxis": {
            "backgroundcolor": "#E5ECF6",
            "gridcolor": "white",
            "gridwidth": 2,
            "linecolor": "white",
            "showbackground": true,
            "ticks": "",
            "zerolinecolor": "white"
           },
           "yaxis": {
            "backgroundcolor": "#E5ECF6",
            "gridcolor": "white",
            "gridwidth": 2,
            "linecolor": "white",
            "showbackground": true,
            "ticks": "",
            "zerolinecolor": "white"
           },
           "zaxis": {
            "backgroundcolor": "#E5ECF6",
            "gridcolor": "white",
            "gridwidth": 2,
            "linecolor": "white",
            "showbackground": true,
            "ticks": "",
            "zerolinecolor": "white"
           }
          },
          "shapedefaults": {
           "line": {
            "color": "#2a3f5f"
           }
          },
          "ternary": {
           "aaxis": {
            "gridcolor": "white",
            "linecolor": "white",
            "ticks": ""
           },
           "baxis": {
            "gridcolor": "white",
            "linecolor": "white",
            "ticks": ""
           },
           "bgcolor": "#E5ECF6",
           "caxis": {
            "gridcolor": "white",
            "linecolor": "white",
            "ticks": ""
           }
          },
          "title": {
           "x": 0.05
          },
          "xaxis": {
           "automargin": true,
           "gridcolor": "white",
           "linecolor": "white",
           "ticks": "",
           "title": {
            "standoff": 15
           },
           "zerolinecolor": "white",
           "zerolinewidth": 2
          },
          "yaxis": {
           "automargin": true,
           "gridcolor": "white",
           "linecolor": "white",
           "ticks": "",
           "title": {
            "standoff": 15
           },
           "zerolinecolor": "white",
           "zerolinewidth": 2
          }
         }
        },
        "title": {
         "text": "Top 10 Brands based on Number of Reviews across Different Retailers"
        },
        "uniformtext": {
         "minsize": 8,
         "mode": "hide"
        },
        "xaxis": {
         "anchor": "y",
         "categoryorder": "total descending",
         "domain": [
          0,
          1
         ],
         "title": {
          "text": "TV Brand"
         }
        },
        "yaxis": {
         "anchor": "x",
         "domain": [
          0,
          1
         ],
         "title": {
          "text": "Number of Reviews"
         }
        }
       }
      }
     },
     "metadata": {},
     "output_type": "display_data"
    }
   ],
   "source": [
    "aggregated_data = []\n",
    "for retailer, df in datasets.items():\n",
    "    grouped = df.groupby('Brand')['Review Number'].sum().reset_index()\n",
    "    grouped['Retailer'] = retailer\n",
    "    aggregated_data.append(grouped)\n",
    "\n",
    "# Concatenate the aggregated data\n",
    "aggregated_df = pd.concat(aggregated_data, axis=0, ignore_index=True)\n",
    "\n",
    "top_brands = aggregated_df.groupby('Brand')['Review Number'].sum().reset_index()\n",
    "top_brands = top_brands.sort_values(by='Review Number', ascending=False).head(10)['Brand'].tolist()\n",
    "\n",
    "filtered_df = aggregated_df[aggregated_df['Brand'].isin(top_brands)]\n",
    "\n",
    "fig = px.bar(\n",
    "    filtered_df, x='Brand', y='Review Number', color='Retailer', text='Review Number',\n",
    "    title='Top 10 Brands based on Number of Reviews across Different Retailers',\n",
    "    labels={'Review Number': 'Number of Reviews', 'Brand': 'TV Brand'},\n",
    "    color_discrete_sequence=px.colors.qualitative.Set3\n",
    ")\n",
    "\n",
    "fig.update_layout(showlegend=True, xaxis_title='TV Brand', yaxis_title='Number of Reviews',\n",
    "                  xaxis={'categoryorder': 'total descending'},\n",
    "                  uniformtext_minsize=8, uniformtext_mode='hide')\n",
    "fig.update_traces(texttemplate='%{text:.2s}', textposition='outside')\n",
    "\n",
    "fig.show()"
   ]
  },
  {
   "cell_type": "code",
   "execution_count": 3,
   "metadata": {},
   "outputs": [],
   "source": [
    "go.Figure(fig).write_html(\"eda_plots/iDC_plot1.html\", auto_open=True)"
   ]
  },
  {
   "cell_type": "code",
   "execution_count": 4,
   "metadata": {},
   "outputs": [
    {
     "data": {
      "application/vnd.plotly.v1+json": {
       "config": {
        "plotlyServerURL": "https://plot.ly"
       },
       "data": [
        {
         "customdata": [
          [
           "Samsung"
          ],
          [
           "Vizio"
          ],
          [
           "LG"
          ],
          [
           "TCL"
          ],
          [
           "Insignia"
          ],
          [
           "Sony"
          ],
          [
           "Hisense"
          ],
          [
           "Sceptre"
          ],
          [
           "Toshiba"
          ],
          [
           "Other"
          ]
         ],
         "domain": {
          "x": [
           0,
           1
          ],
          "y": [
           0,
           1
          ]
         },
         "hovertemplate": "Brand=%{customdata[0]}<br>Review Number=%{value}<extra></extra>",
         "labels": [
          "Samsung",
          "Vizio",
          "LG",
          "TCL",
          "Insignia",
          "Sony",
          "Hisense",
          "Sceptre",
          "Toshiba",
          "Other"
         ],
         "legendgroup": "",
         "marker": {
          "colors": [
           "rgb(141,211,199)",
           "rgb(255,255,179)",
           "rgb(190,186,218)",
           "rgb(251,128,114)",
           "rgb(128,177,211)",
           "rgb(253,180,98)",
           "rgb(179,222,105)",
           "rgb(252,205,229)",
           "rgb(217,217,217)",
           "rgb(188,128,189)"
          ]
         },
         "name": "",
         "pull": [
          0.1,
          0.1,
          0.1,
          0.1,
          0.1,
          0.1,
          0.1,
          0.1,
          0.1,
          0.1
         ],
         "showlegend": true,
         "textinfo": "percent+label",
         "type": "pie",
         "values": [
          204235,
          174853,
          71145,
          63715,
          48124,
          30440,
          27504,
          20776,
          9917,
          8178
         ]
        }
       ],
       "layout": {
        "legend": {
         "tracegroupgap": 0
        },
        "piecolorway": [
         "rgb(141,211,199)",
         "rgb(255,255,179)",
         "rgb(190,186,218)",
         "rgb(251,128,114)",
         "rgb(128,177,211)",
         "rgb(253,180,98)",
         "rgb(179,222,105)",
         "rgb(252,205,229)",
         "rgb(217,217,217)",
         "rgb(188,128,189)",
         "rgb(204,235,197)",
         "rgb(255,237,111)"
        ],
        "showlegend": true,
        "template": {
         "data": {
          "bar": [
           {
            "error_x": {
             "color": "#2a3f5f"
            },
            "error_y": {
             "color": "#2a3f5f"
            },
            "marker": {
             "line": {
              "color": "#E5ECF6",
              "width": 0.5
             },
             "pattern": {
              "fillmode": "overlay",
              "size": 10,
              "solidity": 0.2
             }
            },
            "type": "bar"
           }
          ],
          "barpolar": [
           {
            "marker": {
             "line": {
              "color": "#E5ECF6",
              "width": 0.5
             },
             "pattern": {
              "fillmode": "overlay",
              "size": 10,
              "solidity": 0.2
             }
            },
            "type": "barpolar"
           }
          ],
          "carpet": [
           {
            "aaxis": {
             "endlinecolor": "#2a3f5f",
             "gridcolor": "white",
             "linecolor": "white",
             "minorgridcolor": "white",
             "startlinecolor": "#2a3f5f"
            },
            "baxis": {
             "endlinecolor": "#2a3f5f",
             "gridcolor": "white",
             "linecolor": "white",
             "minorgridcolor": "white",
             "startlinecolor": "#2a3f5f"
            },
            "type": "carpet"
           }
          ],
          "choropleth": [
           {
            "colorbar": {
             "outlinewidth": 0,
             "ticks": ""
            },
            "type": "choropleth"
           }
          ],
          "contour": [
           {
            "colorbar": {
             "outlinewidth": 0,
             "ticks": ""
            },
            "colorscale": [
             [
              0,
              "#0d0887"
             ],
             [
              0.1111111111111111,
              "#46039f"
             ],
             [
              0.2222222222222222,
              "#7201a8"
             ],
             [
              0.3333333333333333,
              "#9c179e"
             ],
             [
              0.4444444444444444,
              "#bd3786"
             ],
             [
              0.5555555555555556,
              "#d8576b"
             ],
             [
              0.6666666666666666,
              "#ed7953"
             ],
             [
              0.7777777777777778,
              "#fb9f3a"
             ],
             [
              0.8888888888888888,
              "#fdca26"
             ],
             [
              1,
              "#f0f921"
             ]
            ],
            "type": "contour"
           }
          ],
          "contourcarpet": [
           {
            "colorbar": {
             "outlinewidth": 0,
             "ticks": ""
            },
            "type": "contourcarpet"
           }
          ],
          "heatmap": [
           {
            "colorbar": {
             "outlinewidth": 0,
             "ticks": ""
            },
            "colorscale": [
             [
              0,
              "#0d0887"
             ],
             [
              0.1111111111111111,
              "#46039f"
             ],
             [
              0.2222222222222222,
              "#7201a8"
             ],
             [
              0.3333333333333333,
              "#9c179e"
             ],
             [
              0.4444444444444444,
              "#bd3786"
             ],
             [
              0.5555555555555556,
              "#d8576b"
             ],
             [
              0.6666666666666666,
              "#ed7953"
             ],
             [
              0.7777777777777778,
              "#fb9f3a"
             ],
             [
              0.8888888888888888,
              "#fdca26"
             ],
             [
              1,
              "#f0f921"
             ]
            ],
            "type": "heatmap"
           }
          ],
          "heatmapgl": [
           {
            "colorbar": {
             "outlinewidth": 0,
             "ticks": ""
            },
            "colorscale": [
             [
              0,
              "#0d0887"
             ],
             [
              0.1111111111111111,
              "#46039f"
             ],
             [
              0.2222222222222222,
              "#7201a8"
             ],
             [
              0.3333333333333333,
              "#9c179e"
             ],
             [
              0.4444444444444444,
              "#bd3786"
             ],
             [
              0.5555555555555556,
              "#d8576b"
             ],
             [
              0.6666666666666666,
              "#ed7953"
             ],
             [
              0.7777777777777778,
              "#fb9f3a"
             ],
             [
              0.8888888888888888,
              "#fdca26"
             ],
             [
              1,
              "#f0f921"
             ]
            ],
            "type": "heatmapgl"
           }
          ],
          "histogram": [
           {
            "marker": {
             "pattern": {
              "fillmode": "overlay",
              "size": 10,
              "solidity": 0.2
             }
            },
            "type": "histogram"
           }
          ],
          "histogram2d": [
           {
            "colorbar": {
             "outlinewidth": 0,
             "ticks": ""
            },
            "colorscale": [
             [
              0,
              "#0d0887"
             ],
             [
              0.1111111111111111,
              "#46039f"
             ],
             [
              0.2222222222222222,
              "#7201a8"
             ],
             [
              0.3333333333333333,
              "#9c179e"
             ],
             [
              0.4444444444444444,
              "#bd3786"
             ],
             [
              0.5555555555555556,
              "#d8576b"
             ],
             [
              0.6666666666666666,
              "#ed7953"
             ],
             [
              0.7777777777777778,
              "#fb9f3a"
             ],
             [
              0.8888888888888888,
              "#fdca26"
             ],
             [
              1,
              "#f0f921"
             ]
            ],
            "type": "histogram2d"
           }
          ],
          "histogram2dcontour": [
           {
            "colorbar": {
             "outlinewidth": 0,
             "ticks": ""
            },
            "colorscale": [
             [
              0,
              "#0d0887"
             ],
             [
              0.1111111111111111,
              "#46039f"
             ],
             [
              0.2222222222222222,
              "#7201a8"
             ],
             [
              0.3333333333333333,
              "#9c179e"
             ],
             [
              0.4444444444444444,
              "#bd3786"
             ],
             [
              0.5555555555555556,
              "#d8576b"
             ],
             [
              0.6666666666666666,
              "#ed7953"
             ],
             [
              0.7777777777777778,
              "#fb9f3a"
             ],
             [
              0.8888888888888888,
              "#fdca26"
             ],
             [
              1,
              "#f0f921"
             ]
            ],
            "type": "histogram2dcontour"
           }
          ],
          "mesh3d": [
           {
            "colorbar": {
             "outlinewidth": 0,
             "ticks": ""
            },
            "type": "mesh3d"
           }
          ],
          "parcoords": [
           {
            "line": {
             "colorbar": {
              "outlinewidth": 0,
              "ticks": ""
             }
            },
            "type": "parcoords"
           }
          ],
          "pie": [
           {
            "automargin": true,
            "type": "pie"
           }
          ],
          "scatter": [
           {
            "fillpattern": {
             "fillmode": "overlay",
             "size": 10,
             "solidity": 0.2
            },
            "type": "scatter"
           }
          ],
          "scatter3d": [
           {
            "line": {
             "colorbar": {
              "outlinewidth": 0,
              "ticks": ""
             }
            },
            "marker": {
             "colorbar": {
              "outlinewidth": 0,
              "ticks": ""
             }
            },
            "type": "scatter3d"
           }
          ],
          "scattercarpet": [
           {
            "marker": {
             "colorbar": {
              "outlinewidth": 0,
              "ticks": ""
             }
            },
            "type": "scattercarpet"
           }
          ],
          "scattergeo": [
           {
            "marker": {
             "colorbar": {
              "outlinewidth": 0,
              "ticks": ""
             }
            },
            "type": "scattergeo"
           }
          ],
          "scattergl": [
           {
            "marker": {
             "colorbar": {
              "outlinewidth": 0,
              "ticks": ""
             }
            },
            "type": "scattergl"
           }
          ],
          "scattermapbox": [
           {
            "marker": {
             "colorbar": {
              "outlinewidth": 0,
              "ticks": ""
             }
            },
            "type": "scattermapbox"
           }
          ],
          "scatterpolar": [
           {
            "marker": {
             "colorbar": {
              "outlinewidth": 0,
              "ticks": ""
             }
            },
            "type": "scatterpolar"
           }
          ],
          "scatterpolargl": [
           {
            "marker": {
             "colorbar": {
              "outlinewidth": 0,
              "ticks": ""
             }
            },
            "type": "scatterpolargl"
           }
          ],
          "scatterternary": [
           {
            "marker": {
             "colorbar": {
              "outlinewidth": 0,
              "ticks": ""
             }
            },
            "type": "scatterternary"
           }
          ],
          "surface": [
           {
            "colorbar": {
             "outlinewidth": 0,
             "ticks": ""
            },
            "colorscale": [
             [
              0,
              "#0d0887"
             ],
             [
              0.1111111111111111,
              "#46039f"
             ],
             [
              0.2222222222222222,
              "#7201a8"
             ],
             [
              0.3333333333333333,
              "#9c179e"
             ],
             [
              0.4444444444444444,
              "#bd3786"
             ],
             [
              0.5555555555555556,
              "#d8576b"
             ],
             [
              0.6666666666666666,
              "#ed7953"
             ],
             [
              0.7777777777777778,
              "#fb9f3a"
             ],
             [
              0.8888888888888888,
              "#fdca26"
             ],
             [
              1,
              "#f0f921"
             ]
            ],
            "type": "surface"
           }
          ],
          "table": [
           {
            "cells": {
             "fill": {
              "color": "#EBF0F8"
             },
             "line": {
              "color": "white"
             }
            },
            "header": {
             "fill": {
              "color": "#C8D4E3"
             },
             "line": {
              "color": "white"
             }
            },
            "type": "table"
           }
          ]
         },
         "layout": {
          "annotationdefaults": {
           "arrowcolor": "#2a3f5f",
           "arrowhead": 0,
           "arrowwidth": 1
          },
          "autotypenumbers": "strict",
          "coloraxis": {
           "colorbar": {
            "outlinewidth": 0,
            "ticks": ""
           }
          },
          "colorscale": {
           "diverging": [
            [
             0,
             "#8e0152"
            ],
            [
             0.1,
             "#c51b7d"
            ],
            [
             0.2,
             "#de77ae"
            ],
            [
             0.3,
             "#f1b6da"
            ],
            [
             0.4,
             "#fde0ef"
            ],
            [
             0.5,
             "#f7f7f7"
            ],
            [
             0.6,
             "#e6f5d0"
            ],
            [
             0.7,
             "#b8e186"
            ],
            [
             0.8,
             "#7fbc41"
            ],
            [
             0.9,
             "#4d9221"
            ],
            [
             1,
             "#276419"
            ]
           ],
           "sequential": [
            [
             0,
             "#0d0887"
            ],
            [
             0.1111111111111111,
             "#46039f"
            ],
            [
             0.2222222222222222,
             "#7201a8"
            ],
            [
             0.3333333333333333,
             "#9c179e"
            ],
            [
             0.4444444444444444,
             "#bd3786"
            ],
            [
             0.5555555555555556,
             "#d8576b"
            ],
            [
             0.6666666666666666,
             "#ed7953"
            ],
            [
             0.7777777777777778,
             "#fb9f3a"
            ],
            [
             0.8888888888888888,
             "#fdca26"
            ],
            [
             1,
             "#f0f921"
            ]
           ],
           "sequentialminus": [
            [
             0,
             "#0d0887"
            ],
            [
             0.1111111111111111,
             "#46039f"
            ],
            [
             0.2222222222222222,
             "#7201a8"
            ],
            [
             0.3333333333333333,
             "#9c179e"
            ],
            [
             0.4444444444444444,
             "#bd3786"
            ],
            [
             0.5555555555555556,
             "#d8576b"
            ],
            [
             0.6666666666666666,
             "#ed7953"
            ],
            [
             0.7777777777777778,
             "#fb9f3a"
            ],
            [
             0.8888888888888888,
             "#fdca26"
            ],
            [
             1,
             "#f0f921"
            ]
           ]
          },
          "colorway": [
           "#636efa",
           "#EF553B",
           "#00cc96",
           "#ab63fa",
           "#FFA15A",
           "#19d3f3",
           "#FF6692",
           "#B6E880",
           "#FF97FF",
           "#FECB52"
          ],
          "font": {
           "color": "#2a3f5f"
          },
          "geo": {
           "bgcolor": "white",
           "lakecolor": "white",
           "landcolor": "#E5ECF6",
           "showlakes": true,
           "showland": true,
           "subunitcolor": "white"
          },
          "hoverlabel": {
           "align": "left"
          },
          "hovermode": "closest",
          "mapbox": {
           "style": "light"
          },
          "paper_bgcolor": "white",
          "plot_bgcolor": "#E5ECF6",
          "polar": {
           "angularaxis": {
            "gridcolor": "white",
            "linecolor": "white",
            "ticks": ""
           },
           "bgcolor": "#E5ECF6",
           "radialaxis": {
            "gridcolor": "white",
            "linecolor": "white",
            "ticks": ""
           }
          },
          "scene": {
           "xaxis": {
            "backgroundcolor": "#E5ECF6",
            "gridcolor": "white",
            "gridwidth": 2,
            "linecolor": "white",
            "showbackground": true,
            "ticks": "",
            "zerolinecolor": "white"
           },
           "yaxis": {
            "backgroundcolor": "#E5ECF6",
            "gridcolor": "white",
            "gridwidth": 2,
            "linecolor": "white",
            "showbackground": true,
            "ticks": "",
            "zerolinecolor": "white"
           },
           "zaxis": {
            "backgroundcolor": "#E5ECF6",
            "gridcolor": "white",
            "gridwidth": 2,
            "linecolor": "white",
            "showbackground": true,
            "ticks": "",
            "zerolinecolor": "white"
           }
          },
          "shapedefaults": {
           "line": {
            "color": "#2a3f5f"
           }
          },
          "ternary": {
           "aaxis": {
            "gridcolor": "white",
            "linecolor": "white",
            "ticks": ""
           },
           "baxis": {
            "gridcolor": "white",
            "linecolor": "white",
            "ticks": ""
           },
           "bgcolor": "#E5ECF6",
           "caxis": {
            "gridcolor": "white",
            "linecolor": "white",
            "ticks": ""
           }
          },
          "title": {
           "x": 0.05
          },
          "xaxis": {
           "automargin": true,
           "gridcolor": "white",
           "linecolor": "white",
           "ticks": "",
           "title": {
            "standoff": 15
           },
           "zerolinecolor": "white",
           "zerolinewidth": 2
          },
          "yaxis": {
           "automargin": true,
           "gridcolor": "white",
           "linecolor": "white",
           "ticks": "",
           "title": {
            "standoff": 15
           },
           "zerolinecolor": "white",
           "zerolinewidth": 2
          }
         }
        },
        "title": {
         "text": "Distribution of Reviews among Top 10 Brands"
        }
       }
      }
     },
     "metadata": {},
     "output_type": "display_data"
    }
   ],
   "source": [
    "filtered_df = aggregated_df[aggregated_df['Brand'].isin(top_brands)]\n",
    "\n",
    "pie_data = filtered_df.groupby('Brand')['Review Number'].sum().reset_index()\n",
    "\n",
    "pie_data = pie_data.sort_values(by='Review Number', ascending=False)\n",
    "\n",
    "fig = px.pie(\n",
    "    pie_data, names='Brand', values='Review Number',\n",
    "    title='Distribution of Reviews among Top 10 Brands',\n",
    "    color='Brand', color_discrete_sequence=px.colors.qualitative.Set3\n",
    ")\n",
    "\n",
    "fig.update_traces(textinfo='percent+label', pull=[0.1, 0.1, 0.1, 0.1, 0.1, 0.1, 0.1, 0.1, 0.1, 0.1])\n",
    "fig.update_layout(showlegend=True)\n",
    "\n",
    "fig.show()"
   ]
  },
  {
   "cell_type": "code",
   "execution_count": 5,
   "metadata": {},
   "outputs": [],
   "source": [
    "go.Figure(fig).write_html(\"eda_plots/iDC_plot2.html\", auto_open=True)"
   ]
  },
  {
   "cell_type": "markdown",
   "metadata": {},
   "source": [
    "Samsung is the top seller, with the most reviews, followed by Vizio in second place. Together, they hold more than 55% of the market, showing their strong influence on customer choices and market trends."
   ]
  },
  {
   "cell_type": "markdown",
   "metadata": {},
   "source": [
    "#### 1.2 Retailer Performance Analysis:"
   ]
  },
  {
   "cell_type": "code",
   "execution_count": 6,
   "metadata": {},
   "outputs": [
    {
     "data": {
      "application/vnd.plotly.v1+json": {
       "config": {
        "plotlyServerURL": "https://plot.ly"
       },
       "data": [
        {
         "alignmentgroup": "True",
         "hovertemplate": "Retailer=%{x}<br>Number of Reviews=%{text}<extra></extra>",
         "legendgroup": "Amazon",
         "marker": {
          "color": "rgb(141,211,199)",
          "pattern": {
           "shape": ""
          }
         },
         "name": "Amazon",
         "offsetgroup": "Amazon",
         "orientation": "v",
         "showlegend": true,
         "text": [
          28561
         ],
         "textposition": "auto",
         "texttemplate": "%{text:.2s}",
         "type": "bar",
         "x": [
          "Amazon"
         ],
         "xaxis": "x",
         "y": [
          28561
         ],
         "yaxis": "y"
        },
        {
         "alignmentgroup": "True",
         "hovertemplate": "Retailer=%{x}<br>Number of Reviews=%{text}<extra></extra>",
         "legendgroup": "BestBuy",
         "marker": {
          "color": "rgb(255,255,179)",
          "pattern": {
           "shape": ""
          }
         },
         "name": "BestBuy",
         "offsetgroup": "BestBuy",
         "orientation": "v",
         "showlegend": true,
         "text": [
          245118
         ],
         "textposition": "auto",
         "texttemplate": "%{text:.2s}",
         "type": "bar",
         "x": [
          "BestBuy"
         ],
         "xaxis": "x",
         "y": [
          245118
         ],
         "yaxis": "y"
        },
        {
         "alignmentgroup": "True",
         "hovertemplate": "Retailer=%{x}<br>Number of Reviews=%{text}<extra></extra>",
         "legendgroup": "Costco",
         "marker": {
          "color": "rgb(190,186,218)",
          "pattern": {
           "shape": ""
          }
         },
         "name": "Costco",
         "offsetgroup": "Costco",
         "orientation": "v",
         "showlegend": true,
         "text": [
          3914
         ],
         "textposition": "auto",
         "texttemplate": "%{text:.2s}",
         "type": "bar",
         "x": [
          "Costco"
         ],
         "xaxis": "x",
         "y": [
          3914
         ],
         "yaxis": "y"
        },
        {
         "alignmentgroup": "True",
         "hovertemplate": "Retailer=%{x}<br>Number of Reviews=%{text}<extra></extra>",
         "legendgroup": "Walmart",
         "marker": {
          "color": "rgb(251,128,114)",
          "pattern": {
           "shape": ""
          }
         },
         "name": "Walmart",
         "offsetgroup": "Walmart",
         "orientation": "v",
         "showlegend": true,
         "text": [
          411586
         ],
         "textposition": "auto",
         "texttemplate": "%{text:.2s}",
         "type": "bar",
         "x": [
          "Walmart"
         ],
         "xaxis": "x",
         "y": [
          411586
         ],
         "yaxis": "y"
        }
       ],
       "layout": {
        "bargap": 0.5,
        "barmode": "relative",
        "legend": {
         "title": {
          "text": "Retailer"
         },
         "tracegroupgap": 0
        },
        "showlegend": true,
        "template": {
         "data": {
          "bar": [
           {
            "error_x": {
             "color": "#2a3f5f"
            },
            "error_y": {
             "color": "#2a3f5f"
            },
            "marker": {
             "line": {
              "color": "#E5ECF6",
              "width": 0.5
             },
             "pattern": {
              "fillmode": "overlay",
              "size": 10,
              "solidity": 0.2
             }
            },
            "type": "bar"
           }
          ],
          "barpolar": [
           {
            "marker": {
             "line": {
              "color": "#E5ECF6",
              "width": 0.5
             },
             "pattern": {
              "fillmode": "overlay",
              "size": 10,
              "solidity": 0.2
             }
            },
            "type": "barpolar"
           }
          ],
          "carpet": [
           {
            "aaxis": {
             "endlinecolor": "#2a3f5f",
             "gridcolor": "white",
             "linecolor": "white",
             "minorgridcolor": "white",
             "startlinecolor": "#2a3f5f"
            },
            "baxis": {
             "endlinecolor": "#2a3f5f",
             "gridcolor": "white",
             "linecolor": "white",
             "minorgridcolor": "white",
             "startlinecolor": "#2a3f5f"
            },
            "type": "carpet"
           }
          ],
          "choropleth": [
           {
            "colorbar": {
             "outlinewidth": 0,
             "ticks": ""
            },
            "type": "choropleth"
           }
          ],
          "contour": [
           {
            "colorbar": {
             "outlinewidth": 0,
             "ticks": ""
            },
            "colorscale": [
             [
              0,
              "#0d0887"
             ],
             [
              0.1111111111111111,
              "#46039f"
             ],
             [
              0.2222222222222222,
              "#7201a8"
             ],
             [
              0.3333333333333333,
              "#9c179e"
             ],
             [
              0.4444444444444444,
              "#bd3786"
             ],
             [
              0.5555555555555556,
              "#d8576b"
             ],
             [
              0.6666666666666666,
              "#ed7953"
             ],
             [
              0.7777777777777778,
              "#fb9f3a"
             ],
             [
              0.8888888888888888,
              "#fdca26"
             ],
             [
              1,
              "#f0f921"
             ]
            ],
            "type": "contour"
           }
          ],
          "contourcarpet": [
           {
            "colorbar": {
             "outlinewidth": 0,
             "ticks": ""
            },
            "type": "contourcarpet"
           }
          ],
          "heatmap": [
           {
            "colorbar": {
             "outlinewidth": 0,
             "ticks": ""
            },
            "colorscale": [
             [
              0,
              "#0d0887"
             ],
             [
              0.1111111111111111,
              "#46039f"
             ],
             [
              0.2222222222222222,
              "#7201a8"
             ],
             [
              0.3333333333333333,
              "#9c179e"
             ],
             [
              0.4444444444444444,
              "#bd3786"
             ],
             [
              0.5555555555555556,
              "#d8576b"
             ],
             [
              0.6666666666666666,
              "#ed7953"
             ],
             [
              0.7777777777777778,
              "#fb9f3a"
             ],
             [
              0.8888888888888888,
              "#fdca26"
             ],
             [
              1,
              "#f0f921"
             ]
            ],
            "type": "heatmap"
           }
          ],
          "heatmapgl": [
           {
            "colorbar": {
             "outlinewidth": 0,
             "ticks": ""
            },
            "colorscale": [
             [
              0,
              "#0d0887"
             ],
             [
              0.1111111111111111,
              "#46039f"
             ],
             [
              0.2222222222222222,
              "#7201a8"
             ],
             [
              0.3333333333333333,
              "#9c179e"
             ],
             [
              0.4444444444444444,
              "#bd3786"
             ],
             [
              0.5555555555555556,
              "#d8576b"
             ],
             [
              0.6666666666666666,
              "#ed7953"
             ],
             [
              0.7777777777777778,
              "#fb9f3a"
             ],
             [
              0.8888888888888888,
              "#fdca26"
             ],
             [
              1,
              "#f0f921"
             ]
            ],
            "type": "heatmapgl"
           }
          ],
          "histogram": [
           {
            "marker": {
             "pattern": {
              "fillmode": "overlay",
              "size": 10,
              "solidity": 0.2
             }
            },
            "type": "histogram"
           }
          ],
          "histogram2d": [
           {
            "colorbar": {
             "outlinewidth": 0,
             "ticks": ""
            },
            "colorscale": [
             [
              0,
              "#0d0887"
             ],
             [
              0.1111111111111111,
              "#46039f"
             ],
             [
              0.2222222222222222,
              "#7201a8"
             ],
             [
              0.3333333333333333,
              "#9c179e"
             ],
             [
              0.4444444444444444,
              "#bd3786"
             ],
             [
              0.5555555555555556,
              "#d8576b"
             ],
             [
              0.6666666666666666,
              "#ed7953"
             ],
             [
              0.7777777777777778,
              "#fb9f3a"
             ],
             [
              0.8888888888888888,
              "#fdca26"
             ],
             [
              1,
              "#f0f921"
             ]
            ],
            "type": "histogram2d"
           }
          ],
          "histogram2dcontour": [
           {
            "colorbar": {
             "outlinewidth": 0,
             "ticks": ""
            },
            "colorscale": [
             [
              0,
              "#0d0887"
             ],
             [
              0.1111111111111111,
              "#46039f"
             ],
             [
              0.2222222222222222,
              "#7201a8"
             ],
             [
              0.3333333333333333,
              "#9c179e"
             ],
             [
              0.4444444444444444,
              "#bd3786"
             ],
             [
              0.5555555555555556,
              "#d8576b"
             ],
             [
              0.6666666666666666,
              "#ed7953"
             ],
             [
              0.7777777777777778,
              "#fb9f3a"
             ],
             [
              0.8888888888888888,
              "#fdca26"
             ],
             [
              1,
              "#f0f921"
             ]
            ],
            "type": "histogram2dcontour"
           }
          ],
          "mesh3d": [
           {
            "colorbar": {
             "outlinewidth": 0,
             "ticks": ""
            },
            "type": "mesh3d"
           }
          ],
          "parcoords": [
           {
            "line": {
             "colorbar": {
              "outlinewidth": 0,
              "ticks": ""
             }
            },
            "type": "parcoords"
           }
          ],
          "pie": [
           {
            "automargin": true,
            "type": "pie"
           }
          ],
          "scatter": [
           {
            "fillpattern": {
             "fillmode": "overlay",
             "size": 10,
             "solidity": 0.2
            },
            "type": "scatter"
           }
          ],
          "scatter3d": [
           {
            "line": {
             "colorbar": {
              "outlinewidth": 0,
              "ticks": ""
             }
            },
            "marker": {
             "colorbar": {
              "outlinewidth": 0,
              "ticks": ""
             }
            },
            "type": "scatter3d"
           }
          ],
          "scattercarpet": [
           {
            "marker": {
             "colorbar": {
              "outlinewidth": 0,
              "ticks": ""
             }
            },
            "type": "scattercarpet"
           }
          ],
          "scattergeo": [
           {
            "marker": {
             "colorbar": {
              "outlinewidth": 0,
              "ticks": ""
             }
            },
            "type": "scattergeo"
           }
          ],
          "scattergl": [
           {
            "marker": {
             "colorbar": {
              "outlinewidth": 0,
              "ticks": ""
             }
            },
            "type": "scattergl"
           }
          ],
          "scattermapbox": [
           {
            "marker": {
             "colorbar": {
              "outlinewidth": 0,
              "ticks": ""
             }
            },
            "type": "scattermapbox"
           }
          ],
          "scatterpolar": [
           {
            "marker": {
             "colorbar": {
              "outlinewidth": 0,
              "ticks": ""
             }
            },
            "type": "scatterpolar"
           }
          ],
          "scatterpolargl": [
           {
            "marker": {
             "colorbar": {
              "outlinewidth": 0,
              "ticks": ""
             }
            },
            "type": "scatterpolargl"
           }
          ],
          "scatterternary": [
           {
            "marker": {
             "colorbar": {
              "outlinewidth": 0,
              "ticks": ""
             }
            },
            "type": "scatterternary"
           }
          ],
          "surface": [
           {
            "colorbar": {
             "outlinewidth": 0,
             "ticks": ""
            },
            "colorscale": [
             [
              0,
              "#0d0887"
             ],
             [
              0.1111111111111111,
              "#46039f"
             ],
             [
              0.2222222222222222,
              "#7201a8"
             ],
             [
              0.3333333333333333,
              "#9c179e"
             ],
             [
              0.4444444444444444,
              "#bd3786"
             ],
             [
              0.5555555555555556,
              "#d8576b"
             ],
             [
              0.6666666666666666,
              "#ed7953"
             ],
             [
              0.7777777777777778,
              "#fb9f3a"
             ],
             [
              0.8888888888888888,
              "#fdca26"
             ],
             [
              1,
              "#f0f921"
             ]
            ],
            "type": "surface"
           }
          ],
          "table": [
           {
            "cells": {
             "fill": {
              "color": "#EBF0F8"
             },
             "line": {
              "color": "white"
             }
            },
            "header": {
             "fill": {
              "color": "#C8D4E3"
             },
             "line": {
              "color": "white"
             }
            },
            "type": "table"
           }
          ]
         },
         "layout": {
          "annotationdefaults": {
           "arrowcolor": "#2a3f5f",
           "arrowhead": 0,
           "arrowwidth": 1
          },
          "autotypenumbers": "strict",
          "coloraxis": {
           "colorbar": {
            "outlinewidth": 0,
            "ticks": ""
           }
          },
          "colorscale": {
           "diverging": [
            [
             0,
             "#8e0152"
            ],
            [
             0.1,
             "#c51b7d"
            ],
            [
             0.2,
             "#de77ae"
            ],
            [
             0.3,
             "#f1b6da"
            ],
            [
             0.4,
             "#fde0ef"
            ],
            [
             0.5,
             "#f7f7f7"
            ],
            [
             0.6,
             "#e6f5d0"
            ],
            [
             0.7,
             "#b8e186"
            ],
            [
             0.8,
             "#7fbc41"
            ],
            [
             0.9,
             "#4d9221"
            ],
            [
             1,
             "#276419"
            ]
           ],
           "sequential": [
            [
             0,
             "#0d0887"
            ],
            [
             0.1111111111111111,
             "#46039f"
            ],
            [
             0.2222222222222222,
             "#7201a8"
            ],
            [
             0.3333333333333333,
             "#9c179e"
            ],
            [
             0.4444444444444444,
             "#bd3786"
            ],
            [
             0.5555555555555556,
             "#d8576b"
            ],
            [
             0.6666666666666666,
             "#ed7953"
            ],
            [
             0.7777777777777778,
             "#fb9f3a"
            ],
            [
             0.8888888888888888,
             "#fdca26"
            ],
            [
             1,
             "#f0f921"
            ]
           ],
           "sequentialminus": [
            [
             0,
             "#0d0887"
            ],
            [
             0.1111111111111111,
             "#46039f"
            ],
            [
             0.2222222222222222,
             "#7201a8"
            ],
            [
             0.3333333333333333,
             "#9c179e"
            ],
            [
             0.4444444444444444,
             "#bd3786"
            ],
            [
             0.5555555555555556,
             "#d8576b"
            ],
            [
             0.6666666666666666,
             "#ed7953"
            ],
            [
             0.7777777777777778,
             "#fb9f3a"
            ],
            [
             0.8888888888888888,
             "#fdca26"
            ],
            [
             1,
             "#f0f921"
            ]
           ]
          },
          "colorway": [
           "#636efa",
           "#EF553B",
           "#00cc96",
           "#ab63fa",
           "#FFA15A",
           "#19d3f3",
           "#FF6692",
           "#B6E880",
           "#FF97FF",
           "#FECB52"
          ],
          "font": {
           "color": "#2a3f5f"
          },
          "geo": {
           "bgcolor": "white",
           "lakecolor": "white",
           "landcolor": "#E5ECF6",
           "showlakes": true,
           "showland": true,
           "subunitcolor": "white"
          },
          "hoverlabel": {
           "align": "left"
          },
          "hovermode": "closest",
          "mapbox": {
           "style": "light"
          },
          "paper_bgcolor": "white",
          "plot_bgcolor": "#E5ECF6",
          "polar": {
           "angularaxis": {
            "gridcolor": "white",
            "linecolor": "white",
            "ticks": ""
           },
           "bgcolor": "#E5ECF6",
           "radialaxis": {
            "gridcolor": "white",
            "linecolor": "white",
            "ticks": ""
           }
          },
          "scene": {
           "xaxis": {
            "backgroundcolor": "#E5ECF6",
            "gridcolor": "white",
            "gridwidth": 2,
            "linecolor": "white",
            "showbackground": true,
            "ticks": "",
            "zerolinecolor": "white"
           },
           "yaxis": {
            "backgroundcolor": "#E5ECF6",
            "gridcolor": "white",
            "gridwidth": 2,
            "linecolor": "white",
            "showbackground": true,
            "ticks": "",
            "zerolinecolor": "white"
           },
           "zaxis": {
            "backgroundcolor": "#E5ECF6",
            "gridcolor": "white",
            "gridwidth": 2,
            "linecolor": "white",
            "showbackground": true,
            "ticks": "",
            "zerolinecolor": "white"
           }
          },
          "shapedefaults": {
           "line": {
            "color": "#2a3f5f"
           }
          },
          "ternary": {
           "aaxis": {
            "gridcolor": "white",
            "linecolor": "white",
            "ticks": ""
           },
           "baxis": {
            "gridcolor": "white",
            "linecolor": "white",
            "ticks": ""
           },
           "bgcolor": "#E5ECF6",
           "caxis": {
            "gridcolor": "white",
            "linecolor": "white",
            "ticks": ""
           }
          },
          "title": {
           "x": 0.05
          },
          "xaxis": {
           "automargin": true,
           "gridcolor": "white",
           "linecolor": "white",
           "ticks": "",
           "title": {
            "standoff": 15
           },
           "zerolinecolor": "white",
           "zerolinewidth": 2
          },
          "yaxis": {
           "automargin": true,
           "gridcolor": "white",
           "linecolor": "white",
           "ticks": "",
           "title": {
            "standoff": 15
           },
           "zerolinecolor": "white",
           "zerolinewidth": 2
          }
         }
        },
        "title": {
         "text": "Total Number of Reviews for each Retailer"
        },
        "uniformtext": {
         "minsize": 8,
         "mode": "hide"
        },
        "xaxis": {
         "anchor": "y",
         "categoryarray": [
          "Amazon",
          "BestBuy",
          "Costco",
          "Walmart"
         ],
         "categoryorder": "array",
         "domain": [
          0,
          1
         ],
         "title": {
          "text": "Retailer"
         }
        },
        "yaxis": {
         "anchor": "x",
         "domain": [
          0,
          1
         ],
         "title": {
          "text": "Number of Reviews"
         }
        }
       }
      }
     },
     "metadata": {},
     "output_type": "display_data"
    }
   ],
   "source": [
    "df = all_df.groupby('Retailer')['Review Number'].sum().reset_index()\n",
    "\n",
    "fig = px.bar(\n",
    "    df, x='Retailer', y='Review Number', color='Retailer', text='Review Number',\n",
    "    title='Total Number of Reviews for each Retailer',\n",
    "    labels={'Review Number': 'Number of Reviews', 'Retailer': 'Retailer'},\n",
    "    color_discrete_sequence=px.colors.qualitative.Set3\n",
    ")\n",
    "\n",
    "fig.update_layout(\n",
    "    showlegend=True, \n",
    "    xaxis_title='Retailer', \n",
    "    yaxis_title='Number of Reviews',\n",
    "    uniformtext_minsize=8, \n",
    "    uniformtext_mode='hide',\n",
    "    bargap=0.5\n",
    ")\n",
    "\n",
    "fig.update_traces(texttemplate='%{text:.2s}')\n",
    "\n",
    "fig.show()\n"
   ]
  },
  {
   "cell_type": "code",
   "execution_count": 7,
   "metadata": {},
   "outputs": [],
   "source": [
    "go.Figure(fig).write_html(\"eda_plots/iDC_plot3.html\", auto_open=True)"
   ]
  },
  {
   "cell_type": "markdown",
   "metadata": {},
   "source": [
    "Walmart has the most reviews, possibly due to its wide range of brands and products. We’ll explore this more in the next analyses."
   ]
  },
  {
   "cell_type": "markdown",
   "metadata": {},
   "source": [
    "### Section 2: Deep Dive into Top Brands:"
   ]
  },
  {
   "cell_type": "markdown",
   "metadata": {},
   "source": [
    "#### 2.1 Pricing Strategies of Competitors:"
   ]
  },
  {
   "cell_type": "code",
   "execution_count": 8,
   "metadata": {},
   "outputs": [
    {
     "data": {
      "application/vnd.plotly.v1+json": {
       "config": {
        "plotlyServerURL": "https://plot.ly"
       },
       "data": [
        {
         "marker": {
          "color": "rgb(141,211,199)"
         },
         "name": "Samsung",
         "showlegend": true,
         "type": "box",
         "visible": true,
         "y": [
          377.99,
          4297.99,
          747.99,
          347.99,
          397.99,
          477.99,
          278,
          558,
          469,
          247.99,
          497.99,
          479.99,
          497.99,
          348,
          677.99,
          359,
          477.99,
          197.99,
          374.46,
          447.99,
          277.99,
          597.95,
          984.95,
          469,
          786.99,
          785.66,
          497.99,
          997.95,
          749,
          647.99,
          2997.99,
          527.99,
          1497.99,
          597.99,
          227.99,
          747.99,
          405.88,
          447.99,
          849,
          1297.99,
          1197.99,
          1399,
          982.01,
          997.99,
          4997.99,
          1567.95,
          627.99,
          627.99,
          997.99,
          1797.99,
          947.99,
          1497.99,
          1197.99,
          427.99,
          377.99,
          3568.99,
          3880.11,
          1897.99,
          1339,
          1247.99,
          1597.99,
          1197.99,
          2497.95,
          1659,
          1997.99,
          3497.99,
          1497.99,
          947.99,
          1597.99,
          2159.76,
          1397.99,
          4197.99,
          1397.99,
          1197.99,
          1397.99,
          1997.99,
          1997.99,
          2597.99,
          2597,
          3242.84,
          4497,
          1597.99,
          3124.62,
          2299,
          2797.99,
          2147.95,
          3297.99,
          1997.99,
          4997.99,
          3239,
          2897.99,
          2597.99,
          997.99,
          1199.99,
          2097.99,
          3997.99,
          947.99,
          1794,
          3497.99,
          997.99,
          947.99,
          2297.99,
          797.99,
          1059.99,
          899,
          477.99,
          2997.99,
          2597.99,
          2197.99,
          2397.99,
          2379,
          3279,
          2191,
          1499,
          998,
          997.99,
          2197.99,
          1599,
          1497.99,
          567.95,
          2148,
          797.99,
          1995.72,
          1697.95,
          939,
          995.88,
          2795.95,
          3048.43,
          2397.99,
          1197.99,
          1539,
          2597.99,
          4497.99,
          739.99,
          2549,
          2697.99,
          1197.99,
          174.99,
          289,
          1497.99,
          1279,
          779,
          795,
          1533.33,
          527.95,
          3060,
          1797.99,
          2997.99,
          1497.99,
          4997.99,
          769,
          1695,
          1997,
          803.18,
          3097,
          899,
          319,
          427.99,
          492.98,
          919,
          2997,
          1997.99,
          1697.99,
          3297.99,
          4997.99,
          2195,
          687.9,
          4197.99,
          2479,
          2499,
          1997.99,
          1479,
          947.99,
          499.99,
          1067.95,
          3497.99,
          229,
          1697.99,
          1399,
          2249,
          880.15,
          1699,
          1697.99,
          597.99,
          4297.99,
          2797.99,
          1695,
          890.98,
          3095,
          4497,
          1197.99,
          582.97,
          1697.99,
          949,
          849,
          1189.99,
          997.99,
          585,
          1299.99,
          1297.99,
          1499,
          279,
          1347.99,
          2997,
          1197.99,
          1297.99,
          1097.99,
          3699,
          379,
          939,
          4849,
          997.99,
          4297.99,
          2745.98,
          1799,
          329,
          710,
          839.95,
          2299,
          1897.99,
          3497.99,
          949,
          997.99,
          786.99,
          1897.99,
          2997,
          2979.99,
          1455.99,
          979,
          1397.99,
          426.55,
          2597,
          3149,
          1239.99,
          3779,
          525,
          1421,
          1749,
          949,
          2797.99,
          2297.99,
          559.99,
          2179,
          1997,
          1669,
          3497.99,
          4997.99,
          797.99,
          2997.99,
          479.99,
          1197.99,
          2575,
          2797.99,
          1729.99,
          2049.99,
          1497.99,
          1899,
          799,
          702.05,
          175,
          997.99,
          949,
          1347.98,
          619.99,
          1397.99,
          1299.99,
          579,
          2297.99,
          1297.99,
          360.05,
          849,
          997.99,
          319,
          2597.99,
          3299,
          2597.99,
          972.99,
          1820,
          2379,
          2597,
          2788.99,
          664.05,
          1705.99,
          499.99,
          577.99,
          2997.99,
          848,
          3079,
          1997.99,
          1497.99,
          499,
          3497,
          4997.99,
          2997.99,
          334,
          379.99,
          389,
          3119.54,
          379,
          97.99,
          3799,
          4297.99,
          439.99,
          4297.99,
          477.99,
          1299.99,
          699,
          2995.95,
          459.99,
          1997.99,
          389.99,
          619,
          1797.99,
          464.8,
          349,
          387.58,
          2297,
          2998,
          1798,
          598,
          598,
          698,
          2198,
          4198,
          1398,
          998,
          748,
          2298,
          1498,
          848,
          2998,
          798,
          4198,
          3298,
          1498,
          3498,
          1798,
          3998,
          4798,
          748,
          848,
          1698,
          548,
          2398,
          1898,
          1398,
          648,
          2198,
          2999.97,
          2998,
          1297.99,
          1098,
          228,
          1598,
          898,
          479.99,
          749.99,
          379.99,
          279.99,
          349.99,
          629.99,
          1699.99,
          349.99,
          799.99,
          229.99,
          999.99,
          599.99,
          249.99,
          749.99,
          499.99,
          1299.99,
          479.99,
          2499.99,
          1399.99,
          499.99,
          1899.99,
          1599.99,
          349.99,
          629.99,
          429.99,
          949.99,
          2399.99,
          849.99,
          749.99,
          474.99,
          2599.99,
          1899.99,
          1499.99,
          1799.99,
          1299.99,
          1599.99,
          1599.99,
          1999.99,
          3499.99,
          1499.99,
          1199.99,
          2999.99,
          1299.99,
          2899.99,
          1044.99,
          1199.99,
          1529.99,
          1699.99,
          2199.99,
          499.99,
          1519.99,
          4199.99,
          999.99,
          1599.99,
          1199.99,
          199.99,
          1099.99,
          949.99,
          599.99,
          1699.99,
          4999.99,
          4999.99,
          4299.99,
          1099.99,
          1614.99,
          4499.99,
          4199.99,
          4499.99,
          617.99,
          3299.99,
          2199.99,
          3499.99,
          999.99,
          1499.99,
          1079.99,
          2899.99,
          1499.99,
          3499.99,
          1375,
          1900,
          4999.99,
          1350.99,
          999.99,
          1124.99,
          401.99,
          360.99,
          322.99,
          1379.99,
          879.99,
          359.99,
          4874.99,
          1899.99,
          449.99,
          1199.99,
          474.99,
          2699.99,
          2474.99,
          359.99,
          584.99,
          2599.99,
          1104.99,
          902.99,
          1599.99,
          854.99,
          4249.99,
          617.99,
          2399.99,
          1699.99,
          1139.99,
          3299.99,
          909.99,
          2279.99,
          3799.99,
          1699.99,
          1399.99,
          1619.99,
          664.99,
          549.99,
          549.99,
          531,
          1104.99,
          1234.99,
          1699.99,
          404.99,
          679.99,
          329.99,
          2469.99,
          1329.99,
          1949.99,
          2089.99,
          779.99,
          1649.99,
          679.99,
          1299.99,
          2399.99,
          4749.99,
          2849.99,
          1999.99,
          3199.99,
          759.99,
          807.99,
          569.99,
          902.99,
          1688,
          1088,
          713,
          1999.99,
          850,
          3499.99,
          1059.99,
          1399.99,
          1296.98,
          1998,
          799.99,
          346.49,
          1498,
          4199.99,
          1640.48,
          3098,
          3298,
          699.99,
          328.46,
          708.75,
          2591.73,
          1299.99,
          3947.18,
          2998,
          2485.83,
          825.03,
          801.34,
          199.99,
          199.99,
          199.99,
          274,
          3000.97,
          249.99,
          2635.85,
          899.99,
          278.48,
          699.99,
          2097.98,
          2198,
          898,
          349.99,
          648,
          216.6,
          998,
          348
         ]
        },
        {
         "marker": {
          "color": "rgb(255,255,179)"
         },
         "name": "Vizio",
         "showlegend": true,
         "type": "box",
         "visible": true,
         "y": [
          228,
          278,
          158,
          298,
          248,
          168,
          188,
          128,
          158,
          598,
          398,
          408,
          238,
          106,
          198,
          949.99,
          599.99,
          598,
          138,
          548,
          229.97,
          699.99,
          259.99,
          148,
          479.97,
          14,
          179,
          729.05,
          204.48,
          136.99,
          119.96,
          259,
          149.99,
          158.99,
          343.99,
          356,
          219.99,
          159.99,
          597.99,
          168,
          309.99,
          297,
          219.99,
          219.99,
          269.98,
          498,
          164.99,
          299.99,
          319.99,
          194.75,
          189,
          199.99,
          159.99,
          598,
          628,
          211.99,
          249.99,
          249.99,
          29.99,
          519,
          438.99,
          369.99,
          42.99,
          299.99,
          201.99,
          222,
          589.99,
          189.99,
          549.99,
          169.99,
          139.99,
          249.99,
          99.99,
          161.99,
          674.99,
          807.99,
          284.99,
          299.99,
          359.99,
          629.99,
          566.99,
          799.99,
          269.99,
          351.99,
          359.99,
          899.99,
          365.99,
          649.99,
          238.36,
          273.67,
          316.95
         ]
        },
        {
         "marker": {
          "color": "rgb(190,186,218)"
         },
         "name": "LG",
         "showlegend": true,
         "type": "box",
         "visible": true,
         "y": [
          148,
          698,
          2496.99,
          529.97,
          218,
          1198,
          1096.95,
          1796.99,
          496.99,
          796.99,
          1179,
          1996.99,
          696.99,
          1597.99,
          1496.99,
          669,
          1346.99,
          746.99,
          696.99,
          2865.02,
          1796.99,
          3996.99,
          2399,
          2996.99,
          1396.95,
          668.89,
          1496.99,
          996.99,
          1460.57,
          2697.99,
          1296.99,
          3996.99,
          2997.99,
          946.99,
          2096.99,
          2496.99,
          1215.53,
          2796.99,
          346.99,
          4496.99,
          996.99,
          396.99,
          1196.99,
          1096.99,
          1096.99,
          846.99,
          376.99,
          556.28,
          2499,
          1896.99,
          696.99,
          2996.99,
          2899,
          1696.99,
          3879,
          446.99,
          1396.99,
          2195.91,
          2196.99,
          1100.03,
          796.99,
          2999.99,
          2997,
          3122.05,
          435,
          3946.99,
          696.99,
          2997,
          775,
          1539,
          3793.98,
          1499.99,
          1196.99,
          1062.97,
          1260.33,
          711.77,
          480,
          728.62,
          476.26,
          3996.99,
          1689.99,
          979.22,
          943.64,
          1696.99,
          887.77,
          659.49,
          709,
          2999,
          559,
          762.02,
          399,
          449.99,
          2496.99,
          423.84,
          946.99,
          152.95,
          1849,
          247.99,
          527.99,
          2897.99,
          2197.99,
          997.99,
          1697.99,
          1597.99,
          2697.99,
          1997.99,
          1097.99,
          4097.99,
          597.99,
          3497.99,
          1397.99,
          897.99,
          597.99,
          1097.99,
          697.99,
          2497.99,
          647.99,
          847.99,
          1297.99,
          697.99,
          1699.99,
          649.99,
          479.99,
          379.99,
          1099.99,
          279.99,
          729.99,
          2699.99,
          179.99,
          999.99,
          349.99,
          99.99,
          169.99,
          1499.99,
          1999.99,
          1199.99,
          999.99,
          849.99,
          2299.99,
          799.99,
          1499.99,
          1099.99,
          1199.99,
          599.99,
          499.99,
          699.99,
          599.99,
          399.99,
          699.99,
          1049.99,
          369.99,
          1099.99,
          379.99,
          949.99,
          4499.99,
          569.99,
          2799.99,
          1499.99,
          149.99,
          2099.99,
          3999.99,
          1699.99,
          459.99,
          1199.99,
          599.99,
          209.99,
          499.99,
          1799.99,
          1499.99,
          2499.99,
          899.99,
          1099.99,
          1999.99,
          3999.99,
          699.99,
          3299.99,
          699.99,
          549.99,
          569.99,
          2499.99,
          999.99,
          1299.99,
          1199.99,
          455.99,
          1699.99,
          1799.99,
          799.99,
          1499.99,
          1209.99,
          2499.99,
          1299.99,
          1099.99,
          1699.99,
          764.99,
          664.99,
          1439.99,
          979.99,
          1199.99,
          999.99,
          1599.99,
          849.99,
          408.99,
          2799.99,
          379.99,
          301.99,
          1049.99,
          759.99,
          2374.99,
          949.99,
          349.99,
          664.99,
          4499.99,
          386.99,
          169.99,
          2849.99,
          1399.99,
          1999.99,
          3799.99,
          3999.99,
          2897.99,
          324.99,
          896.99,
          3497.99,
          249.99,
          2497.99,
          1397.99,
          1597.99,
          1497.99,
          698,
          3299.99,
          1417.99,
          699,
          1715.99,
          769,
          999,
          661.46,
          1999.99,
          996.8,
          996.8,
          177.26,
          1297.99,
          1097.99,
          247.99
         ]
        },
        {
         "marker": {
          "color": "rgb(251,128,114)"
         },
         "name": "TCL",
         "showlegend": true,
         "type": "box",
         "visible": true,
         "y": [
          249.97,
          158,
          196,
          649.95,
          448,
          198,
          128,
          279.99,
          304.47,
          749,
          598,
          208,
          949.99,
          138,
          138,
          379.98,
          179.99,
          128,
          228,
          295.46,
          199.99,
          299.99,
          548,
          269.99,
          1298,
          279.99,
          1048,
          259,
          798,
          269,
          1298,
          198.55,
          329.99,
          1299.99,
          268,
          772,
          164,
          445.46,
          248,
          234.99,
          305.67,
          269,
          134,
          279.99,
          399.99,
          549.99,
          599.99,
          299.99,
          799.99,
          209.99,
          279.99,
          159.99,
          799.99,
          249.99,
          139.99,
          999.99,
          359.99,
          299.99,
          1099.99,
          349.99,
          129.99,
          599.99,
          199.99,
          449.99,
          799.99,
          1299.99,
          299.99,
          1299.99,
          449.99,
          379.99,
          279.99,
          249.99,
          319.99,
          279.99,
          249.99,
          674.99,
          557.99,
          161.99,
          949.99,
          269.99,
          427.99,
          599.99,
          569.99,
          479.99,
          629.99,
          349.99,
          487.99,
          579.99,
          1119.99,
          1499.99,
          539.99,
          127.99,
          365.99,
          386.99,
          1274.99,
          569.99,
          237.99,
          664.99,
          599.99,
          129.99,
          1099.99,
          1299.99,
          1399.99,
          701.17,
          698.17,
          749.99,
          787.03,
          600.31,
          813.32,
          989.46,
          337.87,
          1150.99,
          308.73,
          1150.99,
          308.73,
          743.02,
          499.99,
          294.3,
          178.95,
          178.95
         ]
        },
        {
         "marker": {
          "color": "rgb(128,177,211)"
         },
         "name": "Insignia",
         "showlegend": true,
         "type": "box",
         "visible": true,
         "y": [
          199,
          525,
          179.98,
          19.99,
          269.99,
          129.99,
          349.99,
          159.99,
          299.99,
          119.99,
          84.99,
          119.99,
          239.99,
          84.99,
          529.99,
          99.99,
          199.99,
          59.99,
          119.99,
          89.99,
          99.99,
          110.99,
          125.99,
          129.99,
          170.99,
          229.99,
          339.99,
          375.99,
          387.33,
          387.33,
          199.99
         ]
        },
        {
         "marker": {
          "color": "rgb(253,180,98)"
         },
         "name": "Sony",
         "showlegend": true,
         "type": "box",
         "visible": true,
         "y": [
          1398,
          998,
          1298,
          1419.99,
          4449,
          699,
          598,
          721.11,
          998,
          1149,
          1198,
          2998,
          698,
          848,
          578,
          4079,
          2998,
          2198,
          698,
          1998,
          1898,
          2998,
          1498,
          2479,
          2998,
          3069.99,
          298,
          798,
          1979.99,
          1419.99,
          1698,
          1298,
          1398,
          3999.99,
          998,
          409.45,
          1398,
          1298,
          2529.99,
          329.99,
          1148,
          2697.97,
          1398,
          3795,
          2700,
          341.05,
          798,
          1449.99,
          1398,
          1499.99,
          2498,
          1399,
          3899,
          759,
          398,
          648,
          2797,
          2998,
          3019.99,
          1297.99,
          2499.99,
          1400.99,
          1998,
          498,
          1398,
          1249.99,
          998,
          1498,
          4100,
          1297.99,
          1998,
          3998,
          1149,
          2898,
          1298,
          5097,
          928,
          1450.99,
          548,
          399.99,
          1498,
          1184.66,
          1798,
          1598,
          3945,
          1380.99,
          3298,
          1298,
          578,
          2998,
          5498,
          748,
          1998,
          698,
          1798,
          4198,
          2198,
          2998,
          998,
          1398,
          398,
          898,
          1498,
          948,
          1098,
          599.99,
          399.99,
          849.99,
          1999.99,
          1599.99,
          929.99,
          2999.99,
          649.99,
          549.99,
          1799.99,
          2499.99,
          1399.99,
          2799.99,
          4999.99,
          3999.99,
          449.99,
          299.99,
          799.99,
          1299.99,
          699.99,
          799.99,
          1999.99,
          1299.99,
          4999.99,
          999.99,
          1899.99,
          1599.99,
          699.99,
          1899.99,
          1199.99,
          699.99,
          1299.99,
          1199.99,
          2499.99,
          1399.99,
          2999.99,
          999.99,
          4999.99,
          549.99,
          3499.99,
          1599.99,
          2199.99,
          1999.99,
          1299.99,
          849.99,
          3999.99,
          2799.99,
          929.99,
          2564.99,
          909.99,
          1999.99,
          2999.99,
          1399.99,
          1899.99,
          4299.99,
          1374.99,
          2999.99,
          599.99,
          949.99,
          723,
          1748,
          980.37,
          1798,
          1298,
          1498,
          2998,
          2498,
          3998,
          3498,
          1698,
          3298,
          398,
          818,
          578
         ]
        },
        {
         "marker": {
          "color": "rgb(179,222,105)"
         },
         "name": "Hisense",
         "showlegend": true,
         "type": "box",
         "visible": true,
         "y": [
          128,
          578,
          258,
          298,
          419.95,
          199.95,
          228,
          578,
          258,
          597.99,
          398,
          498,
          897.99,
          679,
          795.99,
          548,
          1097,
          1819.99,
          178,
          128,
          238,
          1598,
          279.98,
          398,
          698,
          598,
          498,
          389.99,
          798,
          448,
          798,
          1128,
          298,
          944,
          429.5,
          628,
          279.98,
          359.99,
          219.99,
          264.99,
          449.99,
          547.99,
          1597.99,
          697.99,
          527.99,
          847.99,
          1297.99,
          397.99,
          197.99,
          797.99,
          897.99,
          2197.99,
          1197.99,
          1697.99,
          897.99,
          177.99,
          697.99,
          949.99,
          455.99,
          139.99,
          289.99,
          149.99,
          169.99,
          129.99,
          299.99,
          639.99,
          449.99,
          349.99,
          269.99,
          299.99,
          119.99,
          269.99,
          1099.99,
          369.99,
          309.99,
          529.99,
          429.99,
          649.99,
          1949.99,
          239.99,
          639.99,
          1099.99,
          799.99,
          1399.99,
          579.99,
          159.99,
          1499.99,
          799.99,
          1049.99,
          1199.99,
          299.99,
          179.99,
          139.99,
          699.99,
          129.99,
          2199.99,
          119.99,
          349.99,
          229.99,
          569.99,
          902.99,
          455.99,
          599.99,
          369.99,
          1199.99,
          699.99,
          449.99,
          1699.99,
          379.99,
          989.99,
          1199.99,
          1424.99,
          975.99,
          1799.99,
          199.99,
          259.99,
          549.05,
          510.03,
          661.6,
          678.34,
          1343.99,
          587.65,
          1510.49,
          1443.06,
          590.35,
          648,
          648,
          649.99,
          549.99,
          248
         ]
        },
        {
         "marker": {
          "color": "rgb(252,205,229)"
         },
         "name": "Sceptre",
         "showlegend": true,
         "type": "box",
         "visible": true,
         "y": [
          378,
          158,
          148,
          228,
          98,
          498,
          69.99,
          109.99
         ]
        },
        {
         "marker": {
          "color": "rgb(217,217,217)"
         },
         "name": "Toshiba",
         "showlegend": true,
         "type": "box",
         "visible": true,
         "y": [
          259.99,
          569.99,
          279.99,
          529.99,
          209.99,
          209.99,
          89.99,
          235.99,
          127.99,
          129.99,
          189.99,
          181.99,
          329.99,
          312.99,
          349.99
         ]
        },
        {
         "marker": {
          "color": "rgb(188,128,189)"
         },
         "name": "Other",
         "showlegend": true,
         "type": "box",
         "visible": true,
         "y": [
          161.49,
          248,
          123.9,
          200.55,
          14.39,
          57,
          49.99,
          60.68,
          45.01,
          95,
          238,
          149.99,
          199.99,
          799,
          168,
          178,
          99.95,
          149.95,
          665,
          26.48,
          79,
          348,
          519,
          288,
          211.11,
          247.99,
          75.95,
          179.99,
          829,
          477,
          450,
          109.95,
          189.99,
          579.99,
          99.99,
          550,
          878.95,
          359,
          479,
          129.95,
          499,
          78.36,
          609,
          677,
          119.71,
          82.07,
          399,
          440,
          66.48,
          59.79,
          139.99,
          433.68,
          189.21,
          195.48,
          409.99,
          159.27,
          118.14,
          219.99,
          113.22,
          68.69,
          24.99,
          49.95,
          139.93,
          480,
          129.99,
          194.95,
          600,
          299.99,
          777,
          149.99,
          82.25,
          65.99,
          79.31,
          147.02,
          181.87,
          17.99,
          142.45,
          134.8,
          154.89,
          555,
          169.99,
          249.99,
          269.99,
          221.87,
          169.49,
          49.99,
          69.99,
          119.99,
          284.75,
          125.99,
          280,
          284.75,
          266.17,
          65.99,
          99.34,
          89.99,
          99.99,
          40.99,
          179.99,
          296.61,
          499,
          439,
          64.9,
          357.54,
          129.3,
          109.99,
          109.99,
          39.99,
          169.81,
          149.99,
          21.79,
          298,
          119.99,
          189.99,
          142.23,
          298,
          119.99,
          39.98,
          23.67,
          166.39
         ]
        },
        {
         "marker": {
          "color": "rgb(141,211,199)"
         },
         "name": "Samsung",
         "showlegend": false,
         "type": "box",
         "visible": false,
         "y": [
          377.99,
          4297.99,
          747.99,
          347.99,
          397.99,
          477.99,
          278,
          558,
          469,
          247.99,
          497.99,
          479.99,
          497.99,
          348,
          677.99,
          359,
          477.99,
          197.99,
          374.46,
          447.99,
          277.99,
          597.95,
          984.95,
          469,
          786.99,
          785.66,
          497.99,
          997.95,
          749,
          647.99,
          2997.99,
          527.99,
          1497.99,
          597.99,
          227.99,
          747.99,
          405.88,
          447.99,
          849,
          1297.99,
          1197.99,
          1399,
          982.01,
          997.99,
          4997.99,
          1567.95,
          627.99,
          627.99,
          997.99,
          1797.99,
          947.99,
          1497.99,
          1197.99,
          427.99,
          377.99,
          3568.99,
          3880.11,
          1897.99,
          1339,
          1247.99,
          1597.99,
          1197.99,
          2497.95,
          1659,
          1997.99,
          3497.99,
          1497.99,
          947.99,
          1597.99,
          2159.76,
          1397.99,
          4197.99,
          1397.99,
          1197.99,
          1397.99,
          1997.99,
          1997.99,
          2597.99,
          2597,
          3242.84,
          4497,
          1597.99,
          3124.62,
          2299,
          2797.99,
          2147.95,
          3297.99,
          1997.99,
          4997.99,
          3239,
          2897.99,
          2597.99,
          997.99,
          1199.99,
          2097.99,
          3997.99,
          947.99,
          1794,
          3497.99,
          997.99,
          947.99,
          2297.99,
          797.99,
          1059.99,
          899,
          477.99,
          2997.99,
          2597.99,
          2197.99,
          2397.99,
          2379,
          3279,
          2191,
          1499,
          998,
          997.99,
          2197.99,
          1599,
          1497.99,
          567.95,
          2148,
          797.99,
          1995.72,
          1697.95,
          939,
          995.88,
          2795.95,
          3048.43,
          2397.99,
          1197.99,
          1539,
          2597.99,
          4497.99,
          739.99,
          2549,
          2697.99,
          1197.99,
          174.99,
          289,
          1497.99,
          1279,
          779,
          795,
          1533.33,
          527.95,
          3060,
          1797.99,
          2997.99,
          1497.99,
          4997.99,
          769,
          1695,
          1997,
          803.18,
          3097,
          899,
          319,
          427.99,
          492.98,
          919,
          2997,
          1997.99,
          1697.99,
          3297.99,
          4997.99,
          2195,
          687.9,
          4197.99,
          2479,
          2499,
          1997.99,
          1479,
          947.99,
          499.99,
          1067.95,
          3497.99,
          229,
          1697.99,
          1399,
          2249,
          880.15,
          1699,
          1697.99,
          597.99,
          4297.99,
          2797.99,
          1695,
          890.98,
          3095,
          4497,
          1197.99,
          582.97,
          1697.99,
          949,
          849,
          1189.99,
          997.99,
          585,
          1299.99,
          1297.99,
          1499,
          279,
          1347.99,
          2997,
          1197.99,
          1297.99,
          1097.99,
          3699,
          379,
          939,
          4849,
          997.99,
          4297.99,
          2745.98,
          1799,
          329,
          710,
          839.95,
          2299,
          1897.99,
          3497.99,
          949,
          997.99,
          786.99,
          1897.99,
          2997,
          2979.99,
          1455.99,
          979,
          1397.99,
          426.55,
          2597,
          3149,
          1239.99,
          3779,
          525,
          1421,
          1749,
          949,
          2797.99,
          2297.99,
          559.99,
          2179,
          1997,
          1669,
          3497.99,
          4997.99,
          797.99,
          2997.99,
          479.99,
          1197.99,
          2575,
          2797.99,
          1729.99,
          2049.99,
          1497.99,
          1899,
          799,
          702.05,
          175,
          997.99,
          949,
          1347.98,
          619.99,
          1397.99,
          1299.99,
          579,
          2297.99,
          1297.99,
          360.05,
          849,
          997.99,
          319,
          2597.99,
          3299,
          2597.99,
          972.99,
          1820,
          2379,
          2597,
          2788.99,
          664.05,
          1705.99,
          499.99,
          577.99,
          2997.99,
          848,
          3079,
          1997.99,
          1497.99,
          499,
          3497,
          4997.99,
          2997.99,
          334,
          379.99,
          389,
          3119.54,
          379,
          97.99,
          3799,
          4297.99,
          439.99,
          4297.99,
          477.99,
          1299.99,
          699,
          2995.95,
          459.99,
          1997.99,
          389.99,
          619,
          1797.99,
          464.8,
          349,
          387.58,
          2297
         ]
        },
        {
         "marker": {
          "color": "rgb(255,255,179)"
         },
         "name": "Vizio",
         "showlegend": false,
         "type": "box",
         "visible": false,
         "y": [
          228,
          278,
          158,
          298,
          248,
          168,
          188,
          128,
          158,
          598,
          398,
          408,
          238,
          106,
          198,
          949.99,
          599.99,
          598,
          138,
          548,
          229.97,
          699.99,
          259.99,
          148,
          479.97,
          14,
          179,
          729.05,
          204.48,
          136.99,
          119.96,
          259,
          149.99,
          158.99,
          343.99,
          356,
          219.99,
          159.99,
          597.99,
          168,
          309.99,
          297,
          219.99,
          219.99,
          269.98,
          498,
          164.99,
          299.99,
          319.99,
          194.75,
          189,
          199.99,
          159.99,
          598,
          628,
          211.99,
          249.99,
          249.99,
          29.99,
          519,
          438.99,
          369.99,
          42.99,
          299.99,
          201.99,
          222,
          589.99
         ]
        },
        {
         "marker": {
          "color": "rgb(190,186,218)"
         },
         "name": "LG",
         "showlegend": false,
         "type": "box",
         "visible": false,
         "y": [
          148,
          698,
          2496.99,
          529.97,
          218,
          1198,
          1096.95,
          1796.99,
          496.99,
          796.99,
          1179,
          1996.99,
          696.99,
          1597.99,
          1496.99,
          669,
          1346.99,
          746.99,
          696.99,
          2865.02,
          1796.99,
          3996.99,
          2399,
          2996.99,
          1396.95,
          668.89,
          1496.99,
          996.99,
          1460.57,
          2697.99,
          1296.99,
          3996.99,
          2997.99,
          946.99,
          2096.99,
          2496.99,
          1215.53,
          2796.99,
          346.99,
          4496.99,
          996.99,
          396.99,
          1196.99,
          1096.99,
          1096.99,
          846.99,
          376.99,
          556.28,
          2499,
          1896.99,
          696.99,
          2996.99,
          2899,
          1696.99,
          3879,
          446.99,
          1396.99,
          2195.91,
          2196.99,
          1100.03,
          796.99,
          2999.99,
          2997,
          3122.05,
          435,
          3946.99,
          696.99,
          2997,
          775,
          1539,
          3793.98,
          1499.99,
          1196.99,
          1062.97,
          1260.33,
          711.77,
          480,
          728.62,
          476.26,
          3996.99,
          1689.99,
          979.22,
          943.64,
          1696.99,
          887.77,
          659.49,
          709,
          2999,
          559,
          762.02,
          399,
          449.99,
          2496.99,
          423.84,
          946.99,
          152.95,
          1849
         ]
        },
        {
         "marker": {
          "color": "rgb(251,128,114)"
         },
         "name": "TCL",
         "showlegend": false,
         "type": "box",
         "visible": false,
         "y": [
          249.97,
          158,
          196,
          649.95,
          448,
          198,
          128,
          279.99,
          304.47,
          749,
          598,
          208,
          949.99,
          138,
          138,
          379.98,
          179.99,
          128,
          228,
          295.46,
          199.99,
          299.99,
          548,
          269.99,
          1298,
          279.99,
          1048,
          259,
          798,
          269,
          1298,
          198.55,
          329.99,
          1299.99,
          268,
          772,
          164,
          445.46,
          248,
          234.99,
          305.67,
          269,
          134
         ]
        },
        {
         "marker": {
          "color": "rgb(128,177,211)"
         },
         "name": "Insignia",
         "showlegend": false,
         "type": "box",
         "visible": false,
         "y": [
          199,
          525,
          179.98,
          19.99
         ]
        },
        {
         "marker": {
          "color": "rgb(253,180,98)"
         },
         "name": "Sony",
         "showlegend": false,
         "type": "box",
         "visible": false,
         "y": [
          1398,
          998,
          1298,
          1419.99,
          4449,
          699,
          598,
          721.11,
          998,
          1149,
          1198,
          2998,
          698,
          848,
          578,
          4079,
          2998,
          2198,
          698,
          1998,
          1898,
          2998,
          1498,
          2479,
          2998,
          3069.99,
          298,
          798,
          1979.99,
          1419.99,
          1698,
          1298,
          1398,
          3999.99,
          998,
          409.45,
          1398,
          1298,
          2529.99,
          329.99,
          1148,
          2697.97,
          1398,
          3795,
          2700,
          341.05,
          798,
          1449.99,
          1398,
          1499.99,
          2498,
          1399,
          3899,
          759,
          398,
          648,
          2797,
          2998,
          3019.99,
          1297.99,
          2499.99,
          1400.99,
          1998,
          498,
          1398,
          1249.99,
          998,
          1498,
          4100,
          1297.99,
          1998,
          3998,
          1149,
          2898,
          1298,
          5097,
          928,
          1450.99,
          548,
          399.99,
          1498,
          1184.66,
          1798,
          1598,
          3945,
          1380.99
         ]
        },
        {
         "marker": {
          "color": "rgb(179,222,105)"
         },
         "name": "Hisense",
         "showlegend": false,
         "type": "box",
         "visible": false,
         "y": [
          128,
          578,
          258,
          298,
          419.95,
          199.95,
          228,
          578,
          258,
          597.99,
          398,
          498,
          897.99,
          679,
          795.99,
          548,
          1097,
          1819.99,
          178,
          128,
          238,
          1598,
          279.98,
          398,
          698,
          598,
          498,
          389.99,
          798,
          448,
          798,
          1128,
          298,
          944,
          429.5,
          628,
          279.98,
          359.99,
          219.99,
          264.99
         ]
        },
        {
         "marker": {
          "color": "rgb(252,205,229)"
         },
         "name": "Sceptre",
         "showlegend": false,
         "type": "box",
         "visible": false,
         "y": [
          378,
          158,
          148,
          228,
          98,
          498,
          69.99,
          109.99
         ]
        },
        {
         "marker": {
          "color": "rgb(217,217,217)"
         },
         "name": "Toshiba",
         "showlegend": false,
         "type": "box",
         "visible": false,
         "y": []
        },
        {
         "marker": {
          "color": "rgb(188,128,189)"
         },
         "name": "Other",
         "showlegend": false,
         "type": "box",
         "visible": false,
         "y": [
          161.49,
          248,
          123.9,
          200.55,
          14.39,
          57,
          49.99,
          60.68,
          45.01,
          95,
          238,
          149.99,
          199.99,
          799,
          168,
          178,
          99.95,
          149.95,
          665,
          26.48,
          79,
          348,
          519,
          288,
          211.11,
          247.99,
          75.95,
          179.99,
          829,
          477,
          450,
          109.95,
          189.99,
          579.99,
          99.99,
          550,
          878.95,
          359,
          479,
          129.95,
          499,
          78.36,
          609,
          677,
          119.71,
          82.07,
          399,
          440,
          66.48,
          59.79,
          139.99,
          433.68,
          189.21,
          195.48,
          409.99,
          159.27,
          118.14,
          219.99,
          113.22,
          68.69,
          24.99,
          49.95,
          139.93,
          480,
          129.99,
          194.95,
          600,
          299.99,
          777,
          149.99,
          82.25,
          65.99,
          79.31,
          147.02,
          181.87,
          17.99,
          142.45,
          134.8,
          154.89,
          555
         ]
        },
        {
         "marker": {
          "color": "rgb(141,211,199)"
         },
         "name": "Samsung",
         "showlegend": false,
         "type": "box",
         "visible": false,
         "y": [
          2998,
          1798,
          598,
          598,
          698,
          2198,
          4198,
          1398,
          998,
          748,
          2298,
          1498,
          848,
          2998,
          798,
          4198,
          3298,
          1498,
          3498,
          1798,
          3998,
          4798,
          748,
          848,
          1698,
          548,
          2398,
          1898,
          1398,
          648,
          2198,
          2999.97,
          2998,
          1297.99,
          1098,
          228,
          1598,
          898
         ]
        },
        {
         "marker": {
          "color": "rgb(255,255,179)"
         },
         "name": "Vizio",
         "showlegend": false,
         "type": "box",
         "visible": false,
         "y": []
        },
        {
         "marker": {
          "color": "rgb(190,186,218)"
         },
         "name": "LG",
         "showlegend": false,
         "type": "box",
         "visible": false,
         "y": [
          247.99,
          527.99,
          2897.99,
          2197.99,
          997.99,
          1697.99,
          1597.99,
          2697.99,
          1997.99,
          1097.99,
          4097.99,
          597.99,
          3497.99,
          1397.99,
          897.99,
          597.99,
          1097.99,
          697.99,
          2497.99,
          647.99,
          847.99,
          1297.99,
          697.99
         ]
        },
        {
         "marker": {
          "color": "rgb(251,128,114)"
         },
         "name": "TCL",
         "showlegend": false,
         "type": "box",
         "visible": false,
         "y": []
        },
        {
         "marker": {
          "color": "rgb(128,177,211)"
         },
         "name": "Insignia",
         "showlegend": false,
         "type": "box",
         "visible": false,
         "y": []
        },
        {
         "marker": {
          "color": "rgb(253,180,98)"
         },
         "name": "Sony",
         "showlegend": false,
         "type": "box",
         "visible": false,
         "y": [
          3298,
          1298,
          578,
          2998,
          5498,
          748,
          1998,
          698,
          1798,
          4198,
          2198,
          2998,
          998,
          1398,
          398,
          898,
          1498,
          948,
          1098
         ]
        },
        {
         "marker": {
          "color": "rgb(179,222,105)"
         },
         "name": "Hisense",
         "showlegend": false,
         "type": "box",
         "visible": false,
         "y": [
          449.99,
          547.99,
          1597.99,
          697.99,
          527.99,
          847.99,
          1297.99,
          397.99,
          197.99,
          797.99,
          897.99,
          2197.99,
          1197.99,
          1697.99,
          897.99,
          177.99,
          697.99
         ]
        },
        {
         "marker": {
          "color": "rgb(252,205,229)"
         },
         "name": "Sceptre",
         "showlegend": false,
         "type": "box",
         "visible": false,
         "y": []
        },
        {
         "marker": {
          "color": "rgb(217,217,217)"
         },
         "name": "Toshiba",
         "showlegend": false,
         "type": "box",
         "visible": false,
         "y": []
        },
        {
         "marker": {
          "color": "rgb(188,128,189)"
         },
         "name": "Other",
         "showlegend": false,
         "type": "box",
         "visible": false,
         "y": []
        },
        {
         "marker": {
          "color": "rgb(141,211,199)"
         },
         "name": "Samsung",
         "showlegend": false,
         "type": "box",
         "visible": false,
         "y": [
          479.99,
          749.99,
          379.99,
          279.99,
          349.99,
          629.99,
          1699.99,
          349.99,
          799.99,
          229.99,
          999.99,
          599.99,
          249.99,
          749.99,
          499.99,
          1299.99,
          479.99,
          2499.99,
          1399.99,
          499.99,
          1899.99,
          1599.99,
          349.99,
          629.99,
          429.99,
          949.99,
          2399.99,
          849.99,
          749.99,
          474.99,
          2599.99,
          1899.99,
          1499.99,
          1799.99,
          1299.99,
          1599.99,
          1599.99,
          1999.99,
          3499.99,
          1499.99,
          1199.99,
          2999.99,
          1299.99,
          2899.99,
          1044.99,
          1199.99,
          1529.99,
          1699.99,
          2199.99,
          499.99,
          1519.99,
          4199.99,
          999.99,
          1599.99,
          1199.99,
          199.99,
          1099.99,
          949.99,
          599.99,
          1699.99,
          4999.99,
          4999.99,
          4299.99,
          1099.99,
          1614.99,
          4499.99,
          4199.99,
          4499.99,
          617.99,
          3299.99,
          2199.99,
          3499.99,
          999.99,
          1499.99,
          1079.99,
          2899.99,
          1499.99,
          3499.99,
          1375,
          1900,
          4999.99,
          1350.99,
          999.99,
          1124.99,
          401.99,
          360.99,
          322.99,
          1379.99,
          879.99,
          359.99,
          4874.99,
          1899.99,
          449.99,
          1199.99,
          474.99,
          2699.99,
          2474.99,
          359.99,
          584.99,
          2599.99,
          1104.99,
          902.99,
          1599.99,
          854.99,
          4249.99,
          617.99,
          2399.99,
          1699.99,
          1139.99,
          3299.99,
          909.99,
          2279.99,
          3799.99,
          1699.99,
          1399.99,
          1619.99,
          664.99,
          549.99,
          549.99,
          531,
          1104.99,
          1234.99,
          1699.99,
          404.99,
          679.99,
          329.99,
          2469.99,
          1329.99,
          1949.99,
          2089.99,
          779.99,
          1649.99,
          679.99,
          1299.99,
          2399.99,
          4749.99,
          2849.99,
          1999.99,
          3199.99,
          759.99,
          807.99,
          569.99,
          902.99,
          1688,
          1088,
          713,
          1999.99,
          850,
          3499.99
         ]
        },
        {
         "marker": {
          "color": "rgb(255,255,179)"
         },
         "name": "Vizio",
         "showlegend": false,
         "type": "box",
         "visible": false,
         "y": [
          189.99,
          549.99,
          169.99,
          139.99,
          249.99,
          99.99,
          161.99,
          674.99,
          807.99,
          284.99,
          299.99,
          359.99,
          629.99,
          566.99,
          799.99,
          269.99,
          351.99,
          359.99,
          899.99,
          365.99,
          649.99
         ]
        },
        {
         "marker": {
          "color": "rgb(190,186,218)"
         },
         "name": "LG",
         "showlegend": false,
         "type": "box",
         "visible": false,
         "y": [
          1699.99,
          649.99,
          479.99,
          379.99,
          1099.99,
          279.99,
          729.99,
          2699.99,
          179.99,
          999.99,
          349.99,
          99.99,
          169.99,
          1499.99,
          1999.99,
          1199.99,
          999.99,
          849.99,
          2299.99,
          799.99,
          1499.99,
          1099.99,
          1199.99,
          599.99,
          499.99,
          699.99,
          599.99,
          399.99,
          699.99,
          1049.99,
          369.99,
          1099.99,
          379.99,
          949.99,
          4499.99,
          569.99,
          2799.99,
          1499.99,
          149.99,
          2099.99,
          3999.99,
          1699.99,
          459.99,
          1199.99,
          599.99,
          209.99,
          499.99,
          1799.99,
          1499.99,
          2499.99,
          899.99,
          1099.99,
          1999.99,
          3999.99,
          699.99,
          3299.99,
          699.99,
          549.99,
          569.99,
          2499.99,
          999.99,
          1299.99,
          1199.99,
          455.99,
          1699.99,
          1799.99,
          799.99,
          1499.99,
          1209.99,
          2499.99,
          1299.99,
          1099.99,
          1699.99,
          764.99,
          664.99,
          1439.99,
          979.99,
          1199.99,
          999.99,
          1599.99,
          849.99,
          408.99,
          2799.99,
          379.99,
          301.99,
          1049.99,
          759.99,
          2374.99,
          949.99,
          349.99,
          664.99,
          4499.99,
          386.99,
          169.99,
          2849.99,
          1399.99,
          1999.99,
          3799.99,
          3999.99
         ]
        },
        {
         "marker": {
          "color": "rgb(251,128,114)"
         },
         "name": "TCL",
         "showlegend": false,
         "type": "box",
         "visible": false,
         "y": [
          279.99,
          399.99,
          549.99,
          599.99,
          299.99,
          799.99,
          209.99,
          279.99,
          159.99,
          799.99,
          249.99,
          139.99,
          999.99,
          359.99,
          299.99,
          1099.99,
          349.99,
          129.99,
          599.99,
          199.99,
          449.99,
          799.99,
          1299.99,
          299.99,
          1299.99,
          449.99,
          379.99,
          279.99,
          249.99,
          319.99,
          279.99,
          249.99,
          674.99,
          557.99,
          161.99,
          949.99,
          269.99,
          427.99,
          599.99,
          569.99,
          479.99,
          629.99,
          349.99,
          487.99,
          579.99,
          1119.99,
          1499.99,
          539.99,
          127.99,
          365.99,
          386.99,
          1274.99,
          569.99,
          237.99,
          664.99,
          599.99,
          129.99,
          1099.99,
          1299.99
         ]
        },
        {
         "marker": {
          "color": "rgb(128,177,211)"
         },
         "name": "Insignia",
         "showlegend": false,
         "type": "box",
         "visible": false,
         "y": [
          269.99,
          129.99,
          349.99,
          159.99,
          299.99,
          119.99,
          84.99,
          119.99,
          239.99,
          84.99,
          529.99,
          99.99,
          199.99,
          59.99,
          119.99,
          89.99,
          99.99,
          110.99,
          125.99,
          129.99,
          170.99,
          229.99,
          339.99,
          375.99
         ]
        },
        {
         "marker": {
          "color": "rgb(253,180,98)"
         },
         "name": "Sony",
         "showlegend": false,
         "type": "box",
         "visible": false,
         "y": [
          599.99,
          399.99,
          849.99,
          1999.99,
          1599.99,
          929.99,
          2999.99,
          649.99,
          549.99,
          1799.99,
          2499.99,
          1399.99,
          2799.99,
          4999.99,
          3999.99,
          449.99,
          299.99,
          799.99,
          1299.99,
          699.99,
          799.99,
          1999.99,
          1299.99,
          4999.99,
          999.99,
          1899.99,
          1599.99,
          699.99,
          1899.99,
          1199.99,
          699.99,
          1299.99,
          1199.99,
          2499.99,
          1399.99,
          2999.99,
          999.99,
          4999.99,
          549.99,
          3499.99,
          1599.99,
          2199.99,
          1999.99,
          1299.99,
          849.99,
          3999.99,
          2799.99,
          929.99,
          2564.99,
          909.99,
          1999.99,
          2999.99,
          1399.99,
          1899.99,
          4299.99,
          1374.99,
          2999.99,
          599.99,
          949.99
         ]
        },
        {
         "marker": {
          "color": "rgb(179,222,105)"
         },
         "name": "Hisense",
         "showlegend": false,
         "type": "box",
         "visible": false,
         "y": [
          949.99,
          455.99,
          139.99,
          289.99,
          149.99,
          169.99,
          129.99,
          299.99,
          639.99,
          449.99,
          349.99,
          269.99,
          299.99,
          119.99,
          269.99,
          1099.99,
          369.99,
          309.99,
          529.99,
          429.99,
          649.99,
          1949.99,
          239.99,
          639.99,
          1099.99,
          799.99,
          1399.99,
          579.99,
          159.99,
          1499.99,
          799.99,
          1049.99,
          1199.99,
          299.99,
          179.99,
          139.99,
          699.99,
          129.99,
          2199.99,
          119.99,
          349.99,
          229.99,
          569.99,
          902.99,
          455.99,
          599.99,
          369.99,
          1199.99,
          699.99,
          449.99,
          1699.99,
          379.99,
          989.99,
          1199.99,
          1424.99,
          975.99,
          1799.99,
          199.99,
          259.99
         ]
        },
        {
         "marker": {
          "color": "rgb(252,205,229)"
         },
         "name": "Sceptre",
         "showlegend": false,
         "type": "box",
         "visible": false,
         "y": []
        },
        {
         "marker": {
          "color": "rgb(217,217,217)"
         },
         "name": "Toshiba",
         "showlegend": false,
         "type": "box",
         "visible": false,
         "y": [
          259.99,
          569.99,
          279.99,
          529.99,
          209.99,
          209.99,
          89.99,
          235.99,
          127.99,
          129.99,
          189.99,
          181.99,
          329.99,
          312.99
         ]
        },
        {
         "marker": {
          "color": "rgb(188,128,189)"
         },
         "name": "Other",
         "showlegend": false,
         "type": "box",
         "visible": false,
         "y": [
          169.99,
          249.99,
          269.99
         ]
        },
        {
         "marker": {
          "color": "rgb(141,211,199)"
         },
         "name": "Samsung",
         "showlegend": false,
         "type": "box",
         "visible": false,
         "y": [
          1059.99,
          1399.99,
          1296.98,
          1998,
          799.99,
          346.49,
          1498,
          4199.99,
          1640.48,
          3098,
          3298,
          699.99,
          328.46,
          708.75,
          2591.73,
          1299.99,
          3947.18,
          2998,
          2485.83,
          825.03,
          801.34,
          199.99,
          199.99,
          199.99,
          274,
          3000.97,
          249.99,
          2635.85,
          899.99,
          278.48,
          699.99,
          2097.98,
          2198,
          898,
          349.99,
          648,
          216.6,
          998,
          348
         ]
        },
        {
         "marker": {
          "color": "rgb(255,255,179)"
         },
         "name": "Vizio",
         "showlegend": false,
         "type": "box",
         "visible": false,
         "y": [
          238.36,
          273.67,
          316.95
         ]
        },
        {
         "marker": {
          "color": "rgb(190,186,218)"
         },
         "name": "LG",
         "showlegend": false,
         "type": "box",
         "visible": false,
         "y": [
          2897.99,
          324.99,
          896.99,
          3497.99,
          249.99,
          2497.99,
          1397.99,
          1597.99,
          1497.99,
          698,
          3299.99,
          1417.99,
          699,
          1715.99,
          769,
          999,
          661.46,
          1999.99,
          996.8,
          996.8,
          177.26,
          1297.99,
          1097.99,
          247.99
         ]
        },
        {
         "marker": {
          "color": "rgb(251,128,114)"
         },
         "name": "TCL",
         "showlegend": false,
         "type": "box",
         "visible": false,
         "y": [
          1399.99,
          701.17,
          698.17,
          749.99,
          787.03,
          600.31,
          813.32,
          989.46,
          337.87,
          1150.99,
          308.73,
          1150.99,
          308.73,
          743.02,
          499.99,
          294.3,
          178.95,
          178.95
         ]
        },
        {
         "marker": {
          "color": "rgb(128,177,211)"
         },
         "name": "Insignia",
         "showlegend": false,
         "type": "box",
         "visible": false,
         "y": [
          387.33,
          387.33,
          199.99
         ]
        },
        {
         "marker": {
          "color": "rgb(253,180,98)"
         },
         "name": "Sony",
         "showlegend": false,
         "type": "box",
         "visible": false,
         "y": [
          723,
          1748,
          980.37,
          1798,
          1298,
          1498,
          2998,
          2498,
          3998,
          3498,
          1698,
          3298,
          398,
          818,
          578
         ]
        },
        {
         "marker": {
          "color": "rgb(179,222,105)"
         },
         "name": "Hisense",
         "showlegend": false,
         "type": "box",
         "visible": false,
         "y": [
          549.05,
          510.03,
          661.6,
          678.34,
          1343.99,
          587.65,
          1510.49,
          1443.06,
          590.35,
          648,
          648,
          649.99,
          549.99,
          248
         ]
        },
        {
         "marker": {
          "color": "rgb(252,205,229)"
         },
         "name": "Sceptre",
         "showlegend": false,
         "type": "box",
         "visible": false,
         "y": []
        },
        {
         "marker": {
          "color": "rgb(217,217,217)"
         },
         "name": "Toshiba",
         "showlegend": false,
         "type": "box",
         "visible": false,
         "y": [
          349.99
         ]
        },
        {
         "marker": {
          "color": "rgb(188,128,189)"
         },
         "name": "Other",
         "showlegend": false,
         "type": "box",
         "visible": false,
         "y": [
          221.87,
          169.49,
          49.99,
          69.99,
          119.99,
          284.75,
          125.99,
          280,
          284.75,
          266.17,
          65.99,
          99.34,
          89.99,
          99.99,
          40.99,
          179.99,
          296.61,
          499,
          439,
          64.9,
          357.54,
          129.3,
          109.99,
          109.99,
          39.99,
          169.81,
          149.99,
          21.79,
          298,
          119.99,
          189.99,
          142.23,
          298,
          119.99,
          39.98,
          23.67,
          166.39
         ]
        }
       ],
       "layout": {
        "boxmode": "group",
        "template": {
         "data": {
          "bar": [
           {
            "error_x": {
             "color": "#2a3f5f"
            },
            "error_y": {
             "color": "#2a3f5f"
            },
            "marker": {
             "line": {
              "color": "#E5ECF6",
              "width": 0.5
             },
             "pattern": {
              "fillmode": "overlay",
              "size": 10,
              "solidity": 0.2
             }
            },
            "type": "bar"
           }
          ],
          "barpolar": [
           {
            "marker": {
             "line": {
              "color": "#E5ECF6",
              "width": 0.5
             },
             "pattern": {
              "fillmode": "overlay",
              "size": 10,
              "solidity": 0.2
             }
            },
            "type": "barpolar"
           }
          ],
          "carpet": [
           {
            "aaxis": {
             "endlinecolor": "#2a3f5f",
             "gridcolor": "white",
             "linecolor": "white",
             "minorgridcolor": "white",
             "startlinecolor": "#2a3f5f"
            },
            "baxis": {
             "endlinecolor": "#2a3f5f",
             "gridcolor": "white",
             "linecolor": "white",
             "minorgridcolor": "white",
             "startlinecolor": "#2a3f5f"
            },
            "type": "carpet"
           }
          ],
          "choropleth": [
           {
            "colorbar": {
             "outlinewidth": 0,
             "ticks": ""
            },
            "type": "choropleth"
           }
          ],
          "contour": [
           {
            "colorbar": {
             "outlinewidth": 0,
             "ticks": ""
            },
            "colorscale": [
             [
              0,
              "#0d0887"
             ],
             [
              0.1111111111111111,
              "#46039f"
             ],
             [
              0.2222222222222222,
              "#7201a8"
             ],
             [
              0.3333333333333333,
              "#9c179e"
             ],
             [
              0.4444444444444444,
              "#bd3786"
             ],
             [
              0.5555555555555556,
              "#d8576b"
             ],
             [
              0.6666666666666666,
              "#ed7953"
             ],
             [
              0.7777777777777778,
              "#fb9f3a"
             ],
             [
              0.8888888888888888,
              "#fdca26"
             ],
             [
              1,
              "#f0f921"
             ]
            ],
            "type": "contour"
           }
          ],
          "contourcarpet": [
           {
            "colorbar": {
             "outlinewidth": 0,
             "ticks": ""
            },
            "type": "contourcarpet"
           }
          ],
          "heatmap": [
           {
            "colorbar": {
             "outlinewidth": 0,
             "ticks": ""
            },
            "colorscale": [
             [
              0,
              "#0d0887"
             ],
             [
              0.1111111111111111,
              "#46039f"
             ],
             [
              0.2222222222222222,
              "#7201a8"
             ],
             [
              0.3333333333333333,
              "#9c179e"
             ],
             [
              0.4444444444444444,
              "#bd3786"
             ],
             [
              0.5555555555555556,
              "#d8576b"
             ],
             [
              0.6666666666666666,
              "#ed7953"
             ],
             [
              0.7777777777777778,
              "#fb9f3a"
             ],
             [
              0.8888888888888888,
              "#fdca26"
             ],
             [
              1,
              "#f0f921"
             ]
            ],
            "type": "heatmap"
           }
          ],
          "heatmapgl": [
           {
            "colorbar": {
             "outlinewidth": 0,
             "ticks": ""
            },
            "colorscale": [
             [
              0,
              "#0d0887"
             ],
             [
              0.1111111111111111,
              "#46039f"
             ],
             [
              0.2222222222222222,
              "#7201a8"
             ],
             [
              0.3333333333333333,
              "#9c179e"
             ],
             [
              0.4444444444444444,
              "#bd3786"
             ],
             [
              0.5555555555555556,
              "#d8576b"
             ],
             [
              0.6666666666666666,
              "#ed7953"
             ],
             [
              0.7777777777777778,
              "#fb9f3a"
             ],
             [
              0.8888888888888888,
              "#fdca26"
             ],
             [
              1,
              "#f0f921"
             ]
            ],
            "type": "heatmapgl"
           }
          ],
          "histogram": [
           {
            "marker": {
             "pattern": {
              "fillmode": "overlay",
              "size": 10,
              "solidity": 0.2
             }
            },
            "type": "histogram"
           }
          ],
          "histogram2d": [
           {
            "colorbar": {
             "outlinewidth": 0,
             "ticks": ""
            },
            "colorscale": [
             [
              0,
              "#0d0887"
             ],
             [
              0.1111111111111111,
              "#46039f"
             ],
             [
              0.2222222222222222,
              "#7201a8"
             ],
             [
              0.3333333333333333,
              "#9c179e"
             ],
             [
              0.4444444444444444,
              "#bd3786"
             ],
             [
              0.5555555555555556,
              "#d8576b"
             ],
             [
              0.6666666666666666,
              "#ed7953"
             ],
             [
              0.7777777777777778,
              "#fb9f3a"
             ],
             [
              0.8888888888888888,
              "#fdca26"
             ],
             [
              1,
              "#f0f921"
             ]
            ],
            "type": "histogram2d"
           }
          ],
          "histogram2dcontour": [
           {
            "colorbar": {
             "outlinewidth": 0,
             "ticks": ""
            },
            "colorscale": [
             [
              0,
              "#0d0887"
             ],
             [
              0.1111111111111111,
              "#46039f"
             ],
             [
              0.2222222222222222,
              "#7201a8"
             ],
             [
              0.3333333333333333,
              "#9c179e"
             ],
             [
              0.4444444444444444,
              "#bd3786"
             ],
             [
              0.5555555555555556,
              "#d8576b"
             ],
             [
              0.6666666666666666,
              "#ed7953"
             ],
             [
              0.7777777777777778,
              "#fb9f3a"
             ],
             [
              0.8888888888888888,
              "#fdca26"
             ],
             [
              1,
              "#f0f921"
             ]
            ],
            "type": "histogram2dcontour"
           }
          ],
          "mesh3d": [
           {
            "colorbar": {
             "outlinewidth": 0,
             "ticks": ""
            },
            "type": "mesh3d"
           }
          ],
          "parcoords": [
           {
            "line": {
             "colorbar": {
              "outlinewidth": 0,
              "ticks": ""
             }
            },
            "type": "parcoords"
           }
          ],
          "pie": [
           {
            "automargin": true,
            "type": "pie"
           }
          ],
          "scatter": [
           {
            "fillpattern": {
             "fillmode": "overlay",
             "size": 10,
             "solidity": 0.2
            },
            "type": "scatter"
           }
          ],
          "scatter3d": [
           {
            "line": {
             "colorbar": {
              "outlinewidth": 0,
              "ticks": ""
             }
            },
            "marker": {
             "colorbar": {
              "outlinewidth": 0,
              "ticks": ""
             }
            },
            "type": "scatter3d"
           }
          ],
          "scattercarpet": [
           {
            "marker": {
             "colorbar": {
              "outlinewidth": 0,
              "ticks": ""
             }
            },
            "type": "scattercarpet"
           }
          ],
          "scattergeo": [
           {
            "marker": {
             "colorbar": {
              "outlinewidth": 0,
              "ticks": ""
             }
            },
            "type": "scattergeo"
           }
          ],
          "scattergl": [
           {
            "marker": {
             "colorbar": {
              "outlinewidth": 0,
              "ticks": ""
             }
            },
            "type": "scattergl"
           }
          ],
          "scattermapbox": [
           {
            "marker": {
             "colorbar": {
              "outlinewidth": 0,
              "ticks": ""
             }
            },
            "type": "scattermapbox"
           }
          ],
          "scatterpolar": [
           {
            "marker": {
             "colorbar": {
              "outlinewidth": 0,
              "ticks": ""
             }
            },
            "type": "scatterpolar"
           }
          ],
          "scatterpolargl": [
           {
            "marker": {
             "colorbar": {
              "outlinewidth": 0,
              "ticks": ""
             }
            },
            "type": "scatterpolargl"
           }
          ],
          "scatterternary": [
           {
            "marker": {
             "colorbar": {
              "outlinewidth": 0,
              "ticks": ""
             }
            },
            "type": "scatterternary"
           }
          ],
          "surface": [
           {
            "colorbar": {
             "outlinewidth": 0,
             "ticks": ""
            },
            "colorscale": [
             [
              0,
              "#0d0887"
             ],
             [
              0.1111111111111111,
              "#46039f"
             ],
             [
              0.2222222222222222,
              "#7201a8"
             ],
             [
              0.3333333333333333,
              "#9c179e"
             ],
             [
              0.4444444444444444,
              "#bd3786"
             ],
             [
              0.5555555555555556,
              "#d8576b"
             ],
             [
              0.6666666666666666,
              "#ed7953"
             ],
             [
              0.7777777777777778,
              "#fb9f3a"
             ],
             [
              0.8888888888888888,
              "#fdca26"
             ],
             [
              1,
              "#f0f921"
             ]
            ],
            "type": "surface"
           }
          ],
          "table": [
           {
            "cells": {
             "fill": {
              "color": "#EBF0F8"
             },
             "line": {
              "color": "white"
             }
            },
            "header": {
             "fill": {
              "color": "#C8D4E3"
             },
             "line": {
              "color": "white"
             }
            },
            "type": "table"
           }
          ]
         },
         "layout": {
          "annotationdefaults": {
           "arrowcolor": "#2a3f5f",
           "arrowhead": 0,
           "arrowwidth": 1
          },
          "autotypenumbers": "strict",
          "coloraxis": {
           "colorbar": {
            "outlinewidth": 0,
            "ticks": ""
           }
          },
          "colorscale": {
           "diverging": [
            [
             0,
             "#8e0152"
            ],
            [
             0.1,
             "#c51b7d"
            ],
            [
             0.2,
             "#de77ae"
            ],
            [
             0.3,
             "#f1b6da"
            ],
            [
             0.4,
             "#fde0ef"
            ],
            [
             0.5,
             "#f7f7f7"
            ],
            [
             0.6,
             "#e6f5d0"
            ],
            [
             0.7,
             "#b8e186"
            ],
            [
             0.8,
             "#7fbc41"
            ],
            [
             0.9,
             "#4d9221"
            ],
            [
             1,
             "#276419"
            ]
           ],
           "sequential": [
            [
             0,
             "#0d0887"
            ],
            [
             0.1111111111111111,
             "#46039f"
            ],
            [
             0.2222222222222222,
             "#7201a8"
            ],
            [
             0.3333333333333333,
             "#9c179e"
            ],
            [
             0.4444444444444444,
             "#bd3786"
            ],
            [
             0.5555555555555556,
             "#d8576b"
            ],
            [
             0.6666666666666666,
             "#ed7953"
            ],
            [
             0.7777777777777778,
             "#fb9f3a"
            ],
            [
             0.8888888888888888,
             "#fdca26"
            ],
            [
             1,
             "#f0f921"
            ]
           ],
           "sequentialminus": [
            [
             0,
             "#0d0887"
            ],
            [
             0.1111111111111111,
             "#46039f"
            ],
            [
             0.2222222222222222,
             "#7201a8"
            ],
            [
             0.3333333333333333,
             "#9c179e"
            ],
            [
             0.4444444444444444,
             "#bd3786"
            ],
            [
             0.5555555555555556,
             "#d8576b"
            ],
            [
             0.6666666666666666,
             "#ed7953"
            ],
            [
             0.7777777777777778,
             "#fb9f3a"
            ],
            [
             0.8888888888888888,
             "#fdca26"
            ],
            [
             1,
             "#f0f921"
            ]
           ]
          },
          "colorway": [
           "#636efa",
           "#EF553B",
           "#00cc96",
           "#ab63fa",
           "#FFA15A",
           "#19d3f3",
           "#FF6692",
           "#B6E880",
           "#FF97FF",
           "#FECB52"
          ],
          "font": {
           "color": "#2a3f5f"
          },
          "geo": {
           "bgcolor": "white",
           "lakecolor": "white",
           "landcolor": "#E5ECF6",
           "showlakes": true,
           "showland": true,
           "subunitcolor": "white"
          },
          "hoverlabel": {
           "align": "left"
          },
          "hovermode": "closest",
          "mapbox": {
           "style": "light"
          },
          "paper_bgcolor": "white",
          "plot_bgcolor": "#E5ECF6",
          "polar": {
           "angularaxis": {
            "gridcolor": "white",
            "linecolor": "white",
            "ticks": ""
           },
           "bgcolor": "#E5ECF6",
           "radialaxis": {
            "gridcolor": "white",
            "linecolor": "white",
            "ticks": ""
           }
          },
          "scene": {
           "xaxis": {
            "backgroundcolor": "#E5ECF6",
            "gridcolor": "white",
            "gridwidth": 2,
            "linecolor": "white",
            "showbackground": true,
            "ticks": "",
            "zerolinecolor": "white"
           },
           "yaxis": {
            "backgroundcolor": "#E5ECF6",
            "gridcolor": "white",
            "gridwidth": 2,
            "linecolor": "white",
            "showbackground": true,
            "ticks": "",
            "zerolinecolor": "white"
           },
           "zaxis": {
            "backgroundcolor": "#E5ECF6",
            "gridcolor": "white",
            "gridwidth": 2,
            "linecolor": "white",
            "showbackground": true,
            "ticks": "",
            "zerolinecolor": "white"
           }
          },
          "shapedefaults": {
           "line": {
            "color": "#2a3f5f"
           }
          },
          "ternary": {
           "aaxis": {
            "gridcolor": "white",
            "linecolor": "white",
            "ticks": ""
           },
           "baxis": {
            "gridcolor": "white",
            "linecolor": "white",
            "ticks": ""
           },
           "bgcolor": "#E5ECF6",
           "caxis": {
            "gridcolor": "white",
            "linecolor": "white",
            "ticks": ""
           }
          },
          "title": {
           "x": 0.05
          },
          "xaxis": {
           "automargin": true,
           "gridcolor": "white",
           "linecolor": "white",
           "ticks": "",
           "title": {
            "standoff": 15
           },
           "zerolinecolor": "white",
           "zerolinewidth": 2
          },
          "yaxis": {
           "automargin": true,
           "gridcolor": "white",
           "linecolor": "white",
           "ticks": "",
           "title": {
            "standoff": 15
           },
           "zerolinecolor": "white",
           "zerolinewidth": 2
          }
         }
        },
        "title": {
         "text": "Price Distribution of Top 10 TV Brands across Different Retailers (No Outliers)"
        },
        "updatemenus": [
         {
          "active": 0,
          "buttons": [
           {
            "args": [
             {
              "visible": [
               true,
               true,
               true,
               true,
               true,
               true,
               true,
               true,
               true,
               true,
               false,
               false,
               false,
               false,
               false,
               false,
               false,
               false,
               false,
               false,
               false,
               false,
               false,
               false,
               false,
               false,
               false,
               false,
               false,
               false,
               false,
               false,
               false,
               false,
               false,
               false,
               false,
               false,
               false,
               false,
               false,
               false,
               false,
               false,
               false,
               false,
               false,
               false,
               false,
               false
              ]
             }
            ],
            "label": "All Retailers",
            "method": "update"
           },
           {
            "args": [
             {
              "visible": [
               false,
               false,
               false,
               false,
               false,
               false,
               false,
               false,
               false,
               false,
               true,
               true,
               true,
               true,
               true,
               true,
               true,
               true,
               true,
               true,
               false,
               false,
               false,
               false,
               false,
               false,
               false,
               false,
               false,
               false,
               false,
               false,
               false,
               false,
               false,
               false,
               false,
               false,
               false,
               false,
               false,
               false,
               false,
               false,
               false,
               false,
               false,
               false,
               false,
               false
              ]
             }
            ],
            "label": "Walmart",
            "method": "update"
           },
           {
            "args": [
             {
              "visible": [
               false,
               false,
               false,
               false,
               false,
               false,
               false,
               false,
               false,
               false,
               false,
               false,
               false,
               false,
               false,
               false,
               false,
               false,
               false,
               false,
               true,
               true,
               true,
               true,
               true,
               true,
               true,
               true,
               true,
               true,
               false,
               false,
               false,
               false,
               false,
               false,
               false,
               false,
               false,
               false,
               false,
               false,
               false,
               false,
               false,
               false,
               false,
               false,
               false,
               false
              ]
             }
            ],
            "label": "Costco",
            "method": "update"
           },
           {
            "args": [
             {
              "visible": [
               false,
               false,
               false,
               false,
               false,
               false,
               false,
               false,
               false,
               false,
               false,
               false,
               false,
               false,
               false,
               false,
               false,
               false,
               false,
               false,
               false,
               false,
               false,
               false,
               false,
               false,
               false,
               false,
               false,
               false,
               true,
               true,
               true,
               true,
               true,
               true,
               true,
               true,
               true,
               true,
               false,
               false,
               false,
               false,
               false,
               false,
               false,
               false,
               false,
               false
              ]
             }
            ],
            "label": "BestBuy",
            "method": "update"
           },
           {
            "args": [
             {
              "visible": [
               false,
               false,
               false,
               false,
               false,
               false,
               false,
               false,
               false,
               false,
               false,
               false,
               false,
               false,
               false,
               false,
               false,
               false,
               false,
               false,
               false,
               false,
               false,
               false,
               false,
               false,
               false,
               false,
               false,
               false,
               false,
               false,
               false,
               false,
               false,
               false,
               false,
               false,
               false,
               false,
               true,
               true,
               true,
               true,
               true,
               true,
               true,
               true,
               true,
               true
              ]
             }
            ],
            "label": "Amazon",
            "method": "update"
           }
          ]
         }
        ],
        "xaxis": {
         "title": {
          "text": "TV Brand"
         }
        },
        "yaxis": {
         "title": {
          "text": "Price ($)"
         }
        }
       }
      }
     },
     "metadata": {},
     "output_type": "display_data"
    }
   ],
   "source": [
    "filtered_price_df = all_df[all_df['Brand'].isin(top_brands)]\n",
    "\n",
    "# Remove outliers\n",
    "filtered_price_df_no_outliers = filtered_price_df.copy()\n",
    "for brand in top_brands:\n",
    "    brand_df = filtered_price_df[filtered_price_df['Brand'] == brand]\n",
    "    Q1 = brand_df['Price'].quantile(0.25)\n",
    "    Q3 = brand_df['Price'].quantile(0.75)\n",
    "    IQR = Q3 - Q1\n",
    "    lower_bound = Q1 - 1.5 * IQR\n",
    "    upper_bound = Q3 + 1.5 * IQR\n",
    "    \n",
    "    # Filter the brand_df to exclude outliers\n",
    "    brand_df_no_outliers = brand_df[(brand_df['Price'] >= lower_bound) & (brand_df['Price'] <= upper_bound)]\n",
    "    filtered_price_df_no_outliers = filtered_price_df_no_outliers[filtered_price_df_no_outliers['Brand'] != brand]  # Exclude the original data for the brand\n",
    "    filtered_price_df_no_outliers = pd.concat([filtered_price_df_no_outliers, brand_df_no_outliers], axis=0)  # Include the filtered data for the brand\n",
    "\n",
    "\n",
    "# Initialize visibility list with True for aggregated traces and False for retailer-specific traces\n",
    "visibility_default = [True]*len(top_brands) + [False]*len(top_brands)*len(file_paths)\n",
    "\n",
    "# Modify the dropdown buttons\n",
    "buttons = [\n",
    "    dict(label=\"All Retailers\", method=\"update\", args=[{\"visible\": visibility_default}])\n",
    "]\n",
    "\n",
    "for i, retailer in enumerate(file_paths.keys()):\n",
    "    visibility = [False]*len(top_brands) + [False]*i*len(top_brands) + [True]*len(top_brands) + [False]*(len(file_paths)-i-1)*len(top_brands)\n",
    "    buttons.append(dict(label=retailer, method=\"update\", args=[{\"visible\": visibility}]))\n",
    "\n",
    "# Create traces\n",
    "traces = []\n",
    "\n",
    "# Additional trace for the aggregated data of all retailers for each brand\n",
    "for brand in top_brands:\n",
    "    brand_df = filtered_price_df_no_outliers[filtered_price_df_no_outliers['Brand'] == brand]\n",
    "    traces.append(go.Box(y=brand_df['Price'], name=f\"{brand}\", marker_color=px.colors.qualitative.Set3[top_brands.index(brand)], showlegend=True))\n",
    "\n",
    "# Traces for each brand and retailer\n",
    "for retailer in file_paths.keys():\n",
    "    for brand in top_brands:\n",
    "        brand_retailer_df = filtered_price_df_no_outliers[(filtered_price_df_no_outliers['Brand'] == brand) & (filtered_price_df_no_outliers['Retailer'] == retailer)]\n",
    "        traces.append(go.Box(y=brand_retailer_df['Price'], name=f\"{brand}\", marker_color=px.colors.qualitative.Set3[top_brands.index(brand)], showlegend=False))\n",
    "\n",
    "fig = go.Figure(data=traces)\n",
    "\n",
    "fig.update_layout(\n",
    "    updatemenus=[go.layout.Updatemenu(active=0, buttons=buttons)],\n",
    "    title='Price Distribution of Top 10 TV Brands across Different Retailers (No Outliers)',\n",
    "    xaxis_title='TV Brand',\n",
    "    yaxis_title='Price ($)',\n",
    "    boxmode='group'  \n",
    ")\n",
    "\n",
    "# Set default visibility\n",
    "fig.update_traces(visible=False)\n",
    "for i in range(len(top_brands)):\n",
    "    fig.data[i].visible = True\n",
    "\n",
    "fig.show()"
   ]
  },
  {
   "cell_type": "code",
   "execution_count": 9,
   "metadata": {},
   "outputs": [],
   "source": [
    "go.Figure(fig).write_html(\"eda_plots/iDC_plot4.html\", auto_open=True)"
   ]
  },
  {
   "cell_type": "code",
   "execution_count": 10,
   "metadata": {},
   "outputs": [
    {
     "data": {
      "application/vnd.plotly.v1+json": {
       "config": {
        "plotlyServerURL": "https://plot.ly"
       },
       "data": [
        {
         "boxpoints": "outliers",
         "marker": {
          "color": "rgb(141,211,199)"
         },
         "name": "Walmart",
         "showlegend": true,
         "type": "box",
         "xaxis": "x",
         "y": [
          377.99,
          4297.99,
          747.99,
          347.99,
          397.99,
          477.99,
          278,
          558,
          469,
          247.99,
          497.99,
          479.99,
          497.99,
          348,
          677.99,
          359,
          477.99,
          197.99,
          374.46,
          447.99,
          277.99,
          597.95,
          984.95,
          469,
          786.99,
          785.66,
          497.99,
          997.95,
          749,
          647.99,
          2997.99,
          527.99,
          1497.99,
          597.99,
          227.99,
          747.99,
          405.88,
          447.99,
          849,
          1297.99,
          1197.99,
          1399,
          982.01,
          997.99,
          4997.99,
          1567.95,
          627.99,
          627.99,
          997.99,
          1797.99,
          947.99,
          1497.99,
          1197.99,
          427.99,
          377.99,
          3568.99,
          3880.11,
          1897.99,
          1339,
          1247.99,
          1597.99,
          1197.99,
          2497.95,
          1659,
          1997.99,
          3497.99,
          1497.99,
          947.99,
          1597.99,
          2159.76,
          1397.99,
          4197.99,
          1397.99,
          6497.99,
          1197.99,
          1397.99,
          1997.99,
          1997.99,
          2597.99,
          2597,
          3242.84,
          4497,
          7497.99,
          1597.99,
          3124.62,
          2299,
          2797.99,
          2147.95,
          3297.99,
          1997.99,
          4997.99,
          3239,
          2897.99,
          2597.99,
          997.99,
          1199.99,
          2097.99,
          3997.99,
          947.99,
          1794,
          3497.99,
          997.99,
          947.99,
          2297.99,
          797.99,
          1059.99,
          899,
          477.99,
          2997.99,
          2597.99,
          2197.99,
          2397.99,
          2379,
          3279,
          2191,
          1499,
          998,
          997.99,
          2197.99,
          1599,
          1497.99,
          567.95,
          2148,
          797.99,
          1995.72,
          1697.95,
          939,
          14997.99,
          995.88,
          2795.95,
          3048.43,
          2397.99,
          1197.99,
          1539,
          2597.99,
          5618.48,
          4497.99,
          739.99,
          2549,
          2697.99,
          1197.99,
          7997.99,
          174.99,
          289,
          1497.99,
          1279,
          6997.99,
          779,
          795,
          1533.33,
          527.95,
          3060,
          1797.99,
          2997.99,
          1497.99,
          4997.99,
          769,
          1695,
          1997,
          803.18,
          3097,
          899,
          319,
          427.99,
          492.98,
          919,
          2997,
          1997.99,
          1697.99,
          3297.99,
          4997.99,
          2195,
          687.9,
          4197.99,
          2479,
          2499,
          1997.99,
          1479,
          947.99,
          499.99,
          1067.95,
          3497.99,
          229,
          1697.99,
          1399,
          2249,
          880.15,
          1699,
          1697.99,
          597.99,
          4297.99,
          2797.99,
          1695,
          890.98,
          3095,
          4497,
          1197.99,
          582.97,
          1697.99,
          949,
          849,
          1189.99,
          997.99,
          585,
          1299.99,
          1297.99,
          1499,
          279,
          1347.99,
          2997,
          1197.99,
          1297.99,
          1097.99,
          3699,
          379,
          939,
          4849,
          5797.99,
          997.99,
          4297.99,
          2745.98,
          1799,
          329,
          710,
          839.95,
          2299,
          1897.99,
          3497.99,
          949,
          997.99,
          786.99,
          1897.99,
          2997,
          2979.99,
          1455.99,
          979,
          1397.99,
          426.55,
          2597,
          3149,
          5797.99,
          1239.99,
          3779,
          525,
          1421,
          1749,
          949,
          2797.99,
          2297.99,
          559.99,
          2179,
          1997,
          1669,
          3497.99,
          4997.99,
          797.99,
          2997.99,
          479.99,
          1197.99,
          2575,
          2797.99,
          1729.99,
          2049.99,
          1497.99,
          1899,
          5399,
          799,
          702.05,
          175,
          997.99,
          949,
          1347.98,
          619.99,
          1397.99,
          1299.99,
          579,
          2297.99,
          1297.99,
          360.05,
          849,
          997.99,
          319,
          2597.99,
          3299,
          2597.99,
          972.99,
          1820,
          2379,
          2597,
          2788.99,
          5997,
          664.05,
          1705.99,
          499.99,
          577.99,
          2997.99,
          848,
          3079,
          1997.99,
          1497.99,
          6497.99,
          499,
          3497,
          4997.99,
          2997.99,
          334,
          379.99,
          389,
          3119.54,
          379,
          97.99,
          3799,
          4297.99,
          439.99,
          4297.99,
          477.99,
          1299.99,
          699,
          2995.95,
          459.99,
          1997.99,
          389.99,
          619,
          1797.99,
          464.8,
          349,
          387.58,
          2297
         ],
         "yaxis": "y"
        },
        {
         "boxpoints": "outliers",
         "marker": {
          "color": "rgb(255,255,179)"
         },
         "name": "Costco",
         "showlegend": true,
         "type": "box",
         "xaxis": "x",
         "y": [
          2998,
          1798,
          598,
          598,
          698,
          2198,
          4198,
          1398,
          998,
          748,
          2298,
          1498,
          848,
          5498,
          5998,
          2998,
          798,
          4198,
          3298,
          1498,
          9998,
          3498,
          7998,
          1798,
          3998,
          4798,
          748,
          848,
          1698,
          548,
          7098,
          2398,
          1898,
          1398,
          648,
          2198,
          2999.97,
          2998,
          1297.99,
          1098,
          228,
          1598,
          898
         ],
         "yaxis": "y"
        },
        {
         "boxpoints": "outliers",
         "marker": {
          "color": "rgb(190,186,218)"
         },
         "name": "BestBuy",
         "showlegend": true,
         "type": "box",
         "xaxis": "x",
         "y": [
          479.99,
          749.99,
          379.99,
          279.99,
          349.99,
          629.99,
          1699.99,
          349.99,
          799.99,
          229.99,
          999.99,
          599.99,
          249.99,
          749.99,
          499.99,
          1299.99,
          479.99,
          2499.99,
          1399.99,
          499.99,
          1899.99,
          1599.99,
          349.99,
          629.99,
          429.99,
          949.99,
          2399.99,
          849.99,
          749.99,
          474.99,
          2599.99,
          1899.99,
          1499.99,
          1799.99,
          1299.99,
          1599.99,
          1599.99,
          1999.99,
          3499.99,
          1499.99,
          1199.99,
          2999.99,
          1299.99,
          2899.99,
          1044.99,
          1199.99,
          1529.99,
          1699.99,
          2199.99,
          499.99,
          1519.99,
          4199.99,
          999.99,
          1599.99,
          1199.99,
          199.99,
          1099.99,
          949.99,
          599.99,
          7999.99,
          1699.99,
          4999.99,
          4999.99,
          4299.99,
          1099.99,
          1614.99,
          6999.99,
          4499.99,
          4199.99,
          4499.99,
          617.99,
          3299.99,
          5799.99,
          2199.99,
          3499.99,
          999.99,
          1499.99,
          6499.99,
          1079.99,
          2899.99,
          1499.99,
          3499.99,
          7499.99,
          9999.99,
          1375,
          1900,
          4999.99,
          149999.99,
          1350.99,
          999.99,
          1124.99,
          401.99,
          360.99,
          322.99,
          1379.99,
          879.99,
          359.99,
          4874.99,
          1899.99,
          449.99,
          1199.99,
          474.99,
          2699.99,
          2474.99,
          359.99,
          584.99,
          2599.99,
          1104.99,
          902.99,
          1599.99,
          854.99,
          4249.99,
          617.99,
          2399.99,
          1699.99,
          1139.99,
          3299.99,
          909.99,
          2279.99,
          3799.99,
          1699.99,
          1399.99,
          1619.99,
          664.99,
          549.99,
          549.99,
          531,
          1104.99,
          1234.99,
          1699.99,
          404.99,
          679.99,
          329.99,
          2469.99,
          1329.99,
          1949.99,
          2089.99,
          779.99,
          1649.99,
          679.99,
          1299.99,
          2399.99,
          4749.99,
          2849.99,
          14999.99,
          1999.99,
          3199.99,
          759.99,
          807.99,
          569.99,
          902.99,
          1688,
          1088,
          713,
          1999.99,
          19999.99,
          850,
          3499.99
         ],
         "yaxis": "y"
        },
        {
         "boxpoints": "outliers",
         "marker": {
          "color": "rgb(251,128,114)"
         },
         "name": "Amazon",
         "showlegend": true,
         "type": "box",
         "xaxis": "x",
         "y": [
          1059.99,
          1399.99,
          1296.98,
          1998,
          799.99,
          346.49,
          1498,
          4199.99,
          1640.48,
          3098,
          3298,
          9999.99,
          699.99,
          328.46,
          708.75,
          12999.99,
          2591.73,
          1299.99,
          3947.18,
          2998,
          2485.83,
          825.03,
          801.34,
          199.99,
          199.99,
          199.99,
          274,
          3000.97,
          249.99,
          2635.85,
          899.99,
          278.48,
          9998,
          699.99,
          11998,
          2097.98,
          2198,
          898,
          349.99,
          648,
          216.6,
          998,
          348
         ],
         "yaxis": "y"
        },
        {
         "boxpoints": "outliers",
         "marker": {
          "color": "rgb(141,211,199)"
         },
         "name": "Walmart",
         "showlegend": false,
         "type": "box",
         "xaxis": "x2",
         "y": [
          228,
          278,
          158,
          298,
          248,
          168,
          188,
          128,
          158,
          598,
          398,
          408,
          238,
          106,
          198,
          949.99,
          599.99,
          598,
          138,
          548,
          229.97,
          699.99,
          259.99,
          148,
          1133.59,
          479.97,
          1198,
          2992.7,
          14,
          179,
          729.05,
          204.48,
          136.99,
          119.96,
          259,
          149.99,
          158.99,
          343.99,
          356,
          219.99,
          159.99,
          597.99,
          168,
          309.99,
          297,
          219.99,
          219.99,
          269.98,
          498,
          164.99,
          299.99,
          319.99,
          194.75,
          189,
          199.99,
          159.99,
          598,
          628,
          211.99,
          249.99,
          249.99,
          29.99,
          519,
          438.99,
          369.99,
          42.99,
          299.99,
          201.99,
          222,
          589.99
         ],
         "yaxis": "y2"
        },
        {
         "boxpoints": "outliers",
         "marker": {
          "color": "rgb(255,255,179)"
         },
         "name": "Costco",
         "showlegend": false,
         "type": "box",
         "xaxis": "x2",
         "y": [],
         "yaxis": "y2"
        },
        {
         "boxpoints": "outliers",
         "marker": {
          "color": "rgb(190,186,218)"
         },
         "name": "BestBuy",
         "showlegend": false,
         "type": "box",
         "xaxis": "x2",
         "y": [
          189.99,
          549.99,
          169.99,
          139.99,
          249.99,
          99.99,
          1199.99,
          161.99,
          674.99,
          807.99,
          284.99,
          299.99,
          359.99,
          629.99,
          566.99,
          799.99,
          269.99,
          351.99,
          359.99,
          899.99,
          365.99,
          649.99
         ],
         "yaxis": "y2"
        },
        {
         "boxpoints": "outliers",
         "marker": {
          "color": "rgb(251,128,114)"
         },
         "name": "Amazon",
         "showlegend": false,
         "type": "box",
         "xaxis": "x2",
         "y": [
          238.36,
          273.67,
          316.95
         ],
         "yaxis": "y2"
        },
        {
         "boxpoints": "outliers",
         "marker": {
          "color": "rgb(141,211,199)"
         },
         "name": "Walmart",
         "showlegend": false,
         "type": "box",
         "xaxis": "x3",
         "y": [
          148,
          698,
          2496.99,
          529.97,
          218,
          1198,
          1096.95,
          1796.99,
          496.99,
          796.99,
          1179,
          1996.99,
          696.99,
          1597.99,
          1496.99,
          669,
          1346.99,
          746.99,
          696.99,
          2865.02,
          1796.99,
          3996.99,
          2399,
          2996.99,
          1396.95,
          668.89,
          1496.99,
          996.99,
          1460.57,
          2697.99,
          1296.99,
          3996.99,
          2997.99,
          946.99,
          2096.99,
          2496.99,
          1215.53,
          2796.99,
          346.99,
          4496.99,
          996.99,
          396.99,
          1196.99,
          1096.99,
          1096.99,
          846.99,
          376.99,
          556.28,
          2499,
          1896.99,
          5092.89,
          696.99,
          2996.99,
          5796.99,
          2899,
          1696.99,
          3879,
          446.99,
          1396.99,
          2195.91,
          2196.99,
          1100.03,
          796.99,
          2999.99,
          2997,
          3122.05,
          435,
          3946.99,
          696.99,
          2997,
          775,
          1539,
          5793.98,
          3793.98,
          1499.99,
          1196.99,
          1062.97,
          1260.33,
          711.77,
          480,
          728.62,
          476.26,
          3996.99,
          4749.99,
          1689.99,
          979.22,
          943.64,
          1696.99,
          887.77,
          659.49,
          709,
          2999,
          559,
          762.02,
          399,
          449.99,
          2496.99,
          423.84,
          946.99,
          152.95,
          1849
         ],
         "yaxis": "y3"
        },
        {
         "boxpoints": "outliers",
         "marker": {
          "color": "rgb(255,255,179)"
         },
         "name": "Costco",
         "showlegend": false,
         "type": "box",
         "xaxis": "x3",
         "y": [
          247.99,
          527.99,
          2897.99,
          2197.99,
          997.99,
          1697.99,
          1597.99,
          2697.99,
          1997.99,
          1097.99,
          4097.99,
          597.99,
          3497.99,
          6997.99,
          7497.99,
          1397.99,
          897.99,
          597.99,
          1097.99,
          697.99,
          2497.99,
          647.99,
          847.99,
          1297.99,
          697.99
         ],
         "yaxis": "y3"
        },
        {
         "boxpoints": "outliers",
         "marker": {
          "color": "rgb(190,186,218)"
         },
         "name": "BestBuy",
         "showlegend": false,
         "type": "box",
         "xaxis": "x3",
         "y": [
          1699.99,
          649.99,
          479.99,
          379.99,
          1099.99,
          279.99,
          729.99,
          2699.99,
          179.99,
          999.99,
          349.99,
          99.99,
          169.99,
          1499.99,
          1999.99,
          1199.99,
          999.99,
          849.99,
          2299.99,
          799.99,
          1499.99,
          1099.99,
          1199.99,
          599.99,
          499.99,
          699.99,
          599.99,
          399.99,
          699.99,
          1049.99,
          369.99,
          1099.99,
          379.99,
          949.99,
          4499.99,
          569.99,
          2799.99,
          1499.99,
          149.99,
          2099.99,
          3999.99,
          1699.99,
          459.99,
          1199.99,
          599.99,
          5799.99,
          209.99,
          499.99,
          1799.99,
          1499.99,
          2499.99,
          899.99,
          1099.99,
          1999.99,
          3999.99,
          699.99,
          3299.99,
          699.99,
          549.99,
          4999.99,
          569.99,
          29999.99,
          2499.99,
          999.99,
          1299.99,
          1199.99,
          455.99,
          1699.99,
          1799.99,
          799.99,
          1499.99,
          1209.99,
          2499.99,
          1299.99,
          1099.99,
          1699.99,
          764.99,
          664.99,
          1439.99,
          979.99,
          1199.99,
          999.99,
          1599.99,
          849.99,
          408.99,
          2799.99,
          379.99,
          301.99,
          1049.99,
          759.99,
          2374.99,
          24999.99,
          949.99,
          349.99,
          664.99,
          4499.99,
          386.99,
          169.99,
          2849.99,
          1399.99,
          24999.99,
          1999.99,
          9999.99,
          3799.99,
          7999.99,
          3999.99
         ],
         "yaxis": "y3"
        },
        {
         "boxpoints": "outliers",
         "marker": {
          "color": "rgb(251,128,114)"
         },
         "name": "Amazon",
         "showlegend": false,
         "type": "box",
         "xaxis": "x3",
         "y": [
          2897.99,
          9999.99,
          324.99,
          896.99,
          3497.99,
          39997.99,
          249.99,
          2497.99,
          1397.99,
          1597.99,
          1497.99,
          39997.99,
          698,
          3299.99,
          1417.99,
          699,
          1715.99,
          769,
          999,
          661.46,
          1999.99,
          996.8,
          996.8,
          177.26,
          1297.99,
          1097.99,
          247.99
         ],
         "yaxis": "y3"
        },
        {
         "boxpoints": "outliers",
         "marker": {
          "color": "rgb(141,211,199)"
         },
         "name": "Walmart",
         "showlegend": false,
         "type": "box",
         "xaxis": "x4",
         "y": [
          249.97,
          158,
          196,
          649.95,
          448,
          198,
          128,
          279.99,
          304.47,
          749,
          598,
          208,
          1899.99,
          949.99,
          138,
          138,
          379.98,
          179.99,
          128,
          228,
          295.46,
          199.99,
          299.99,
          548,
          269.99,
          1298,
          279.99,
          2799.99,
          2099.99,
          1048,
          259,
          798,
          269,
          1298,
          198.55,
          329.99,
          1299.99,
          268,
          772,
          164,
          445.46,
          1698,
          248,
          234.99,
          305.67,
          269,
          134
         ],
         "yaxis": "y4"
        },
        {
         "boxpoints": "outliers",
         "marker": {
          "color": "rgb(255,255,179)"
         },
         "name": "Costco",
         "showlegend": false,
         "type": "box",
         "xaxis": "x4",
         "y": [],
         "yaxis": "y4"
        },
        {
         "boxpoints": "outliers",
         "marker": {
          "color": "rgb(190,186,218)"
         },
         "name": "BestBuy",
         "showlegend": false,
         "type": "box",
         "xaxis": "x4",
         "y": [
          279.99,
          399.99,
          549.99,
          599.99,
          299.99,
          799.99,
          209.99,
          279.99,
          159.99,
          799.99,
          249.99,
          139.99,
          999.99,
          2999.99,
          359.99,
          299.99,
          1099.99,
          349.99,
          129.99,
          599.99,
          199.99,
          449.99,
          799.99,
          1299.99,
          1699.99,
          1699.99,
          299.99,
          1799.99,
          1299.99,
          449.99,
          2399.99,
          379.99,
          279.99,
          249.99,
          319.99,
          279.99,
          249.99,
          674.99,
          557.99,
          161.99,
          949.99,
          269.99,
          427.99,
          599.99,
          569.99,
          479.99,
          629.99,
          349.99,
          3999.99,
          487.99,
          579.99,
          1119.99,
          1499.99,
          539.99,
          127.99,
          365.99,
          386.99,
          1274.99,
          569.99,
          8999.99,
          237.99,
          664.99,
          599.99,
          129.99,
          1099.99,
          1299.99
         ],
         "yaxis": "y4"
        },
        {
         "boxpoints": "outliers",
         "marker": {
          "color": "rgb(251,128,114)"
         },
         "name": "Amazon",
         "showlegend": false,
         "type": "box",
         "xaxis": "x4",
         "y": [
          1399.99,
          701.17,
          1698.95,
          698.17,
          749.99,
          787.03,
          600.31,
          813.32,
          989.46,
          337.87,
          1150.99,
          308.73,
          1150.99,
          308.73,
          743.02,
          499.99,
          294.3,
          178.95,
          178.95
         ],
         "yaxis": "y4"
        },
        {
         "boxpoints": "outliers",
         "marker": {
          "color": "rgb(141,211,199)"
         },
         "name": "Walmart",
         "showlegend": false,
         "type": "box",
         "xaxis": "x5",
         "y": [
          199,
          525,
          179.98,
          19.99
         ],
         "yaxis": "y5"
        },
        {
         "boxpoints": "outliers",
         "marker": {
          "color": "rgb(255,255,179)"
         },
         "name": "Costco",
         "showlegend": false,
         "type": "box",
         "xaxis": "x5",
         "y": [],
         "yaxis": "y5"
        },
        {
         "boxpoints": "outliers",
         "marker": {
          "color": "rgb(190,186,218)"
         },
         "name": "BestBuy",
         "showlegend": false,
         "type": "box",
         "xaxis": "x5",
         "y": [
          269.99,
          129.99,
          349.99,
          159.99,
          299.99,
          119.99,
          84.99,
          119.99,
          239.99,
          84.99,
          529.99,
          599.99,
          99.99,
          199.99,
          59.99,
          119.99,
          89.99,
          99.99,
          110.99,
          125.99,
          129.99,
          170.99,
          229.99,
          339.99,
          375.99
         ],
         "yaxis": "y5"
        },
        {
         "boxpoints": "outliers",
         "marker": {
          "color": "rgb(251,128,114)"
         },
         "name": "Amazon",
         "showlegend": false,
         "type": "box",
         "xaxis": "x5",
         "y": [
          387.33,
          387.33,
          199.99
         ],
         "yaxis": "y5"
        },
        {
         "boxpoints": "outliers",
         "marker": {
          "color": "rgb(141,211,199)"
         },
         "name": "Walmart",
         "showlegend": false,
         "type": "box",
         "xaxis": "x6",
         "y": [
          1398,
          998,
          1298,
          1419.99,
          4449,
          699,
          598,
          721.11,
          998,
          1149,
          1198,
          2998,
          698,
          848,
          578,
          4079,
          2998,
          2198,
          698,
          1998,
          1898,
          2998,
          1498,
          2479,
          2998,
          3069.99,
          298,
          798,
          1979.99,
          1419.99,
          1698,
          1298,
          5998,
          7998,
          1398,
          3999.99,
          998,
          409.45,
          1398,
          1298,
          2529.99,
          329.99,
          1148,
          2697.97,
          1398,
          3795,
          2700,
          341.05,
          798,
          1449.99,
          1398,
          1499.99,
          2498,
          1399,
          3899,
          759,
          398,
          648,
          2797,
          2998,
          3019.99,
          1297.99,
          2499.99,
          1400.99,
          1998,
          498,
          1398,
          1249.99,
          998,
          1498,
          4100,
          1297.99,
          1998,
          3998,
          1149,
          2898,
          1298,
          5097,
          928,
          1450.99,
          548,
          399.99,
          1498,
          1184.66,
          1798,
          1598,
          3945,
          1380.99
         ],
         "yaxis": "y6"
        },
        {
         "boxpoints": "outliers",
         "marker": {
          "color": "rgb(255,255,179)"
         },
         "name": "Costco",
         "showlegend": false,
         "type": "box",
         "xaxis": "x6",
         "y": [
          3298,
          1298,
          578,
          2998,
          5498,
          748,
          1998,
          698,
          1798,
          4198,
          6498,
          2198,
          2998,
          998,
          1398,
          398,
          898,
          1498,
          948,
          1098
         ],
         "yaxis": "y6"
        },
        {
         "boxpoints": "outliers",
         "marker": {
          "color": "rgb(190,186,218)"
         },
         "name": "BestBuy",
         "showlegend": false,
         "type": "box",
         "xaxis": "x6",
         "y": [
          599.99,
          399.99,
          849.99,
          1999.99,
          1599.99,
          929.99,
          2999.99,
          649.99,
          549.99,
          1799.99,
          2499.99,
          1399.99,
          2799.99,
          4999.99,
          3999.99,
          449.99,
          299.99,
          799.99,
          1299.99,
          699.99,
          799.99,
          1999.99,
          1299.99,
          4999.99,
          999.99,
          1899.99,
          1599.99,
          699.99,
          1899.99,
          1199.99,
          699.99,
          1299.99,
          1199.99,
          2499.99,
          1399.99,
          2999.99,
          999.99,
          4999.99,
          549.99,
          3499.99,
          1599.99,
          2199.99,
          1999.99,
          1299.99,
          6999.99,
          849.99,
          3999.99,
          2799.99,
          929.99,
          2564.99,
          909.99,
          7999.99,
          1999.99,
          2999.99,
          1399.99,
          1899.99,
          4299.99,
          1374.99,
          2999.99,
          599.99,
          5999.99,
          5699.99,
          949.99,
          9999.99
         ],
         "yaxis": "y6"
        },
        {
         "boxpoints": "outliers",
         "marker": {
          "color": "rgb(251,128,114)"
         },
         "name": "Amazon",
         "showlegend": false,
         "type": "box",
         "xaxis": "x6",
         "y": [
          723,
          1748,
          980.37,
          1798,
          1298,
          1498,
          2998,
          2498,
          3998,
          7199.99,
          3498,
          1698,
          3298,
          398,
          818,
          578
         ],
         "yaxis": "y6"
        },
        {
         "boxpoints": "outliers",
         "marker": {
          "color": "rgb(141,211,199)"
         },
         "name": "Walmart",
         "showlegend": false,
         "type": "box",
         "xaxis": "x7",
         "y": [
          128,
          578,
          258,
          298,
          419.95,
          199.95,
          228,
          578,
          258,
          597.99,
          398,
          498,
          897.99,
          679,
          795.99,
          548,
          1097,
          1819.99,
          2499,
          178,
          128,
          238,
          1598,
          279.98,
          398,
          698,
          598,
          3199,
          498,
          2999.99,
          389.99,
          2497.97,
          4497.97,
          3999,
          3179,
          798,
          448,
          798,
          1128,
          298,
          944,
          429.5,
          628,
          279.98,
          359.99,
          219.99,
          264.99
         ],
         "yaxis": "y7"
        },
        {
         "boxpoints": "outliers",
         "marker": {
          "color": "rgb(255,255,179)"
         },
         "name": "Costco",
         "showlegend": false,
         "type": "box",
         "xaxis": "x7",
         "y": [
          449.99,
          547.99,
          1597.99,
          697.99,
          527.99,
          847.99,
          1297.99,
          3497.99,
          397.99,
          2497.99,
          197.99,
          797.99,
          897.99,
          2197.99,
          1197.99,
          1697.99,
          897.99,
          177.99,
          697.99
         ],
         "yaxis": "y7"
        },
        {
         "boxpoints": "outliers",
         "marker": {
          "color": "rgb(190,186,218)"
         },
         "name": "BestBuy",
         "showlegend": false,
         "type": "box",
         "xaxis": "x7",
         "y": [
          949.99,
          455.99,
          139.99,
          289.99,
          149.99,
          169.99,
          129.99,
          299.99,
          639.99,
          449.99,
          349.99,
          269.99,
          299.99,
          119.99,
          269.99,
          1099.99,
          369.99,
          309.99,
          529.99,
          429.99,
          649.99,
          1949.99,
          239.99,
          639.99,
          1099.99,
          799.99,
          1399.99,
          579.99,
          159.99,
          1499.99,
          799.99,
          1049.99,
          1199.99,
          299.99,
          179.99,
          139.99,
          699.99,
          129.99,
          2199.99,
          119.99,
          349.99,
          229.99,
          569.99,
          902.99,
          455.99,
          599.99,
          369.99,
          1199.99,
          699.99,
          449.99,
          1699.99,
          379.99,
          989.99,
          1199.99,
          1424.99,
          4999.99,
          975.99,
          1799.99,
          2999.99,
          199.99,
          259.99
         ],
         "yaxis": "y7"
        },
        {
         "boxpoints": "outliers",
         "marker": {
          "color": "rgb(251,128,114)"
         },
         "name": "Amazon",
         "showlegend": false,
         "type": "box",
         "xaxis": "x7",
         "y": [
          2498,
          549.05,
          510.03,
          661.6,
          2498,
          678.34,
          1343.99,
          587.65,
          1510.49,
          1443.06,
          590.35,
          648,
          648,
          649.99,
          549.99,
          248
         ],
         "yaxis": "y7"
        },
        {
         "boxpoints": "outliers",
         "marker": {
          "color": "rgb(141,211,199)"
         },
         "name": "Walmart",
         "showlegend": false,
         "type": "box",
         "xaxis": "x8",
         "y": [
          378,
          158,
          148,
          228,
          98,
          498,
          69.99,
          109.99
         ],
         "yaxis": "y8"
        },
        {
         "boxpoints": "outliers",
         "marker": {
          "color": "rgb(255,255,179)"
         },
         "name": "Costco",
         "showlegend": false,
         "type": "box",
         "xaxis": "x8",
         "y": [],
         "yaxis": "y8"
        },
        {
         "boxpoints": "outliers",
         "marker": {
          "color": "rgb(190,186,218)"
         },
         "name": "BestBuy",
         "showlegend": false,
         "type": "box",
         "xaxis": "x8",
         "y": [],
         "yaxis": "y8"
        },
        {
         "boxpoints": "outliers",
         "marker": {
          "color": "rgb(251,128,114)"
         },
         "name": "Amazon",
         "showlegend": false,
         "type": "box",
         "xaxis": "x8",
         "y": [],
         "yaxis": "y8"
        },
        {
         "boxpoints": "outliers",
         "marker": {
          "color": "rgb(141,211,199)"
         },
         "name": "Walmart",
         "showlegend": false,
         "type": "box",
         "xaxis": "x9",
         "y": [],
         "yaxis": "y9"
        },
        {
         "boxpoints": "outliers",
         "marker": {
          "color": "rgb(255,255,179)"
         },
         "name": "Costco",
         "showlegend": false,
         "type": "box",
         "xaxis": "x9",
         "y": [],
         "yaxis": "y9"
        },
        {
         "boxpoints": "outliers",
         "marker": {
          "color": "rgb(190,186,218)"
         },
         "name": "BestBuy",
         "showlegend": false,
         "type": "box",
         "xaxis": "x9",
         "y": [
          259.99,
          569.99,
          279.99,
          529.99,
          209.99,
          209.99,
          89.99,
          235.99,
          127.99,
          129.99,
          189.99,
          181.99,
          329.99,
          312.99
         ],
         "yaxis": "y9"
        },
        {
         "boxpoints": "outliers",
         "marker": {
          "color": "rgb(251,128,114)"
         },
         "name": "Amazon",
         "showlegend": false,
         "type": "box",
         "xaxis": "x9",
         "y": [
          349.99,
          649.95,
          649.99
         ],
         "yaxis": "y9"
        },
        {
         "boxpoints": "outliers",
         "marker": {
          "color": "rgb(141,211,199)"
         },
         "name": "Walmart",
         "showlegend": false,
         "type": "box",
         "xaxis": "x10",
         "y": [
          161.49,
          248,
          123.9,
          200.55,
          14.39,
          57,
          1380,
          49.99,
          60.68,
          45.01,
          95,
          238,
          149.99,
          199.99,
          799,
          168,
          178,
          99.95,
          149.95,
          665,
          26.48,
          2059,
          79,
          348,
          519,
          288,
          2029.99,
          211.11,
          1399,
          247.99,
          2133.52,
          75.95,
          988,
          179.99,
          829,
          477,
          450,
          109.95,
          189.99,
          579.99,
          99.99,
          550,
          2049.99,
          878.95,
          359,
          479,
          129.95,
          999,
          499,
          78.36,
          609,
          677,
          1921.79,
          1059,
          119.71,
          82.07,
          399,
          440,
          66.48,
          59.79,
          139.99,
          433.68,
          189.21,
          195.48,
          409.99,
          159.27,
          118.14,
          219.99,
          113.22,
          68.69,
          24.99,
          49.95,
          139.93,
          480,
          129.99,
          194.95,
          600,
          299.99,
          777,
          149.99,
          82.25,
          65.99,
          79.31,
          147.02,
          181.87,
          17.99,
          142.45,
          134.8,
          154.89,
          555
         ],
         "yaxis": "y10"
        },
        {
         "boxpoints": "outliers",
         "marker": {
          "color": "rgb(255,255,179)"
         },
         "name": "Costco",
         "showlegend": false,
         "type": "box",
         "xaxis": "x10",
         "y": [],
         "yaxis": "y10"
        },
        {
         "boxpoints": "outliers",
         "marker": {
          "color": "rgb(190,186,218)"
         },
         "name": "BestBuy",
         "showlegend": false,
         "type": "box",
         "xaxis": "x10",
         "y": [
          169.99,
          2299.99,
          2999.99,
          4299.99,
          2999.99,
          249.99,
          269.99
         ],
         "yaxis": "y10"
        },
        {
         "boxpoints": "outliers",
         "marker": {
          "color": "rgb(251,128,114)"
         },
         "name": "Amazon",
         "showlegend": false,
         "type": "box",
         "xaxis": "x10",
         "y": [
          221.87,
          169.49,
          49.99,
          69.99,
          119.99,
          13340,
          284.75,
          125.99,
          280,
          284.75,
          266.17,
          65.99,
          99.34,
          89.99,
          99.99,
          40.99,
          179.99,
          296.61,
          499,
          1400,
          439,
          64.9,
          357.54,
          129.3,
          109.99,
          109.99,
          39.99,
          169.81,
          149.99,
          21.79,
          298,
          119.99,
          189.99,
          142.23,
          298,
          119.99,
          39.98,
          23.67,
          166.39
         ],
         "yaxis": "y10"
        }
       ],
       "layout": {
        "annotations": [
         {
          "font": {
           "size": 16
          },
          "showarrow": false,
          "text": "Samsung",
          "x": 0.041,
          "xanchor": "center",
          "xref": "paper",
          "y": 1,
          "yanchor": "bottom",
          "yref": "paper"
         },
         {
          "font": {
           "size": 16
          },
          "showarrow": false,
          "text": "Vizio",
          "x": 0.14300000000000002,
          "xanchor": "center",
          "xref": "paper",
          "y": 1,
          "yanchor": "bottom",
          "yref": "paper"
         },
         {
          "font": {
           "size": 16
          },
          "showarrow": false,
          "text": "LG",
          "x": 0.24500000000000002,
          "xanchor": "center",
          "xref": "paper",
          "y": 1,
          "yanchor": "bottom",
          "yref": "paper"
         },
         {
          "font": {
           "size": 16
          },
          "showarrow": false,
          "text": "TCL",
          "x": 0.347,
          "xanchor": "center",
          "xref": "paper",
          "y": 1,
          "yanchor": "bottom",
          "yref": "paper"
         },
         {
          "font": {
           "size": 16
          },
          "showarrow": false,
          "text": "Insignia",
          "x": 0.44900000000000007,
          "xanchor": "center",
          "xref": "paper",
          "y": 1,
          "yanchor": "bottom",
          "yref": "paper"
         },
         {
          "font": {
           "size": 16
          },
          "showarrow": false,
          "text": "Sony",
          "x": 0.5509999999999999,
          "xanchor": "center",
          "xref": "paper",
          "y": 1,
          "yanchor": "bottom",
          "yref": "paper"
         },
         {
          "font": {
           "size": 16
          },
          "showarrow": false,
          "text": "Hisense",
          "x": 0.653,
          "xanchor": "center",
          "xref": "paper",
          "y": 1,
          "yanchor": "bottom",
          "yref": "paper"
         },
         {
          "font": {
           "size": 16
          },
          "showarrow": false,
          "text": "Sceptre",
          "x": 0.7550000000000001,
          "xanchor": "center",
          "xref": "paper",
          "y": 1,
          "yanchor": "bottom",
          "yref": "paper"
         },
         {
          "font": {
           "size": 16
          },
          "showarrow": false,
          "text": "Toshiba",
          "x": 0.857,
          "xanchor": "center",
          "xref": "paper",
          "y": 1,
          "yanchor": "bottom",
          "yref": "paper"
         },
         {
          "font": {
           "size": 16
          },
          "showarrow": false,
          "text": "Other",
          "x": 0.9589999999999999,
          "xanchor": "center",
          "xref": "paper",
          "y": 1,
          "yanchor": "bottom",
          "yref": "paper"
         }
        ],
        "boxmode": "group",
        "template": {
         "data": {
          "bar": [
           {
            "error_x": {
             "color": "#2a3f5f"
            },
            "error_y": {
             "color": "#2a3f5f"
            },
            "marker": {
             "line": {
              "color": "#E5ECF6",
              "width": 0.5
             },
             "pattern": {
              "fillmode": "overlay",
              "size": 10,
              "solidity": 0.2
             }
            },
            "type": "bar"
           }
          ],
          "barpolar": [
           {
            "marker": {
             "line": {
              "color": "#E5ECF6",
              "width": 0.5
             },
             "pattern": {
              "fillmode": "overlay",
              "size": 10,
              "solidity": 0.2
             }
            },
            "type": "barpolar"
           }
          ],
          "carpet": [
           {
            "aaxis": {
             "endlinecolor": "#2a3f5f",
             "gridcolor": "white",
             "linecolor": "white",
             "minorgridcolor": "white",
             "startlinecolor": "#2a3f5f"
            },
            "baxis": {
             "endlinecolor": "#2a3f5f",
             "gridcolor": "white",
             "linecolor": "white",
             "minorgridcolor": "white",
             "startlinecolor": "#2a3f5f"
            },
            "type": "carpet"
           }
          ],
          "choropleth": [
           {
            "colorbar": {
             "outlinewidth": 0,
             "ticks": ""
            },
            "type": "choropleth"
           }
          ],
          "contour": [
           {
            "colorbar": {
             "outlinewidth": 0,
             "ticks": ""
            },
            "colorscale": [
             [
              0,
              "#0d0887"
             ],
             [
              0.1111111111111111,
              "#46039f"
             ],
             [
              0.2222222222222222,
              "#7201a8"
             ],
             [
              0.3333333333333333,
              "#9c179e"
             ],
             [
              0.4444444444444444,
              "#bd3786"
             ],
             [
              0.5555555555555556,
              "#d8576b"
             ],
             [
              0.6666666666666666,
              "#ed7953"
             ],
             [
              0.7777777777777778,
              "#fb9f3a"
             ],
             [
              0.8888888888888888,
              "#fdca26"
             ],
             [
              1,
              "#f0f921"
             ]
            ],
            "type": "contour"
           }
          ],
          "contourcarpet": [
           {
            "colorbar": {
             "outlinewidth": 0,
             "ticks": ""
            },
            "type": "contourcarpet"
           }
          ],
          "heatmap": [
           {
            "colorbar": {
             "outlinewidth": 0,
             "ticks": ""
            },
            "colorscale": [
             [
              0,
              "#0d0887"
             ],
             [
              0.1111111111111111,
              "#46039f"
             ],
             [
              0.2222222222222222,
              "#7201a8"
             ],
             [
              0.3333333333333333,
              "#9c179e"
             ],
             [
              0.4444444444444444,
              "#bd3786"
             ],
             [
              0.5555555555555556,
              "#d8576b"
             ],
             [
              0.6666666666666666,
              "#ed7953"
             ],
             [
              0.7777777777777778,
              "#fb9f3a"
             ],
             [
              0.8888888888888888,
              "#fdca26"
             ],
             [
              1,
              "#f0f921"
             ]
            ],
            "type": "heatmap"
           }
          ],
          "heatmapgl": [
           {
            "colorbar": {
             "outlinewidth": 0,
             "ticks": ""
            },
            "colorscale": [
             [
              0,
              "#0d0887"
             ],
             [
              0.1111111111111111,
              "#46039f"
             ],
             [
              0.2222222222222222,
              "#7201a8"
             ],
             [
              0.3333333333333333,
              "#9c179e"
             ],
             [
              0.4444444444444444,
              "#bd3786"
             ],
             [
              0.5555555555555556,
              "#d8576b"
             ],
             [
              0.6666666666666666,
              "#ed7953"
             ],
             [
              0.7777777777777778,
              "#fb9f3a"
             ],
             [
              0.8888888888888888,
              "#fdca26"
             ],
             [
              1,
              "#f0f921"
             ]
            ],
            "type": "heatmapgl"
           }
          ],
          "histogram": [
           {
            "marker": {
             "pattern": {
              "fillmode": "overlay",
              "size": 10,
              "solidity": 0.2
             }
            },
            "type": "histogram"
           }
          ],
          "histogram2d": [
           {
            "colorbar": {
             "outlinewidth": 0,
             "ticks": ""
            },
            "colorscale": [
             [
              0,
              "#0d0887"
             ],
             [
              0.1111111111111111,
              "#46039f"
             ],
             [
              0.2222222222222222,
              "#7201a8"
             ],
             [
              0.3333333333333333,
              "#9c179e"
             ],
             [
              0.4444444444444444,
              "#bd3786"
             ],
             [
              0.5555555555555556,
              "#d8576b"
             ],
             [
              0.6666666666666666,
              "#ed7953"
             ],
             [
              0.7777777777777778,
              "#fb9f3a"
             ],
             [
              0.8888888888888888,
              "#fdca26"
             ],
             [
              1,
              "#f0f921"
             ]
            ],
            "type": "histogram2d"
           }
          ],
          "histogram2dcontour": [
           {
            "colorbar": {
             "outlinewidth": 0,
             "ticks": ""
            },
            "colorscale": [
             [
              0,
              "#0d0887"
             ],
             [
              0.1111111111111111,
              "#46039f"
             ],
             [
              0.2222222222222222,
              "#7201a8"
             ],
             [
              0.3333333333333333,
              "#9c179e"
             ],
             [
              0.4444444444444444,
              "#bd3786"
             ],
             [
              0.5555555555555556,
              "#d8576b"
             ],
             [
              0.6666666666666666,
              "#ed7953"
             ],
             [
              0.7777777777777778,
              "#fb9f3a"
             ],
             [
              0.8888888888888888,
              "#fdca26"
             ],
             [
              1,
              "#f0f921"
             ]
            ],
            "type": "histogram2dcontour"
           }
          ],
          "mesh3d": [
           {
            "colorbar": {
             "outlinewidth": 0,
             "ticks": ""
            },
            "type": "mesh3d"
           }
          ],
          "parcoords": [
           {
            "line": {
             "colorbar": {
              "outlinewidth": 0,
              "ticks": ""
             }
            },
            "type": "parcoords"
           }
          ],
          "pie": [
           {
            "automargin": true,
            "type": "pie"
           }
          ],
          "scatter": [
           {
            "fillpattern": {
             "fillmode": "overlay",
             "size": 10,
             "solidity": 0.2
            },
            "type": "scatter"
           }
          ],
          "scatter3d": [
           {
            "line": {
             "colorbar": {
              "outlinewidth": 0,
              "ticks": ""
             }
            },
            "marker": {
             "colorbar": {
              "outlinewidth": 0,
              "ticks": ""
             }
            },
            "type": "scatter3d"
           }
          ],
          "scattercarpet": [
           {
            "marker": {
             "colorbar": {
              "outlinewidth": 0,
              "ticks": ""
             }
            },
            "type": "scattercarpet"
           }
          ],
          "scattergeo": [
           {
            "marker": {
             "colorbar": {
              "outlinewidth": 0,
              "ticks": ""
             }
            },
            "type": "scattergeo"
           }
          ],
          "scattergl": [
           {
            "marker": {
             "colorbar": {
              "outlinewidth": 0,
              "ticks": ""
             }
            },
            "type": "scattergl"
           }
          ],
          "scattermapbox": [
           {
            "marker": {
             "colorbar": {
              "outlinewidth": 0,
              "ticks": ""
             }
            },
            "type": "scattermapbox"
           }
          ],
          "scatterpolar": [
           {
            "marker": {
             "colorbar": {
              "outlinewidth": 0,
              "ticks": ""
             }
            },
            "type": "scatterpolar"
           }
          ],
          "scatterpolargl": [
           {
            "marker": {
             "colorbar": {
              "outlinewidth": 0,
              "ticks": ""
             }
            },
            "type": "scatterpolargl"
           }
          ],
          "scatterternary": [
           {
            "marker": {
             "colorbar": {
              "outlinewidth": 0,
              "ticks": ""
             }
            },
            "type": "scatterternary"
           }
          ],
          "surface": [
           {
            "colorbar": {
             "outlinewidth": 0,
             "ticks": ""
            },
            "colorscale": [
             [
              0,
              "#0d0887"
             ],
             [
              0.1111111111111111,
              "#46039f"
             ],
             [
              0.2222222222222222,
              "#7201a8"
             ],
             [
              0.3333333333333333,
              "#9c179e"
             ],
             [
              0.4444444444444444,
              "#bd3786"
             ],
             [
              0.5555555555555556,
              "#d8576b"
             ],
             [
              0.6666666666666666,
              "#ed7953"
             ],
             [
              0.7777777777777778,
              "#fb9f3a"
             ],
             [
              0.8888888888888888,
              "#fdca26"
             ],
             [
              1,
              "#f0f921"
             ]
            ],
            "type": "surface"
           }
          ],
          "table": [
           {
            "cells": {
             "fill": {
              "color": "#EBF0F8"
             },
             "line": {
              "color": "white"
             }
            },
            "header": {
             "fill": {
              "color": "#C8D4E3"
             },
             "line": {
              "color": "white"
             }
            },
            "type": "table"
           }
          ]
         },
         "layout": {
          "annotationdefaults": {
           "arrowcolor": "#2a3f5f",
           "arrowhead": 0,
           "arrowwidth": 1
          },
          "autotypenumbers": "strict",
          "coloraxis": {
           "colorbar": {
            "outlinewidth": 0,
            "ticks": ""
           }
          },
          "colorscale": {
           "diverging": [
            [
             0,
             "#8e0152"
            ],
            [
             0.1,
             "#c51b7d"
            ],
            [
             0.2,
             "#de77ae"
            ],
            [
             0.3,
             "#f1b6da"
            ],
            [
             0.4,
             "#fde0ef"
            ],
            [
             0.5,
             "#f7f7f7"
            ],
            [
             0.6,
             "#e6f5d0"
            ],
            [
             0.7,
             "#b8e186"
            ],
            [
             0.8,
             "#7fbc41"
            ],
            [
             0.9,
             "#4d9221"
            ],
            [
             1,
             "#276419"
            ]
           ],
           "sequential": [
            [
             0,
             "#0d0887"
            ],
            [
             0.1111111111111111,
             "#46039f"
            ],
            [
             0.2222222222222222,
             "#7201a8"
            ],
            [
             0.3333333333333333,
             "#9c179e"
            ],
            [
             0.4444444444444444,
             "#bd3786"
            ],
            [
             0.5555555555555556,
             "#d8576b"
            ],
            [
             0.6666666666666666,
             "#ed7953"
            ],
            [
             0.7777777777777778,
             "#fb9f3a"
            ],
            [
             0.8888888888888888,
             "#fdca26"
            ],
            [
             1,
             "#f0f921"
            ]
           ],
           "sequentialminus": [
            [
             0,
             "#0d0887"
            ],
            [
             0.1111111111111111,
             "#46039f"
            ],
            [
             0.2222222222222222,
             "#7201a8"
            ],
            [
             0.3333333333333333,
             "#9c179e"
            ],
            [
             0.4444444444444444,
             "#bd3786"
            ],
            [
             0.5555555555555556,
             "#d8576b"
            ],
            [
             0.6666666666666666,
             "#ed7953"
            ],
            [
             0.7777777777777778,
             "#fb9f3a"
            ],
            [
             0.8888888888888888,
             "#fdca26"
            ],
            [
             1,
             "#f0f921"
            ]
           ]
          },
          "colorway": [
           "#636efa",
           "#EF553B",
           "#00cc96",
           "#ab63fa",
           "#FFA15A",
           "#19d3f3",
           "#FF6692",
           "#B6E880",
           "#FF97FF",
           "#FECB52"
          ],
          "font": {
           "color": "#2a3f5f"
          },
          "geo": {
           "bgcolor": "white",
           "lakecolor": "white",
           "landcolor": "#E5ECF6",
           "showlakes": true,
           "showland": true,
           "subunitcolor": "white"
          },
          "hoverlabel": {
           "align": "left"
          },
          "hovermode": "closest",
          "mapbox": {
           "style": "light"
          },
          "paper_bgcolor": "white",
          "plot_bgcolor": "#E5ECF6",
          "polar": {
           "angularaxis": {
            "gridcolor": "white",
            "linecolor": "white",
            "ticks": ""
           },
           "bgcolor": "#E5ECF6",
           "radialaxis": {
            "gridcolor": "white",
            "linecolor": "white",
            "ticks": ""
           }
          },
          "scene": {
           "xaxis": {
            "backgroundcolor": "#E5ECF6",
            "gridcolor": "white",
            "gridwidth": 2,
            "linecolor": "white",
            "showbackground": true,
            "ticks": "",
            "zerolinecolor": "white"
           },
           "yaxis": {
            "backgroundcolor": "#E5ECF6",
            "gridcolor": "white",
            "gridwidth": 2,
            "linecolor": "white",
            "showbackground": true,
            "ticks": "",
            "zerolinecolor": "white"
           },
           "zaxis": {
            "backgroundcolor": "#E5ECF6",
            "gridcolor": "white",
            "gridwidth": 2,
            "linecolor": "white",
            "showbackground": true,
            "ticks": "",
            "zerolinecolor": "white"
           }
          },
          "shapedefaults": {
           "line": {
            "color": "#2a3f5f"
           }
          },
          "ternary": {
           "aaxis": {
            "gridcolor": "white",
            "linecolor": "white",
            "ticks": ""
           },
           "baxis": {
            "gridcolor": "white",
            "linecolor": "white",
            "ticks": ""
           },
           "bgcolor": "#E5ECF6",
           "caxis": {
            "gridcolor": "white",
            "linecolor": "white",
            "ticks": ""
           }
          },
          "title": {
           "x": 0.05
          },
          "xaxis": {
           "automargin": true,
           "gridcolor": "white",
           "linecolor": "white",
           "ticks": "",
           "title": {
            "standoff": 15
           },
           "zerolinecolor": "white",
           "zerolinewidth": 2
          },
          "yaxis": {
           "automargin": true,
           "gridcolor": "white",
           "linecolor": "white",
           "ticks": "",
           "title": {
            "standoff": 15
           },
           "zerolinecolor": "white",
           "zerolinewidth": 2
          }
         }
        },
        "title": {
         "text": "Comparison of Price Distribution of Top Brands across Retailers"
        },
        "xaxis": {
         "anchor": "y",
         "domain": [
          0,
          0.082
         ]
        },
        "xaxis10": {
         "anchor": "y10",
         "domain": [
          0.9179999999999999,
          0.9999999999999999
         ]
        },
        "xaxis2": {
         "anchor": "y2",
         "domain": [
          0.10200000000000001,
          0.184
         ]
        },
        "xaxis3": {
         "anchor": "y3",
         "domain": [
          0.20400000000000001,
          0.28600000000000003
         ]
        },
        "xaxis4": {
         "anchor": "y4",
         "domain": [
          0.306,
          0.388
         ]
        },
        "xaxis5": {
         "anchor": "y5",
         "domain": [
          0.40800000000000003,
          0.49000000000000005
         ]
        },
        "xaxis6": {
         "anchor": "y6",
         "domain": [
          0.51,
          0.592
         ]
        },
        "xaxis7": {
         "anchor": "y7",
         "domain": [
          0.6120000000000001,
          0.6940000000000001
         ]
        },
        "xaxis8": {
         "anchor": "y8",
         "domain": [
          0.7140000000000001,
          0.796
         ]
        },
        "xaxis9": {
         "anchor": "y9",
         "domain": [
          0.8160000000000001,
          0.898
         ]
        },
        "yaxis": {
         "anchor": "x",
         "domain": [
          0,
          1
         ],
         "title": {
          "text": "Price ($)"
         },
         "type": "log"
        },
        "yaxis10": {
         "anchor": "x10",
         "domain": [
          0,
          1
         ],
         "matches": "y",
         "showticklabels": false
        },
        "yaxis2": {
         "anchor": "x2",
         "domain": [
          0,
          1
         ],
         "matches": "y",
         "showticklabels": false
        },
        "yaxis3": {
         "anchor": "x3",
         "domain": [
          0,
          1
         ],
         "matches": "y",
         "showticklabels": false
        },
        "yaxis4": {
         "anchor": "x4",
         "domain": [
          0,
          1
         ],
         "matches": "y",
         "showticklabels": false
        },
        "yaxis5": {
         "anchor": "x5",
         "domain": [
          0,
          1
         ],
         "matches": "y",
         "showticklabels": false
        },
        "yaxis6": {
         "anchor": "x6",
         "domain": [
          0,
          1
         ],
         "matches": "y",
         "showticklabels": false
        },
        "yaxis7": {
         "anchor": "x7",
         "domain": [
          0,
          1
         ],
         "matches": "y",
         "showticklabels": false
        },
        "yaxis8": {
         "anchor": "x8",
         "domain": [
          0,
          1
         ],
         "matches": "y",
         "showticklabels": false
        },
        "yaxis9": {
         "anchor": "x9",
         "domain": [
          0,
          1
         ],
         "matches": "y",
         "showticklabels": false
        }
       }
      }
     },
     "metadata": {},
     "output_type": "display_data"
    }
   ],
   "source": [
    "# Create subplot figure with as many columns as there are top brands\n",
    "fig = make_subplots(rows=1, cols=len(top_brands), subplot_titles=top_brands, shared_yaxes=True)\n",
    "\n",
    "# Define unique colors for each retailer\n",
    "colors = px.colors.qualitative.Set3\n",
    "if len(file_paths) > len(colors):\n",
    "    colors = px.colors.qualitative.Alphabet\n",
    "\n",
    "# Map each retailer to a unique color\n",
    "color_dict = {retailer: colors[i % len(colors)] for i, retailer in enumerate(file_paths.keys())}\n",
    "\n",
    "for i, brand in enumerate(top_brands):\n",
    "    for j, retailer in enumerate(file_paths.keys()):\n",
    "        # Filter the DataFrame for the specific brand and retailer\n",
    "        brand_retailer_df = all_df[(all_df['Brand'] == brand) & (all_df['Retailer'] == retailer)]\n",
    "        \n",
    "        # Create box plot for each retailer\n",
    "        fig.add_trace(go.Box(\n",
    "            y=brand_retailer_df['Price'], \n",
    "            name=retailer,\n",
    "            marker_color=color_dict[retailer],\n",
    "            boxpoints='outliers',  # Show only outliers beyond the whiskers\n",
    "            showlegend=(i==0)  # Show legend only for the first subplot to avoid duplication\n",
    "        ), row=1, col=i+1)\n",
    "\n",
    "fig.update_layout(\n",
    "    title='Comparison of Price Distribution of Top Brands across Retailers',\n",
    "    yaxis_title='Price ($)',\n",
    "    yaxis_type='log',  # Log transform the y-axis\n",
    "    boxmode='group'  # Group together boxes of the different traces for each value of x\n",
    ")\n",
    "\n",
    "fig.show()"
   ]
  },
  {
   "cell_type": "code",
   "execution_count": 11,
   "metadata": {},
   "outputs": [],
   "source": [
    "go.Figure(fig).write_html(\"eda_plots/iDC_plot5.html\", auto_open=True)"
   ]
  },
  {
   "cell_type": "markdown",
   "metadata": {},
   "source": [
    "The price distribution among the top ten brands, based on review numbers, clearly varies. Brands like Samsung, Insignia, and Sony exhibit a broader price range. Additionally, there's noticeable variation in the pricing of the same brand across different retailers. For instance, Walmart generally offers lower prices, potentially reflecting the variety of product lines available, while Bestbuy tends to have higher prices."
   ]
  },
  {
   "cell_type": "markdown",
   "metadata": {},
   "source": [
    "#### 2.2 Customer Sentiments and Preferences:"
   ]
  },
  {
   "cell_type": "code",
   "execution_count": 12,
   "metadata": {},
   "outputs": [
    {
     "data": {
      "text/plain": [
       "1          Vizio\n",
       "2            TCL\n",
       "3        Samsung\n",
       "6        Sceptre\n",
       "20            LG\n",
       "22       Hisense\n",
       "59         Other\n",
       "203         Sony\n",
       "529     Insignia\n",
       "1048     Toshiba\n",
       "Name: Brand, dtype: object"
      ]
     },
     "execution_count": 12,
     "metadata": {},
     "output_type": "execute_result"
    }
   ],
   "source": [
    "top_brands_df = all_df[all_df['Brand'].isin(top_brands)]\n",
    "top_brands_df['Brand'].drop_duplicates()"
   ]
  },
  {
   "cell_type": "code",
   "execution_count": 13,
   "metadata": {},
   "outputs": [
    {
     "data": {
      "application/vnd.plotly.v1+json": {
       "config": {
        "plotlyServerURL": "https://plot.ly"
       },
       "data": [
        {
         "alignmentgroup": "True",
         "hovertemplate": "Retailer=%{x}<br>Brand=Samsung<br>Review Mark=%{y}<extra></extra>",
         "legendgroup": "Amazon",
         "marker": {
          "color": "#636efa",
          "pattern": {
           "shape": ""
          }
         },
         "name": "Amazon",
         "offsetgroup": "Amazon",
         "orientation": "v",
         "showlegend": true,
         "textposition": "auto",
         "type": "bar",
         "x": [
          "Amazon"
         ],
         "xaxis": "x",
         "y": [
          4.013953488372093
         ],
         "yaxis": "y"
        },
        {
         "alignmentgroup": "True",
         "hovertemplate": "Retailer=%{x}<br>Brand=Vizio<br>Review Mark=%{y}<extra></extra>",
         "legendgroup": "Amazon",
         "marker": {
          "color": "#636efa",
          "pattern": {
           "shape": ""
          }
         },
         "name": "Amazon",
         "offsetgroup": "Amazon",
         "orientation": "v",
         "showlegend": false,
         "textposition": "auto",
         "type": "bar",
         "x": [
          "Amazon"
         ],
         "xaxis": "x2",
         "y": [
          4.266666666666667
         ],
         "yaxis": "y2"
        },
        {
         "alignmentgroup": "True",
         "hovertemplate": "Retailer=%{x}<br>Brand=LG<br>Review Mark=%{y}<extra></extra>",
         "legendgroup": "Amazon",
         "marker": {
          "color": "#636efa",
          "pattern": {
           "shape": ""
          }
         },
         "name": "Amazon",
         "offsetgroup": "Amazon",
         "orientation": "v",
         "showlegend": false,
         "textposition": "auto",
         "type": "bar",
         "x": [
          "Amazon"
         ],
         "xaxis": "x3",
         "y": [
          3.3962962962962964
         ],
         "yaxis": "y3"
        },
        {
         "alignmentgroup": "True",
         "hovertemplate": "Retailer=%{x}<br>Brand=TCL<br>Review Mark=%{y}<extra></extra>",
         "legendgroup": "Amazon",
         "marker": {
          "color": "#636efa",
          "pattern": {
           "shape": ""
          }
         },
         "name": "Amazon",
         "offsetgroup": "Amazon",
         "orientation": "v",
         "showlegend": false,
         "textposition": "auto",
         "type": "bar",
         "x": [
          "Amazon"
         ],
         "xaxis": "x4",
         "y": [
          3.452631578947368
         ],
         "yaxis": "y4"
        },
        {
         "alignmentgroup": "True",
         "hovertemplate": "Retailer=%{x}<br>Brand=Insignia<br>Review Mark=%{y}<extra></extra>",
         "legendgroup": "Amazon",
         "marker": {
          "color": "#636efa",
          "pattern": {
           "shape": ""
          }
         },
         "name": "Amazon",
         "offsetgroup": "Amazon",
         "orientation": "v",
         "showlegend": false,
         "textposition": "auto",
         "type": "bar",
         "x": [
          "Amazon"
         ],
         "xaxis": "x5",
         "y": [
          4.333333333333333
         ],
         "yaxis": "y5"
        },
        {
         "alignmentgroup": "True",
         "hovertemplate": "Retailer=%{x}<br>Brand=Sony<br>Review Mark=%{y}<extra></extra>",
         "legendgroup": "Amazon",
         "marker": {
          "color": "#636efa",
          "pattern": {
           "shape": ""
          }
         },
         "name": "Amazon",
         "offsetgroup": "Amazon",
         "orientation": "v",
         "showlegend": false,
         "textposition": "auto",
         "type": "bar",
         "x": [
          "Amazon"
         ],
         "xaxis": "x6",
         "y": [
          4.425
         ],
         "yaxis": "y6"
        },
        {
         "alignmentgroup": "True",
         "hovertemplate": "Retailer=%{x}<br>Brand=Hisense<br>Review Mark=%{y}<extra></extra>",
         "legendgroup": "Amazon",
         "marker": {
          "color": "#636efa",
          "pattern": {
           "shape": ""
          }
         },
         "name": "Amazon",
         "offsetgroup": "Amazon",
         "orientation": "v",
         "showlegend": false,
         "textposition": "auto",
         "type": "bar",
         "x": [
          "Amazon"
         ],
         "xaxis": "x7",
         "y": [
          3.94375
         ],
         "yaxis": "y7"
        },
        {
         "alignmentgroup": "True",
         "hovertemplate": "Retailer=%{x}<br>Brand=Toshiba<br>Review Mark=%{y}<extra></extra>",
         "legendgroup": "Amazon",
         "marker": {
          "color": "#636efa",
          "pattern": {
           "shape": ""
          }
         },
         "name": "Amazon",
         "offsetgroup": "Amazon",
         "orientation": "v",
         "showlegend": false,
         "textposition": "auto",
         "type": "bar",
         "x": [
          "Amazon"
         ],
         "xaxis": "x9",
         "y": [
          4.2
         ],
         "yaxis": "y9"
        },
        {
         "alignmentgroup": "True",
         "hovertemplate": "Retailer=%{x}<br>Brand=Other<br>Review Mark=%{y}<extra></extra>",
         "legendgroup": "Amazon",
         "marker": {
          "color": "#636efa",
          "pattern": {
           "shape": ""
          }
         },
         "name": "Amazon",
         "offsetgroup": "Amazon",
         "orientation": "v",
         "showlegend": false,
         "textposition": "auto",
         "type": "bar",
         "x": [
          "Amazon"
         ],
         "xaxis": "x10",
         "y": [
          3.8282051282051284
         ],
         "yaxis": "y10"
        },
        {
         "alignmentgroup": "True",
         "hovertemplate": "Retailer=%{x}<br>Brand=Samsung<br>Review Mark=%{y}<extra></extra>",
         "legendgroup": "BestBuy",
         "marker": {
          "color": "#EF553B",
          "pattern": {
           "shape": ""
          }
         },
         "name": "BestBuy",
         "offsetgroup": "BestBuy",
         "orientation": "v",
         "showlegend": true,
         "textposition": "auto",
         "type": "bar",
         "x": [
          "BestBuy"
         ],
         "xaxis": "x",
         "y": [
          3.8879746835443036
         ],
         "yaxis": "y"
        },
        {
         "alignmentgroup": "True",
         "hovertemplate": "Retailer=%{x}<br>Brand=Vizio<br>Review Mark=%{y}<extra></extra>",
         "legendgroup": "BestBuy",
         "marker": {
          "color": "#EF553B",
          "pattern": {
           "shape": ""
          }
         },
         "name": "BestBuy",
         "offsetgroup": "BestBuy",
         "orientation": "v",
         "showlegend": false,
         "textposition": "auto",
         "type": "bar",
         "x": [
          "BestBuy"
         ],
         "xaxis": "x2",
         "y": [
          4.372727272727273
         ],
         "yaxis": "y2"
        },
        {
         "alignmentgroup": "True",
         "hovertemplate": "Retailer=%{x}<br>Brand=LG<br>Review Mark=%{y}<extra></extra>",
         "legendgroup": "BestBuy",
         "marker": {
          "color": "#EF553B",
          "pattern": {
           "shape": ""
          }
         },
         "name": "BestBuy",
         "offsetgroup": "BestBuy",
         "orientation": "v",
         "showlegend": false,
         "textposition": "auto",
         "type": "bar",
         "x": [
          "BestBuy"
         ],
         "xaxis": "x3",
         "y": [
          3.723584905660377
         ],
         "yaxis": "y3"
        },
        {
         "alignmentgroup": "True",
         "hovertemplate": "Retailer=%{x}<br>Brand=TCL<br>Review Mark=%{y}<extra></extra>",
         "legendgroup": "BestBuy",
         "marker": {
          "color": "#EF553B",
          "pattern": {
           "shape": ""
          }
         },
         "name": "BestBuy",
         "offsetgroup": "BestBuy",
         "orientation": "v",
         "showlegend": false,
         "textposition": "auto",
         "type": "bar",
         "x": [
          "BestBuy"
         ],
         "xaxis": "x4",
         "y": [
          4.033333333333333
         ],
         "yaxis": "y4"
        },
        {
         "alignmentgroup": "True",
         "hovertemplate": "Retailer=%{x}<br>Brand=Insignia<br>Review Mark=%{y}<extra></extra>",
         "legendgroup": "BestBuy",
         "marker": {
          "color": "#EF553B",
          "pattern": {
           "shape": ""
          }
         },
         "name": "BestBuy",
         "offsetgroup": "BestBuy",
         "orientation": "v",
         "showlegend": false,
         "textposition": "auto",
         "type": "bar",
         "x": [
          "BestBuy"
         ],
         "xaxis": "x5",
         "y": [
          4.412
         ],
         "yaxis": "y5"
        },
        {
         "alignmentgroup": "True",
         "hovertemplate": "Retailer=%{x}<br>Brand=Sony<br>Review Mark=%{y}<extra></extra>",
         "legendgroup": "BestBuy",
         "marker": {
          "color": "#EF553B",
          "pattern": {
           "shape": ""
          }
         },
         "name": "BestBuy",
         "offsetgroup": "BestBuy",
         "orientation": "v",
         "showlegend": false,
         "textposition": "auto",
         "type": "bar",
         "x": [
          "BestBuy"
         ],
         "xaxis": "x6",
         "y": [
          4.2625
         ],
         "yaxis": "y6"
        },
        {
         "alignmentgroup": "True",
         "hovertemplate": "Retailer=%{x}<br>Brand=Hisense<br>Review Mark=%{y}<extra></extra>",
         "legendgroup": "BestBuy",
         "marker": {
          "color": "#EF553B",
          "pattern": {
           "shape": ""
          }
         },
         "name": "BestBuy",
         "offsetgroup": "BestBuy",
         "orientation": "v",
         "showlegend": false,
         "textposition": "auto",
         "type": "bar",
         "x": [
          "BestBuy"
         ],
         "xaxis": "x7",
         "y": [
          3.8524590163934427
         ],
         "yaxis": "y7"
        },
        {
         "alignmentgroup": "True",
         "hovertemplate": "Retailer=%{x}<br>Brand=Toshiba<br>Review Mark=%{y}<extra></extra>",
         "legendgroup": "BestBuy",
         "marker": {
          "color": "#EF553B",
          "pattern": {
           "shape": ""
          }
         },
         "name": "BestBuy",
         "offsetgroup": "BestBuy",
         "orientation": "v",
         "showlegend": false,
         "textposition": "auto",
         "type": "bar",
         "x": [
          "BestBuy"
         ],
         "xaxis": "x9",
         "y": [
          3.9499999999999997
         ],
         "yaxis": "y9"
        },
        {
         "alignmentgroup": "True",
         "hovertemplate": "Retailer=%{x}<br>Brand=Other<br>Review Mark=%{y}<extra></extra>",
         "legendgroup": "BestBuy",
         "marker": {
          "color": "#EF553B",
          "pattern": {
           "shape": ""
          }
         },
         "name": "BestBuy",
         "offsetgroup": "BestBuy",
         "orientation": "v",
         "showlegend": false,
         "textposition": "auto",
         "type": "bar",
         "x": [
          "BestBuy"
         ],
         "xaxis": "x10",
         "y": [
          4.685714285714285
         ],
         "yaxis": "y10"
        },
        {
         "alignmentgroup": "True",
         "hovertemplate": "Retailer=%{x}<br>Brand=Samsung<br>Review Mark=%{y}<extra></extra>",
         "legendgroup": "Costco",
         "marker": {
          "color": "#00cc96",
          "pattern": {
           "shape": ""
          }
         },
         "name": "Costco",
         "offsetgroup": "Costco",
         "orientation": "v",
         "showlegend": true,
         "textposition": "auto",
         "type": "bar",
         "x": [
          "Costco"
         ],
         "xaxis": "x",
         "y": [
          3.53953488372093
         ],
         "yaxis": "y"
        },
        {
         "alignmentgroup": "True",
         "hovertemplate": "Retailer=%{x}<br>Brand=LG<br>Review Mark=%{y}<extra></extra>",
         "legendgroup": "Costco",
         "marker": {
          "color": "#00cc96",
          "pattern": {
           "shape": ""
          }
         },
         "name": "Costco",
         "offsetgroup": "Costco",
         "orientation": "v",
         "showlegend": false,
         "textposition": "auto",
         "type": "bar",
         "x": [
          "Costco"
         ],
         "xaxis": "x3",
         "y": [
          3.512
         ],
         "yaxis": "y3"
        },
        {
         "alignmentgroup": "True",
         "hovertemplate": "Retailer=%{x}<br>Brand=Sony<br>Review Mark=%{y}<extra></extra>",
         "legendgroup": "Costco",
         "marker": {
          "color": "#00cc96",
          "pattern": {
           "shape": ""
          }
         },
         "name": "Costco",
         "offsetgroup": "Costco",
         "orientation": "v",
         "showlegend": false,
         "textposition": "auto",
         "type": "bar",
         "x": [
          "Costco"
         ],
         "xaxis": "x6",
         "y": [
          4.545
         ],
         "yaxis": "y6"
        },
        {
         "alignmentgroup": "True",
         "hovertemplate": "Retailer=%{x}<br>Brand=Hisense<br>Review Mark=%{y}<extra></extra>",
         "legendgroup": "Costco",
         "marker": {
          "color": "#00cc96",
          "pattern": {
           "shape": ""
          }
         },
         "name": "Costco",
         "offsetgroup": "Costco",
         "orientation": "v",
         "showlegend": false,
         "textposition": "auto",
         "type": "bar",
         "x": [
          "Costco"
         ],
         "xaxis": "x7",
         "y": [
          2.3263157894736843
         ],
         "yaxis": "y7"
        },
        {
         "alignmentgroup": "True",
         "hovertemplate": "Retailer=%{x}<br>Brand=Samsung<br>Review Mark=%{y}<extra></extra>",
         "legendgroup": "Walmart",
         "marker": {
          "color": "#ab63fa",
          "pattern": {
           "shape": ""
          }
         },
         "name": "Walmart",
         "offsetgroup": "Walmart",
         "orientation": "v",
         "showlegend": true,
         "textposition": "auto",
         "type": "bar",
         "x": [
          "Walmart"
         ],
         "xaxis": "x",
         "y": [
          2.7222560975609755
         ],
         "yaxis": "y"
        },
        {
         "alignmentgroup": "True",
         "hovertemplate": "Retailer=%{x}<br>Brand=Vizio<br>Review Mark=%{y}<extra></extra>",
         "legendgroup": "Walmart",
         "marker": {
          "color": "#ab63fa",
          "pattern": {
           "shape": ""
          }
         },
         "name": "Walmart",
         "offsetgroup": "Walmart",
         "orientation": "v",
         "showlegend": false,
         "textposition": "auto",
         "type": "bar",
         "x": [
          "Walmart"
         ],
         "xaxis": "x2",
         "y": [
          3.11
         ],
         "yaxis": "y2"
        },
        {
         "alignmentgroup": "True",
         "hovertemplate": "Retailer=%{x}<br>Brand=LG<br>Review Mark=%{y}<extra></extra>",
         "legendgroup": "Walmart",
         "marker": {
          "color": "#ab63fa",
          "pattern": {
           "shape": ""
          }
         },
         "name": "Walmart",
         "offsetgroup": "Walmart",
         "orientation": "v",
         "showlegend": false,
         "textposition": "auto",
         "type": "bar",
         "x": [
          "Walmart"
         ],
         "xaxis": "x3",
         "y": [
          2.7217821782178215
         ],
         "yaxis": "y3"
        },
        {
         "alignmentgroup": "True",
         "hovertemplate": "Retailer=%{x}<br>Brand=TCL<br>Review Mark=%{y}<extra></extra>",
         "legendgroup": "Walmart",
         "marker": {
          "color": "#ab63fa",
          "pattern": {
           "shape": ""
          }
         },
         "name": "Walmart",
         "offsetgroup": "Walmart",
         "orientation": "v",
         "showlegend": false,
         "textposition": "auto",
         "type": "bar",
         "x": [
          "Walmart"
         ],
         "xaxis": "x4",
         "y": [
          3.6425531914893616
         ],
         "yaxis": "y4"
        },
        {
         "alignmentgroup": "True",
         "hovertemplate": "Retailer=%{x}<br>Brand=Insignia<br>Review Mark=%{y}<extra></extra>",
         "legendgroup": "Walmart",
         "marker": {
          "color": "#ab63fa",
          "pattern": {
           "shape": ""
          }
         },
         "name": "Walmart",
         "offsetgroup": "Walmart",
         "orientation": "v",
         "showlegend": false,
         "textposition": "auto",
         "type": "bar",
         "x": [
          "Walmart"
         ],
         "xaxis": "x5",
         "y": [
          0
         ],
         "yaxis": "y5"
        },
        {
         "alignmentgroup": "True",
         "hovertemplate": "Retailer=%{x}<br>Brand=Sony<br>Review Mark=%{y}<extra></extra>",
         "legendgroup": "Walmart",
         "marker": {
          "color": "#ab63fa",
          "pattern": {
           "shape": ""
          }
         },
         "name": "Walmart",
         "offsetgroup": "Walmart",
         "orientation": "v",
         "showlegend": false,
         "textposition": "auto",
         "type": "bar",
         "x": [
          "Walmart"
         ],
         "xaxis": "x6",
         "y": [
          3.1818181818181817
         ],
         "yaxis": "y6"
        },
        {
         "alignmentgroup": "True",
         "hovertemplate": "Retailer=%{x}<br>Brand=Hisense<br>Review Mark=%{y}<extra></extra>",
         "legendgroup": "Walmart",
         "marker": {
          "color": "#ab63fa",
          "pattern": {
           "shape": ""
          }
         },
         "name": "Walmart",
         "offsetgroup": "Walmart",
         "orientation": "v",
         "showlegend": false,
         "textposition": "auto",
         "type": "bar",
         "x": [
          "Walmart"
         ],
         "xaxis": "x7",
         "y": [
          3.1702127659574466
         ],
         "yaxis": "y7"
        },
        {
         "alignmentgroup": "True",
         "hovertemplate": "Retailer=%{x}<br>Brand=Sceptre<br>Review Mark=%{y}<extra></extra>",
         "legendgroup": "Walmart",
         "marker": {
          "color": "#ab63fa",
          "pattern": {
           "shape": ""
          }
         },
         "name": "Walmart",
         "offsetgroup": "Walmart",
         "orientation": "v",
         "showlegend": false,
         "textposition": "auto",
         "type": "bar",
         "x": [
          "Walmart"
         ],
         "xaxis": "x8",
         "y": [
          4.0875
         ],
         "yaxis": "y8"
        },
        {
         "alignmentgroup": "True",
         "hovertemplate": "Retailer=%{x}<br>Brand=Other<br>Review Mark=%{y}<extra></extra>",
         "legendgroup": "Walmart",
         "marker": {
          "color": "#ab63fa",
          "pattern": {
           "shape": ""
          }
         },
         "name": "Walmart",
         "offsetgroup": "Walmart",
         "orientation": "v",
         "showlegend": false,
         "textposition": "auto",
         "type": "bar",
         "x": [
          "Walmart"
         ],
         "xaxis": "x10",
         "y": [
          1.8833333333333333
         ],
         "yaxis": "y10"
        }
       ],
       "layout": {
        "annotations": [
         {
          "font": {},
          "showarrow": false,
          "text": "Brand=Samsung",
          "x": 0.04100000000000001,
          "xanchor": "center",
          "xref": "paper",
          "y": 1,
          "yanchor": "bottom",
          "yref": "paper"
         },
         {
          "font": {},
          "showarrow": false,
          "text": "Brand=Vizio",
          "x": 0.14300000000000004,
          "xanchor": "center",
          "xref": "paper",
          "y": 1,
          "yanchor": "bottom",
          "yref": "paper"
         },
         {
          "font": {},
          "showarrow": false,
          "text": "Brand=LG",
          "x": 0.24500000000000005,
          "xanchor": "center",
          "xref": "paper",
          "y": 1,
          "yanchor": "bottom",
          "yref": "paper"
         },
         {
          "font": {},
          "showarrow": false,
          "text": "Brand=TCL",
          "x": 0.3470000000000001,
          "xanchor": "center",
          "xref": "paper",
          "y": 1,
          "yanchor": "bottom",
          "yref": "paper"
         },
         {
          "font": {},
          "showarrow": false,
          "text": "Brand=Insignia",
          "x": 0.44900000000000007,
          "xanchor": "center",
          "xref": "paper",
          "y": 1,
          "yanchor": "bottom",
          "yref": "paper"
         },
         {
          "font": {},
          "showarrow": false,
          "text": "Brand=Sony",
          "x": 0.5510000000000002,
          "xanchor": "center",
          "xref": "paper",
          "y": 1,
          "yanchor": "bottom",
          "yref": "paper"
         },
         {
          "font": {},
          "showarrow": false,
          "text": "Brand=Hisense",
          "x": 0.6530000000000001,
          "xanchor": "center",
          "xref": "paper",
          "y": 1,
          "yanchor": "bottom",
          "yref": "paper"
         },
         {
          "font": {},
          "showarrow": false,
          "text": "Brand=Sceptre",
          "x": 0.7550000000000001,
          "xanchor": "center",
          "xref": "paper",
          "y": 1,
          "yanchor": "bottom",
          "yref": "paper"
         },
         {
          "font": {},
          "showarrow": false,
          "text": "Brand=Toshiba",
          "x": 0.8570000000000002,
          "xanchor": "center",
          "xref": "paper",
          "y": 1,
          "yanchor": "bottom",
          "yref": "paper"
         },
         {
          "font": {},
          "showarrow": false,
          "text": "Brand=Other",
          "x": 0.9590000000000002,
          "xanchor": "center",
          "xref": "paper",
          "y": 1,
          "yanchor": "bottom",
          "yref": "paper"
         }
        ],
        "barmode": "relative",
        "legend": {
         "title": {
          "text": "Retailer"
         },
         "tracegroupgap": 0
        },
        "margin": {
         "t": 60
        },
        "template": {
         "data": {
          "bar": [
           {
            "error_x": {
             "color": "#2a3f5f"
            },
            "error_y": {
             "color": "#2a3f5f"
            },
            "marker": {
             "line": {
              "color": "#E5ECF6",
              "width": 0.5
             },
             "pattern": {
              "fillmode": "overlay",
              "size": 10,
              "solidity": 0.2
             }
            },
            "type": "bar"
           }
          ],
          "barpolar": [
           {
            "marker": {
             "line": {
              "color": "#E5ECF6",
              "width": 0.5
             },
             "pattern": {
              "fillmode": "overlay",
              "size": 10,
              "solidity": 0.2
             }
            },
            "type": "barpolar"
           }
          ],
          "carpet": [
           {
            "aaxis": {
             "endlinecolor": "#2a3f5f",
             "gridcolor": "white",
             "linecolor": "white",
             "minorgridcolor": "white",
             "startlinecolor": "#2a3f5f"
            },
            "baxis": {
             "endlinecolor": "#2a3f5f",
             "gridcolor": "white",
             "linecolor": "white",
             "minorgridcolor": "white",
             "startlinecolor": "#2a3f5f"
            },
            "type": "carpet"
           }
          ],
          "choropleth": [
           {
            "colorbar": {
             "outlinewidth": 0,
             "ticks": ""
            },
            "type": "choropleth"
           }
          ],
          "contour": [
           {
            "colorbar": {
             "outlinewidth": 0,
             "ticks": ""
            },
            "colorscale": [
             [
              0,
              "#0d0887"
             ],
             [
              0.1111111111111111,
              "#46039f"
             ],
             [
              0.2222222222222222,
              "#7201a8"
             ],
             [
              0.3333333333333333,
              "#9c179e"
             ],
             [
              0.4444444444444444,
              "#bd3786"
             ],
             [
              0.5555555555555556,
              "#d8576b"
             ],
             [
              0.6666666666666666,
              "#ed7953"
             ],
             [
              0.7777777777777778,
              "#fb9f3a"
             ],
             [
              0.8888888888888888,
              "#fdca26"
             ],
             [
              1,
              "#f0f921"
             ]
            ],
            "type": "contour"
           }
          ],
          "contourcarpet": [
           {
            "colorbar": {
             "outlinewidth": 0,
             "ticks": ""
            },
            "type": "contourcarpet"
           }
          ],
          "heatmap": [
           {
            "colorbar": {
             "outlinewidth": 0,
             "ticks": ""
            },
            "colorscale": [
             [
              0,
              "#0d0887"
             ],
             [
              0.1111111111111111,
              "#46039f"
             ],
             [
              0.2222222222222222,
              "#7201a8"
             ],
             [
              0.3333333333333333,
              "#9c179e"
             ],
             [
              0.4444444444444444,
              "#bd3786"
             ],
             [
              0.5555555555555556,
              "#d8576b"
             ],
             [
              0.6666666666666666,
              "#ed7953"
             ],
             [
              0.7777777777777778,
              "#fb9f3a"
             ],
             [
              0.8888888888888888,
              "#fdca26"
             ],
             [
              1,
              "#f0f921"
             ]
            ],
            "type": "heatmap"
           }
          ],
          "heatmapgl": [
           {
            "colorbar": {
             "outlinewidth": 0,
             "ticks": ""
            },
            "colorscale": [
             [
              0,
              "#0d0887"
             ],
             [
              0.1111111111111111,
              "#46039f"
             ],
             [
              0.2222222222222222,
              "#7201a8"
             ],
             [
              0.3333333333333333,
              "#9c179e"
             ],
             [
              0.4444444444444444,
              "#bd3786"
             ],
             [
              0.5555555555555556,
              "#d8576b"
             ],
             [
              0.6666666666666666,
              "#ed7953"
             ],
             [
              0.7777777777777778,
              "#fb9f3a"
             ],
             [
              0.8888888888888888,
              "#fdca26"
             ],
             [
              1,
              "#f0f921"
             ]
            ],
            "type": "heatmapgl"
           }
          ],
          "histogram": [
           {
            "marker": {
             "pattern": {
              "fillmode": "overlay",
              "size": 10,
              "solidity": 0.2
             }
            },
            "type": "histogram"
           }
          ],
          "histogram2d": [
           {
            "colorbar": {
             "outlinewidth": 0,
             "ticks": ""
            },
            "colorscale": [
             [
              0,
              "#0d0887"
             ],
             [
              0.1111111111111111,
              "#46039f"
             ],
             [
              0.2222222222222222,
              "#7201a8"
             ],
             [
              0.3333333333333333,
              "#9c179e"
             ],
             [
              0.4444444444444444,
              "#bd3786"
             ],
             [
              0.5555555555555556,
              "#d8576b"
             ],
             [
              0.6666666666666666,
              "#ed7953"
             ],
             [
              0.7777777777777778,
              "#fb9f3a"
             ],
             [
              0.8888888888888888,
              "#fdca26"
             ],
             [
              1,
              "#f0f921"
             ]
            ],
            "type": "histogram2d"
           }
          ],
          "histogram2dcontour": [
           {
            "colorbar": {
             "outlinewidth": 0,
             "ticks": ""
            },
            "colorscale": [
             [
              0,
              "#0d0887"
             ],
             [
              0.1111111111111111,
              "#46039f"
             ],
             [
              0.2222222222222222,
              "#7201a8"
             ],
             [
              0.3333333333333333,
              "#9c179e"
             ],
             [
              0.4444444444444444,
              "#bd3786"
             ],
             [
              0.5555555555555556,
              "#d8576b"
             ],
             [
              0.6666666666666666,
              "#ed7953"
             ],
             [
              0.7777777777777778,
              "#fb9f3a"
             ],
             [
              0.8888888888888888,
              "#fdca26"
             ],
             [
              1,
              "#f0f921"
             ]
            ],
            "type": "histogram2dcontour"
           }
          ],
          "mesh3d": [
           {
            "colorbar": {
             "outlinewidth": 0,
             "ticks": ""
            },
            "type": "mesh3d"
           }
          ],
          "parcoords": [
           {
            "line": {
             "colorbar": {
              "outlinewidth": 0,
              "ticks": ""
             }
            },
            "type": "parcoords"
           }
          ],
          "pie": [
           {
            "automargin": true,
            "type": "pie"
           }
          ],
          "scatter": [
           {
            "fillpattern": {
             "fillmode": "overlay",
             "size": 10,
             "solidity": 0.2
            },
            "type": "scatter"
           }
          ],
          "scatter3d": [
           {
            "line": {
             "colorbar": {
              "outlinewidth": 0,
              "ticks": ""
             }
            },
            "marker": {
             "colorbar": {
              "outlinewidth": 0,
              "ticks": ""
             }
            },
            "type": "scatter3d"
           }
          ],
          "scattercarpet": [
           {
            "marker": {
             "colorbar": {
              "outlinewidth": 0,
              "ticks": ""
             }
            },
            "type": "scattercarpet"
           }
          ],
          "scattergeo": [
           {
            "marker": {
             "colorbar": {
              "outlinewidth": 0,
              "ticks": ""
             }
            },
            "type": "scattergeo"
           }
          ],
          "scattergl": [
           {
            "marker": {
             "colorbar": {
              "outlinewidth": 0,
              "ticks": ""
             }
            },
            "type": "scattergl"
           }
          ],
          "scattermapbox": [
           {
            "marker": {
             "colorbar": {
              "outlinewidth": 0,
              "ticks": ""
             }
            },
            "type": "scattermapbox"
           }
          ],
          "scatterpolar": [
           {
            "marker": {
             "colorbar": {
              "outlinewidth": 0,
              "ticks": ""
             }
            },
            "type": "scatterpolar"
           }
          ],
          "scatterpolargl": [
           {
            "marker": {
             "colorbar": {
              "outlinewidth": 0,
              "ticks": ""
             }
            },
            "type": "scatterpolargl"
           }
          ],
          "scatterternary": [
           {
            "marker": {
             "colorbar": {
              "outlinewidth": 0,
              "ticks": ""
             }
            },
            "type": "scatterternary"
           }
          ],
          "surface": [
           {
            "colorbar": {
             "outlinewidth": 0,
             "ticks": ""
            },
            "colorscale": [
             [
              0,
              "#0d0887"
             ],
             [
              0.1111111111111111,
              "#46039f"
             ],
             [
              0.2222222222222222,
              "#7201a8"
             ],
             [
              0.3333333333333333,
              "#9c179e"
             ],
             [
              0.4444444444444444,
              "#bd3786"
             ],
             [
              0.5555555555555556,
              "#d8576b"
             ],
             [
              0.6666666666666666,
              "#ed7953"
             ],
             [
              0.7777777777777778,
              "#fb9f3a"
             ],
             [
              0.8888888888888888,
              "#fdca26"
             ],
             [
              1,
              "#f0f921"
             ]
            ],
            "type": "surface"
           }
          ],
          "table": [
           {
            "cells": {
             "fill": {
              "color": "#EBF0F8"
             },
             "line": {
              "color": "white"
             }
            },
            "header": {
             "fill": {
              "color": "#C8D4E3"
             },
             "line": {
              "color": "white"
             }
            },
            "type": "table"
           }
          ]
         },
         "layout": {
          "annotationdefaults": {
           "arrowcolor": "#2a3f5f",
           "arrowhead": 0,
           "arrowwidth": 1
          },
          "autotypenumbers": "strict",
          "coloraxis": {
           "colorbar": {
            "outlinewidth": 0,
            "ticks": ""
           }
          },
          "colorscale": {
           "diverging": [
            [
             0,
             "#8e0152"
            ],
            [
             0.1,
             "#c51b7d"
            ],
            [
             0.2,
             "#de77ae"
            ],
            [
             0.3,
             "#f1b6da"
            ],
            [
             0.4,
             "#fde0ef"
            ],
            [
             0.5,
             "#f7f7f7"
            ],
            [
             0.6,
             "#e6f5d0"
            ],
            [
             0.7,
             "#b8e186"
            ],
            [
             0.8,
             "#7fbc41"
            ],
            [
             0.9,
             "#4d9221"
            ],
            [
             1,
             "#276419"
            ]
           ],
           "sequential": [
            [
             0,
             "#0d0887"
            ],
            [
             0.1111111111111111,
             "#46039f"
            ],
            [
             0.2222222222222222,
             "#7201a8"
            ],
            [
             0.3333333333333333,
             "#9c179e"
            ],
            [
             0.4444444444444444,
             "#bd3786"
            ],
            [
             0.5555555555555556,
             "#d8576b"
            ],
            [
             0.6666666666666666,
             "#ed7953"
            ],
            [
             0.7777777777777778,
             "#fb9f3a"
            ],
            [
             0.8888888888888888,
             "#fdca26"
            ],
            [
             1,
             "#f0f921"
            ]
           ],
           "sequentialminus": [
            [
             0,
             "#0d0887"
            ],
            [
             0.1111111111111111,
             "#46039f"
            ],
            [
             0.2222222222222222,
             "#7201a8"
            ],
            [
             0.3333333333333333,
             "#9c179e"
            ],
            [
             0.4444444444444444,
             "#bd3786"
            ],
            [
             0.5555555555555556,
             "#d8576b"
            ],
            [
             0.6666666666666666,
             "#ed7953"
            ],
            [
             0.7777777777777778,
             "#fb9f3a"
            ],
            [
             0.8888888888888888,
             "#fdca26"
            ],
            [
             1,
             "#f0f921"
            ]
           ]
          },
          "colorway": [
           "#636efa",
           "#EF553B",
           "#00cc96",
           "#ab63fa",
           "#FFA15A",
           "#19d3f3",
           "#FF6692",
           "#B6E880",
           "#FF97FF",
           "#FECB52"
          ],
          "font": {
           "color": "#2a3f5f"
          },
          "geo": {
           "bgcolor": "white",
           "lakecolor": "white",
           "landcolor": "#E5ECF6",
           "showlakes": true,
           "showland": true,
           "subunitcolor": "white"
          },
          "hoverlabel": {
           "align": "left"
          },
          "hovermode": "closest",
          "mapbox": {
           "style": "light"
          },
          "paper_bgcolor": "white",
          "plot_bgcolor": "#E5ECF6",
          "polar": {
           "angularaxis": {
            "gridcolor": "white",
            "linecolor": "white",
            "ticks": ""
           },
           "bgcolor": "#E5ECF6",
           "radialaxis": {
            "gridcolor": "white",
            "linecolor": "white",
            "ticks": ""
           }
          },
          "scene": {
           "xaxis": {
            "backgroundcolor": "#E5ECF6",
            "gridcolor": "white",
            "gridwidth": 2,
            "linecolor": "white",
            "showbackground": true,
            "ticks": "",
            "zerolinecolor": "white"
           },
           "yaxis": {
            "backgroundcolor": "#E5ECF6",
            "gridcolor": "white",
            "gridwidth": 2,
            "linecolor": "white",
            "showbackground": true,
            "ticks": "",
            "zerolinecolor": "white"
           },
           "zaxis": {
            "backgroundcolor": "#E5ECF6",
            "gridcolor": "white",
            "gridwidth": 2,
            "linecolor": "white",
            "showbackground": true,
            "ticks": "",
            "zerolinecolor": "white"
           }
          },
          "shapedefaults": {
           "line": {
            "color": "#2a3f5f"
           }
          },
          "ternary": {
           "aaxis": {
            "gridcolor": "white",
            "linecolor": "white",
            "ticks": ""
           },
           "baxis": {
            "gridcolor": "white",
            "linecolor": "white",
            "ticks": ""
           },
           "bgcolor": "#E5ECF6",
           "caxis": {
            "gridcolor": "white",
            "linecolor": "white",
            "ticks": ""
           }
          },
          "title": {
           "x": 0.05
          },
          "xaxis": {
           "automargin": true,
           "gridcolor": "white",
           "linecolor": "white",
           "ticks": "",
           "title": {
            "standoff": 15
           },
           "zerolinecolor": "white",
           "zerolinewidth": 2
          },
          "yaxis": {
           "automargin": true,
           "gridcolor": "white",
           "linecolor": "white",
           "ticks": "",
           "title": {
            "standoff": 15
           },
           "zerolinecolor": "white",
           "zerolinewidth": 2
          }
         }
        },
        "xaxis": {
         "anchor": "y",
         "categoryarray": [
          "Amazon",
          "BestBuy",
          "Costco",
          "Walmart"
         ],
         "categoryorder": "array",
         "domain": [
          0,
          0.08200000000000002
         ],
         "title": {
          "text": "Retailer"
         }
        },
        "xaxis10": {
         "anchor": "y10",
         "categoryarray": [
          "Amazon",
          "BestBuy",
          "Costco",
          "Walmart"
         ],
         "categoryorder": "array",
         "domain": [
          0.9180000000000001,
          1
         ],
         "matches": "x",
         "title": {
          "text": "Retailer"
         }
        },
        "xaxis2": {
         "anchor": "y2",
         "categoryarray": [
          "Amazon",
          "BestBuy",
          "Costco",
          "Walmart"
         ],
         "categoryorder": "array",
         "domain": [
          0.10200000000000002,
          0.18400000000000005
         ],
         "matches": "x",
         "title": {
          "text": "Retailer"
         }
        },
        "xaxis3": {
         "anchor": "y3",
         "categoryarray": [
          "Amazon",
          "BestBuy",
          "Costco",
          "Walmart"
         ],
         "categoryorder": "array",
         "domain": [
          0.20400000000000004,
          0.28600000000000003
         ],
         "matches": "x",
         "title": {
          "text": "Retailer"
         }
        },
        "xaxis4": {
         "anchor": "y4",
         "categoryarray": [
          "Amazon",
          "BestBuy",
          "Costco",
          "Walmart"
         ],
         "categoryorder": "array",
         "domain": [
          0.30600000000000005,
          0.38800000000000007
         ],
         "matches": "x",
         "title": {
          "text": "Retailer"
         }
        },
        "xaxis5": {
         "anchor": "y5",
         "categoryarray": [
          "Amazon",
          "BestBuy",
          "Costco",
          "Walmart"
         ],
         "categoryorder": "array",
         "domain": [
          0.4080000000000001,
          0.4900000000000001
         ],
         "matches": "x",
         "title": {
          "text": "Retailer"
         }
        },
        "xaxis6": {
         "anchor": "y6",
         "categoryarray": [
          "Amazon",
          "BestBuy",
          "Costco",
          "Walmart"
         ],
         "categoryorder": "array",
         "domain": [
          0.5100000000000001,
          0.5920000000000001
         ],
         "matches": "x",
         "title": {
          "text": "Retailer"
         }
        },
        "xaxis7": {
         "anchor": "y7",
         "categoryarray": [
          "Amazon",
          "BestBuy",
          "Costco",
          "Walmart"
         ],
         "categoryorder": "array",
         "domain": [
          0.6120000000000001,
          0.6940000000000002
         ],
         "matches": "x",
         "title": {
          "text": "Retailer"
         }
        },
        "xaxis8": {
         "anchor": "y8",
         "categoryarray": [
          "Amazon",
          "BestBuy",
          "Costco",
          "Walmart"
         ],
         "categoryorder": "array",
         "domain": [
          0.7140000000000001,
          0.796
         ],
         "matches": "x",
         "title": {
          "text": "Retailer"
         }
        },
        "xaxis9": {
         "anchor": "y9",
         "categoryarray": [
          "Amazon",
          "BestBuy",
          "Costco",
          "Walmart"
         ],
         "categoryorder": "array",
         "domain": [
          0.8160000000000002,
          0.8980000000000001
         ],
         "matches": "x",
         "title": {
          "text": "Retailer"
         }
        },
        "yaxis": {
         "anchor": "x",
         "domain": [
          0,
          1
         ],
         "title": {
          "text": "Review Mark"
         }
        },
        "yaxis10": {
         "anchor": "x10",
         "domain": [
          0,
          1
         ],
         "matches": "y",
         "showticklabels": false
        },
        "yaxis2": {
         "anchor": "x2",
         "domain": [
          0,
          1
         ],
         "matches": "y",
         "showticklabels": false
        },
        "yaxis3": {
         "anchor": "x3",
         "domain": [
          0,
          1
         ],
         "matches": "y",
         "showticklabels": false
        },
        "yaxis4": {
         "anchor": "x4",
         "domain": [
          0,
          1
         ],
         "matches": "y",
         "showticklabels": false
        },
        "yaxis5": {
         "anchor": "x5",
         "domain": [
          0,
          1
         ],
         "matches": "y",
         "showticklabels": false
        },
        "yaxis6": {
         "anchor": "x6",
         "domain": [
          0,
          1
         ],
         "matches": "y",
         "showticklabels": false
        },
        "yaxis7": {
         "anchor": "x7",
         "domain": [
          0,
          1
         ],
         "matches": "y",
         "showticklabels": false
        },
        "yaxis8": {
         "anchor": "x8",
         "domain": [
          0,
          1
         ],
         "matches": "y",
         "showticklabels": false
        },
        "yaxis9": {
         "anchor": "x9",
         "domain": [
          0,
          1
         ],
         "matches": "y",
         "showticklabels": false
        }
       }
      }
     },
     "metadata": {},
     "output_type": "display_data"
    }
   ],
   "source": [
    "fig = px.bar(top_brands_df.groupby(['Brand', 'Retailer'])['Review Mark'].mean().reset_index(), x='Retailer', y='Review Mark', color='Retailer', facet_col='Brand', category_orders={\"Brand\": top_brands})\n",
    "fig.show()"
   ]
  },
  {
   "cell_type": "code",
   "execution_count": 14,
   "metadata": {},
   "outputs": [],
   "source": [
    "go.Figure(fig).write_html(\"eda_plots/iDC_plot6.html\", auto_open=True)"
   ]
  },
  {
   "cell_type": "markdown",
   "metadata": {},
   "source": [
    "### Section 3: Comprehensive Retailer Evaluation:"
   ]
  },
  {
   "cell_type": "markdown",
   "metadata": {},
   "source": [
    "#### 3.1 Retailer Competitive Edge:"
   ]
  },
  {
   "cell_type": "code",
   "execution_count": 15,
   "metadata": {},
   "outputs": [
    {
     "data": {
      "application/vnd.plotly.v1+json": {
       "config": {
        "plotlyServerURL": "https://plot.ly"
       },
       "data": [
        {
         "name": "Average Review Marks",
         "text": [
          3.6620967741935484,
          3.814405360134003,
          3.505607476635514,
          2.724946466809422
         ],
         "type": "bar",
         "x": [
          "Amazon",
          "BestBuy",
          "Costco",
          "Walmart"
         ],
         "y": [
          3.6620967741935484,
          3.814405360134003,
          3.505607476635514,
          2.724946466809422
         ]
        },
        {
         "name": "Review Density",
         "type": "scatter",
         "x": [
          "Amazon",
          "BestBuy",
          "Costco",
          "Walmart"
         ],
         "y": [
          121.53617021276595,
          450.5845588235294,
          36.57943925233645,
          442.56559139784946
         ],
         "yaxis": "y2"
        }
       ],
       "layout": {
        "template": {
         "data": {
          "bar": [
           {
            "error_x": {
             "color": "#2a3f5f"
            },
            "error_y": {
             "color": "#2a3f5f"
            },
            "marker": {
             "line": {
              "color": "#E5ECF6",
              "width": 0.5
             },
             "pattern": {
              "fillmode": "overlay",
              "size": 10,
              "solidity": 0.2
             }
            },
            "type": "bar"
           }
          ],
          "barpolar": [
           {
            "marker": {
             "line": {
              "color": "#E5ECF6",
              "width": 0.5
             },
             "pattern": {
              "fillmode": "overlay",
              "size": 10,
              "solidity": 0.2
             }
            },
            "type": "barpolar"
           }
          ],
          "carpet": [
           {
            "aaxis": {
             "endlinecolor": "#2a3f5f",
             "gridcolor": "white",
             "linecolor": "white",
             "minorgridcolor": "white",
             "startlinecolor": "#2a3f5f"
            },
            "baxis": {
             "endlinecolor": "#2a3f5f",
             "gridcolor": "white",
             "linecolor": "white",
             "minorgridcolor": "white",
             "startlinecolor": "#2a3f5f"
            },
            "type": "carpet"
           }
          ],
          "choropleth": [
           {
            "colorbar": {
             "outlinewidth": 0,
             "ticks": ""
            },
            "type": "choropleth"
           }
          ],
          "contour": [
           {
            "colorbar": {
             "outlinewidth": 0,
             "ticks": ""
            },
            "colorscale": [
             [
              0,
              "#0d0887"
             ],
             [
              0.1111111111111111,
              "#46039f"
             ],
             [
              0.2222222222222222,
              "#7201a8"
             ],
             [
              0.3333333333333333,
              "#9c179e"
             ],
             [
              0.4444444444444444,
              "#bd3786"
             ],
             [
              0.5555555555555556,
              "#d8576b"
             ],
             [
              0.6666666666666666,
              "#ed7953"
             ],
             [
              0.7777777777777778,
              "#fb9f3a"
             ],
             [
              0.8888888888888888,
              "#fdca26"
             ],
             [
              1,
              "#f0f921"
             ]
            ],
            "type": "contour"
           }
          ],
          "contourcarpet": [
           {
            "colorbar": {
             "outlinewidth": 0,
             "ticks": ""
            },
            "type": "contourcarpet"
           }
          ],
          "heatmap": [
           {
            "colorbar": {
             "outlinewidth": 0,
             "ticks": ""
            },
            "colorscale": [
             [
              0,
              "#0d0887"
             ],
             [
              0.1111111111111111,
              "#46039f"
             ],
             [
              0.2222222222222222,
              "#7201a8"
             ],
             [
              0.3333333333333333,
              "#9c179e"
             ],
             [
              0.4444444444444444,
              "#bd3786"
             ],
             [
              0.5555555555555556,
              "#d8576b"
             ],
             [
              0.6666666666666666,
              "#ed7953"
             ],
             [
              0.7777777777777778,
              "#fb9f3a"
             ],
             [
              0.8888888888888888,
              "#fdca26"
             ],
             [
              1,
              "#f0f921"
             ]
            ],
            "type": "heatmap"
           }
          ],
          "heatmapgl": [
           {
            "colorbar": {
             "outlinewidth": 0,
             "ticks": ""
            },
            "colorscale": [
             [
              0,
              "#0d0887"
             ],
             [
              0.1111111111111111,
              "#46039f"
             ],
             [
              0.2222222222222222,
              "#7201a8"
             ],
             [
              0.3333333333333333,
              "#9c179e"
             ],
             [
              0.4444444444444444,
              "#bd3786"
             ],
             [
              0.5555555555555556,
              "#d8576b"
             ],
             [
              0.6666666666666666,
              "#ed7953"
             ],
             [
              0.7777777777777778,
              "#fb9f3a"
             ],
             [
              0.8888888888888888,
              "#fdca26"
             ],
             [
              1,
              "#f0f921"
             ]
            ],
            "type": "heatmapgl"
           }
          ],
          "histogram": [
           {
            "marker": {
             "pattern": {
              "fillmode": "overlay",
              "size": 10,
              "solidity": 0.2
             }
            },
            "type": "histogram"
           }
          ],
          "histogram2d": [
           {
            "colorbar": {
             "outlinewidth": 0,
             "ticks": ""
            },
            "colorscale": [
             [
              0,
              "#0d0887"
             ],
             [
              0.1111111111111111,
              "#46039f"
             ],
             [
              0.2222222222222222,
              "#7201a8"
             ],
             [
              0.3333333333333333,
              "#9c179e"
             ],
             [
              0.4444444444444444,
              "#bd3786"
             ],
             [
              0.5555555555555556,
              "#d8576b"
             ],
             [
              0.6666666666666666,
              "#ed7953"
             ],
             [
              0.7777777777777778,
              "#fb9f3a"
             ],
             [
              0.8888888888888888,
              "#fdca26"
             ],
             [
              1,
              "#f0f921"
             ]
            ],
            "type": "histogram2d"
           }
          ],
          "histogram2dcontour": [
           {
            "colorbar": {
             "outlinewidth": 0,
             "ticks": ""
            },
            "colorscale": [
             [
              0,
              "#0d0887"
             ],
             [
              0.1111111111111111,
              "#46039f"
             ],
             [
              0.2222222222222222,
              "#7201a8"
             ],
             [
              0.3333333333333333,
              "#9c179e"
             ],
             [
              0.4444444444444444,
              "#bd3786"
             ],
             [
              0.5555555555555556,
              "#d8576b"
             ],
             [
              0.6666666666666666,
              "#ed7953"
             ],
             [
              0.7777777777777778,
              "#fb9f3a"
             ],
             [
              0.8888888888888888,
              "#fdca26"
             ],
             [
              1,
              "#f0f921"
             ]
            ],
            "type": "histogram2dcontour"
           }
          ],
          "mesh3d": [
           {
            "colorbar": {
             "outlinewidth": 0,
             "ticks": ""
            },
            "type": "mesh3d"
           }
          ],
          "parcoords": [
           {
            "line": {
             "colorbar": {
              "outlinewidth": 0,
              "ticks": ""
             }
            },
            "type": "parcoords"
           }
          ],
          "pie": [
           {
            "automargin": true,
            "type": "pie"
           }
          ],
          "scatter": [
           {
            "fillpattern": {
             "fillmode": "overlay",
             "size": 10,
             "solidity": 0.2
            },
            "type": "scatter"
           }
          ],
          "scatter3d": [
           {
            "line": {
             "colorbar": {
              "outlinewidth": 0,
              "ticks": ""
             }
            },
            "marker": {
             "colorbar": {
              "outlinewidth": 0,
              "ticks": ""
             }
            },
            "type": "scatter3d"
           }
          ],
          "scattercarpet": [
           {
            "marker": {
             "colorbar": {
              "outlinewidth": 0,
              "ticks": ""
             }
            },
            "type": "scattercarpet"
           }
          ],
          "scattergeo": [
           {
            "marker": {
             "colorbar": {
              "outlinewidth": 0,
              "ticks": ""
             }
            },
            "type": "scattergeo"
           }
          ],
          "scattergl": [
           {
            "marker": {
             "colorbar": {
              "outlinewidth": 0,
              "ticks": ""
             }
            },
            "type": "scattergl"
           }
          ],
          "scattermapbox": [
           {
            "marker": {
             "colorbar": {
              "outlinewidth": 0,
              "ticks": ""
             }
            },
            "type": "scattermapbox"
           }
          ],
          "scatterpolar": [
           {
            "marker": {
             "colorbar": {
              "outlinewidth": 0,
              "ticks": ""
             }
            },
            "type": "scatterpolar"
           }
          ],
          "scatterpolargl": [
           {
            "marker": {
             "colorbar": {
              "outlinewidth": 0,
              "ticks": ""
             }
            },
            "type": "scatterpolargl"
           }
          ],
          "scatterternary": [
           {
            "marker": {
             "colorbar": {
              "outlinewidth": 0,
              "ticks": ""
             }
            },
            "type": "scatterternary"
           }
          ],
          "surface": [
           {
            "colorbar": {
             "outlinewidth": 0,
             "ticks": ""
            },
            "colorscale": [
             [
              0,
              "#0d0887"
             ],
             [
              0.1111111111111111,
              "#46039f"
             ],
             [
              0.2222222222222222,
              "#7201a8"
             ],
             [
              0.3333333333333333,
              "#9c179e"
             ],
             [
              0.4444444444444444,
              "#bd3786"
             ],
             [
              0.5555555555555556,
              "#d8576b"
             ],
             [
              0.6666666666666666,
              "#ed7953"
             ],
             [
              0.7777777777777778,
              "#fb9f3a"
             ],
             [
              0.8888888888888888,
              "#fdca26"
             ],
             [
              1,
              "#f0f921"
             ]
            ],
            "type": "surface"
           }
          ],
          "table": [
           {
            "cells": {
             "fill": {
              "color": "#EBF0F8"
             },
             "line": {
              "color": "white"
             }
            },
            "header": {
             "fill": {
              "color": "#C8D4E3"
             },
             "line": {
              "color": "white"
             }
            },
            "type": "table"
           }
          ]
         },
         "layout": {
          "annotationdefaults": {
           "arrowcolor": "#2a3f5f",
           "arrowhead": 0,
           "arrowwidth": 1
          },
          "autotypenumbers": "strict",
          "coloraxis": {
           "colorbar": {
            "outlinewidth": 0,
            "ticks": ""
           }
          },
          "colorscale": {
           "diverging": [
            [
             0,
             "#8e0152"
            ],
            [
             0.1,
             "#c51b7d"
            ],
            [
             0.2,
             "#de77ae"
            ],
            [
             0.3,
             "#f1b6da"
            ],
            [
             0.4,
             "#fde0ef"
            ],
            [
             0.5,
             "#f7f7f7"
            ],
            [
             0.6,
             "#e6f5d0"
            ],
            [
             0.7,
             "#b8e186"
            ],
            [
             0.8,
             "#7fbc41"
            ],
            [
             0.9,
             "#4d9221"
            ],
            [
             1,
             "#276419"
            ]
           ],
           "sequential": [
            [
             0,
             "#0d0887"
            ],
            [
             0.1111111111111111,
             "#46039f"
            ],
            [
             0.2222222222222222,
             "#7201a8"
            ],
            [
             0.3333333333333333,
             "#9c179e"
            ],
            [
             0.4444444444444444,
             "#bd3786"
            ],
            [
             0.5555555555555556,
             "#d8576b"
            ],
            [
             0.6666666666666666,
             "#ed7953"
            ],
            [
             0.7777777777777778,
             "#fb9f3a"
            ],
            [
             0.8888888888888888,
             "#fdca26"
            ],
            [
             1,
             "#f0f921"
            ]
           ],
           "sequentialminus": [
            [
             0,
             "#0d0887"
            ],
            [
             0.1111111111111111,
             "#46039f"
            ],
            [
             0.2222222222222222,
             "#7201a8"
            ],
            [
             0.3333333333333333,
             "#9c179e"
            ],
            [
             0.4444444444444444,
             "#bd3786"
            ],
            [
             0.5555555555555556,
             "#d8576b"
            ],
            [
             0.6666666666666666,
             "#ed7953"
            ],
            [
             0.7777777777777778,
             "#fb9f3a"
            ],
            [
             0.8888888888888888,
             "#fdca26"
            ],
            [
             1,
             "#f0f921"
            ]
           ]
          },
          "colorway": [
           "#636efa",
           "#EF553B",
           "#00cc96",
           "#ab63fa",
           "#FFA15A",
           "#19d3f3",
           "#FF6692",
           "#B6E880",
           "#FF97FF",
           "#FECB52"
          ],
          "font": {
           "color": "#2a3f5f"
          },
          "geo": {
           "bgcolor": "white",
           "lakecolor": "white",
           "landcolor": "#E5ECF6",
           "showlakes": true,
           "showland": true,
           "subunitcolor": "white"
          },
          "hoverlabel": {
           "align": "left"
          },
          "hovermode": "closest",
          "mapbox": {
           "style": "light"
          },
          "paper_bgcolor": "white",
          "plot_bgcolor": "#E5ECF6",
          "polar": {
           "angularaxis": {
            "gridcolor": "white",
            "linecolor": "white",
            "ticks": ""
           },
           "bgcolor": "#E5ECF6",
           "radialaxis": {
            "gridcolor": "white",
            "linecolor": "white",
            "ticks": ""
           }
          },
          "scene": {
           "xaxis": {
            "backgroundcolor": "#E5ECF6",
            "gridcolor": "white",
            "gridwidth": 2,
            "linecolor": "white",
            "showbackground": true,
            "ticks": "",
            "zerolinecolor": "white"
           },
           "yaxis": {
            "backgroundcolor": "#E5ECF6",
            "gridcolor": "white",
            "gridwidth": 2,
            "linecolor": "white",
            "showbackground": true,
            "ticks": "",
            "zerolinecolor": "white"
           },
           "zaxis": {
            "backgroundcolor": "#E5ECF6",
            "gridcolor": "white",
            "gridwidth": 2,
            "linecolor": "white",
            "showbackground": true,
            "ticks": "",
            "zerolinecolor": "white"
           }
          },
          "shapedefaults": {
           "line": {
            "color": "#2a3f5f"
           }
          },
          "ternary": {
           "aaxis": {
            "gridcolor": "white",
            "linecolor": "white",
            "ticks": ""
           },
           "baxis": {
            "gridcolor": "white",
            "linecolor": "white",
            "ticks": ""
           },
           "bgcolor": "#E5ECF6",
           "caxis": {
            "gridcolor": "white",
            "linecolor": "white",
            "ticks": ""
           }
          },
          "title": {
           "x": 0.05
          },
          "xaxis": {
           "automargin": true,
           "gridcolor": "white",
           "linecolor": "white",
           "ticks": "",
           "title": {
            "standoff": 15
           },
           "zerolinecolor": "white",
           "zerolinewidth": 2
          },
          "yaxis": {
           "automargin": true,
           "gridcolor": "white",
           "linecolor": "white",
           "ticks": "",
           "title": {
            "standoff": 15
           },
           "zerolinecolor": "white",
           "zerolinewidth": 2
          }
         }
        },
        "title": {
         "text": "Retailer Competitive Edge"
        },
        "yaxis": {
         "title": {
          "text": "Average Review Marks"
         }
        },
        "yaxis2": {
         "overlaying": "y",
         "side": "right",
         "title": {
          "text": "Review Density (Number of Reviews per Product)"
         }
        }
       }
      }
     },
     "metadata": {},
     "output_type": "display_data"
    }
   ],
   "source": [
    "df = all_df.groupby('Retailer').agg({'Review Mark': 'mean', 'Product Name': 'nunique', 'Review Number': 'sum'}).reset_index()\n",
    "\n",
    "# Calculate Review Density = Total Number of Reviews / Number of Products\n",
    "df['Review Density'] = df['Review Number'] / df['Product Name']\n",
    "\n",
    "# Create figure with secondary y-axis\n",
    "fig = go.Figure()\n",
    "\n",
    "# Add bar trace for 'Review Marks'\n",
    "fig.add_trace(go.Bar(x=df['Retailer'], y=df['Review Mark'], name='Average Review Marks', text=df['Review Mark']))\n",
    "\n",
    "# Add line trace for 'Review Density', with y-axis on the right side\n",
    "fig.add_trace(go.Scatter(x=df['Retailer'], y=df['Review Density'], name='Review Density', yaxis='y2'))\n",
    "\n",
    "# Update layout for dual axis\n",
    "fig.update_layout(\n",
    "    title='Retailer Competitive Edge',\n",
    "    yaxis=dict(title='Average Review Marks'),\n",
    "    yaxis2=dict(title='Review Density (Number of Reviews per Product)', overlaying='y', side='right')\n",
    ")\n",
    "\n",
    "fig.show()"
   ]
  },
  {
   "cell_type": "code",
   "execution_count": 16,
   "metadata": {},
   "outputs": [],
   "source": [
    "go.Figure(fig).write_html(\"eda_plots/iDC_plot7.html\", auto_open=True)"
   ]
  },
  {
   "cell_type": "markdown",
   "metadata": {},
   "source": [
    "Bestbuy leads with the highest review marks, contrasting with Walmart, which has the lowest. However, Walmart stands out with the highest review density, indicating a generally higher sales volume. Given our insight that Walmart usually offers lower prices, it seems customers often opt for more affordably priced products even if it might mean compromising on experience quality."
   ]
  },
  {
   "cell_type": "markdown",
   "metadata": {},
   "source": [
    "#### 3.2 Strategic Collaboration Insights:"
   ]
  },
  {
   "cell_type": "code",
   "execution_count": 17,
   "metadata": {},
   "outputs": [
    {
     "data": {
      "application/vnd.plotly.v1+json": {
       "config": {
        "plotlyServerURL": "https://plot.ly"
       },
       "data": [
        {
         "colorscale": [
          [
           0,
           "rgb(247,251,255)"
          ],
          [
           0.125,
           "rgb(222,235,247)"
          ],
          [
           0.25,
           "rgb(198,219,239)"
          ],
          [
           0.375,
           "rgb(158,202,225)"
          ],
          [
           0.5,
           "rgb(107,174,214)"
          ],
          [
           0.625,
           "rgb(66,146,198)"
          ],
          [
           0.75,
           "rgb(33,113,181)"
          ],
          [
           0.875,
           "rgb(8,81,156)"
          ],
          [
           1,
           "rgb(8,48,107)"
          ]
         ],
         "reversescale": false,
         "showscale": true,
         "type": "heatmap",
         "x": [
          "Price",
          "Review Number",
          "Review Mark"
         ],
         "y": [
          "Price",
          "Review Number",
          "Review Mark"
         ],
         "z": [
          [
           1,
           -0.04705744427622075,
           -0.10219526438256801
          ],
          [
           -0.04705744427622075,
           1,
           0.1476879816781897
          ],
          [
           -0.10219526438256801,
           0.1476879816781897,
           1
          ]
         ]
        }
       ],
       "layout": {
        "annotations": [
         {
          "font": {
           "color": "#FFFFFF"
          },
          "showarrow": false,
          "text": "1.0",
          "x": "Price",
          "xref": "x",
          "y": "Price",
          "yref": "y"
         },
         {
          "font": {
           "color": "#000000"
          },
          "showarrow": false,
          "text": "-0.05",
          "x": "Review Number",
          "xref": "x",
          "y": "Price",
          "yref": "y"
         },
         {
          "font": {
           "color": "#000000"
          },
          "showarrow": false,
          "text": "-0.1",
          "x": "Review Mark",
          "xref": "x",
          "y": "Price",
          "yref": "y"
         },
         {
          "font": {
           "color": "#000000"
          },
          "showarrow": false,
          "text": "-0.05",
          "x": "Price",
          "xref": "x",
          "y": "Review Number",
          "yref": "y"
         },
         {
          "font": {
           "color": "#FFFFFF"
          },
          "showarrow": false,
          "text": "1.0",
          "x": "Review Number",
          "xref": "x",
          "y": "Review Number",
          "yref": "y"
         },
         {
          "font": {
           "color": "#000000"
          },
          "showarrow": false,
          "text": "0.15",
          "x": "Review Mark",
          "xref": "x",
          "y": "Review Number",
          "yref": "y"
         },
         {
          "font": {
           "color": "#000000"
          },
          "showarrow": false,
          "text": "-0.1",
          "x": "Price",
          "xref": "x",
          "y": "Review Mark",
          "yref": "y"
         },
         {
          "font": {
           "color": "#000000"
          },
          "showarrow": false,
          "text": "0.15",
          "x": "Review Number",
          "xref": "x",
          "y": "Review Mark",
          "yref": "y"
         },
         {
          "font": {
           "color": "#FFFFFF"
          },
          "showarrow": false,
          "text": "1.0",
          "x": "Review Mark",
          "xref": "x",
          "y": "Review Mark",
          "yref": "y"
         }
        ],
        "template": {
         "data": {
          "bar": [
           {
            "error_x": {
             "color": "#2a3f5f"
            },
            "error_y": {
             "color": "#2a3f5f"
            },
            "marker": {
             "line": {
              "color": "#E5ECF6",
              "width": 0.5
             },
             "pattern": {
              "fillmode": "overlay",
              "size": 10,
              "solidity": 0.2
             }
            },
            "type": "bar"
           }
          ],
          "barpolar": [
           {
            "marker": {
             "line": {
              "color": "#E5ECF6",
              "width": 0.5
             },
             "pattern": {
              "fillmode": "overlay",
              "size": 10,
              "solidity": 0.2
             }
            },
            "type": "barpolar"
           }
          ],
          "carpet": [
           {
            "aaxis": {
             "endlinecolor": "#2a3f5f",
             "gridcolor": "white",
             "linecolor": "white",
             "minorgridcolor": "white",
             "startlinecolor": "#2a3f5f"
            },
            "baxis": {
             "endlinecolor": "#2a3f5f",
             "gridcolor": "white",
             "linecolor": "white",
             "minorgridcolor": "white",
             "startlinecolor": "#2a3f5f"
            },
            "type": "carpet"
           }
          ],
          "choropleth": [
           {
            "colorbar": {
             "outlinewidth": 0,
             "ticks": ""
            },
            "type": "choropleth"
           }
          ],
          "contour": [
           {
            "colorbar": {
             "outlinewidth": 0,
             "ticks": ""
            },
            "colorscale": [
             [
              0,
              "#0d0887"
             ],
             [
              0.1111111111111111,
              "#46039f"
             ],
             [
              0.2222222222222222,
              "#7201a8"
             ],
             [
              0.3333333333333333,
              "#9c179e"
             ],
             [
              0.4444444444444444,
              "#bd3786"
             ],
             [
              0.5555555555555556,
              "#d8576b"
             ],
             [
              0.6666666666666666,
              "#ed7953"
             ],
             [
              0.7777777777777778,
              "#fb9f3a"
             ],
             [
              0.8888888888888888,
              "#fdca26"
             ],
             [
              1,
              "#f0f921"
             ]
            ],
            "type": "contour"
           }
          ],
          "contourcarpet": [
           {
            "colorbar": {
             "outlinewidth": 0,
             "ticks": ""
            },
            "type": "contourcarpet"
           }
          ],
          "heatmap": [
           {
            "colorbar": {
             "outlinewidth": 0,
             "ticks": ""
            },
            "colorscale": [
             [
              0,
              "#0d0887"
             ],
             [
              0.1111111111111111,
              "#46039f"
             ],
             [
              0.2222222222222222,
              "#7201a8"
             ],
             [
              0.3333333333333333,
              "#9c179e"
             ],
             [
              0.4444444444444444,
              "#bd3786"
             ],
             [
              0.5555555555555556,
              "#d8576b"
             ],
             [
              0.6666666666666666,
              "#ed7953"
             ],
             [
              0.7777777777777778,
              "#fb9f3a"
             ],
             [
              0.8888888888888888,
              "#fdca26"
             ],
             [
              1,
              "#f0f921"
             ]
            ],
            "type": "heatmap"
           }
          ],
          "heatmapgl": [
           {
            "colorbar": {
             "outlinewidth": 0,
             "ticks": ""
            },
            "colorscale": [
             [
              0,
              "#0d0887"
             ],
             [
              0.1111111111111111,
              "#46039f"
             ],
             [
              0.2222222222222222,
              "#7201a8"
             ],
             [
              0.3333333333333333,
              "#9c179e"
             ],
             [
              0.4444444444444444,
              "#bd3786"
             ],
             [
              0.5555555555555556,
              "#d8576b"
             ],
             [
              0.6666666666666666,
              "#ed7953"
             ],
             [
              0.7777777777777778,
              "#fb9f3a"
             ],
             [
              0.8888888888888888,
              "#fdca26"
             ],
             [
              1,
              "#f0f921"
             ]
            ],
            "type": "heatmapgl"
           }
          ],
          "histogram": [
           {
            "marker": {
             "pattern": {
              "fillmode": "overlay",
              "size": 10,
              "solidity": 0.2
             }
            },
            "type": "histogram"
           }
          ],
          "histogram2d": [
           {
            "colorbar": {
             "outlinewidth": 0,
             "ticks": ""
            },
            "colorscale": [
             [
              0,
              "#0d0887"
             ],
             [
              0.1111111111111111,
              "#46039f"
             ],
             [
              0.2222222222222222,
              "#7201a8"
             ],
             [
              0.3333333333333333,
              "#9c179e"
             ],
             [
              0.4444444444444444,
              "#bd3786"
             ],
             [
              0.5555555555555556,
              "#d8576b"
             ],
             [
              0.6666666666666666,
              "#ed7953"
             ],
             [
              0.7777777777777778,
              "#fb9f3a"
             ],
             [
              0.8888888888888888,
              "#fdca26"
             ],
             [
              1,
              "#f0f921"
             ]
            ],
            "type": "histogram2d"
           }
          ],
          "histogram2dcontour": [
           {
            "colorbar": {
             "outlinewidth": 0,
             "ticks": ""
            },
            "colorscale": [
             [
              0,
              "#0d0887"
             ],
             [
              0.1111111111111111,
              "#46039f"
             ],
             [
              0.2222222222222222,
              "#7201a8"
             ],
             [
              0.3333333333333333,
              "#9c179e"
             ],
             [
              0.4444444444444444,
              "#bd3786"
             ],
             [
              0.5555555555555556,
              "#d8576b"
             ],
             [
              0.6666666666666666,
              "#ed7953"
             ],
             [
              0.7777777777777778,
              "#fb9f3a"
             ],
             [
              0.8888888888888888,
              "#fdca26"
             ],
             [
              1,
              "#f0f921"
             ]
            ],
            "type": "histogram2dcontour"
           }
          ],
          "mesh3d": [
           {
            "colorbar": {
             "outlinewidth": 0,
             "ticks": ""
            },
            "type": "mesh3d"
           }
          ],
          "parcoords": [
           {
            "line": {
             "colorbar": {
              "outlinewidth": 0,
              "ticks": ""
             }
            },
            "type": "parcoords"
           }
          ],
          "pie": [
           {
            "automargin": true,
            "type": "pie"
           }
          ],
          "scatter": [
           {
            "fillpattern": {
             "fillmode": "overlay",
             "size": 10,
             "solidity": 0.2
            },
            "type": "scatter"
           }
          ],
          "scatter3d": [
           {
            "line": {
             "colorbar": {
              "outlinewidth": 0,
              "ticks": ""
             }
            },
            "marker": {
             "colorbar": {
              "outlinewidth": 0,
              "ticks": ""
             }
            },
            "type": "scatter3d"
           }
          ],
          "scattercarpet": [
           {
            "marker": {
             "colorbar": {
              "outlinewidth": 0,
              "ticks": ""
             }
            },
            "type": "scattercarpet"
           }
          ],
          "scattergeo": [
           {
            "marker": {
             "colorbar": {
              "outlinewidth": 0,
              "ticks": ""
             }
            },
            "type": "scattergeo"
           }
          ],
          "scattergl": [
           {
            "marker": {
             "colorbar": {
              "outlinewidth": 0,
              "ticks": ""
             }
            },
            "type": "scattergl"
           }
          ],
          "scattermapbox": [
           {
            "marker": {
             "colorbar": {
              "outlinewidth": 0,
              "ticks": ""
             }
            },
            "type": "scattermapbox"
           }
          ],
          "scatterpolar": [
           {
            "marker": {
             "colorbar": {
              "outlinewidth": 0,
              "ticks": ""
             }
            },
            "type": "scatterpolar"
           }
          ],
          "scatterpolargl": [
           {
            "marker": {
             "colorbar": {
              "outlinewidth": 0,
              "ticks": ""
             }
            },
            "type": "scatterpolargl"
           }
          ],
          "scatterternary": [
           {
            "marker": {
             "colorbar": {
              "outlinewidth": 0,
              "ticks": ""
             }
            },
            "type": "scatterternary"
           }
          ],
          "surface": [
           {
            "colorbar": {
             "outlinewidth": 0,
             "ticks": ""
            },
            "colorscale": [
             [
              0,
              "#0d0887"
             ],
             [
              0.1111111111111111,
              "#46039f"
             ],
             [
              0.2222222222222222,
              "#7201a8"
             ],
             [
              0.3333333333333333,
              "#9c179e"
             ],
             [
              0.4444444444444444,
              "#bd3786"
             ],
             [
              0.5555555555555556,
              "#d8576b"
             ],
             [
              0.6666666666666666,
              "#ed7953"
             ],
             [
              0.7777777777777778,
              "#fb9f3a"
             ],
             [
              0.8888888888888888,
              "#fdca26"
             ],
             [
              1,
              "#f0f921"
             ]
            ],
            "type": "surface"
           }
          ],
          "table": [
           {
            "cells": {
             "fill": {
              "color": "#EBF0F8"
             },
             "line": {
              "color": "white"
             }
            },
            "header": {
             "fill": {
              "color": "#C8D4E3"
             },
             "line": {
              "color": "white"
             }
            },
            "type": "table"
           }
          ]
         },
         "layout": {
          "annotationdefaults": {
           "arrowcolor": "#2a3f5f",
           "arrowhead": 0,
           "arrowwidth": 1
          },
          "autotypenumbers": "strict",
          "coloraxis": {
           "colorbar": {
            "outlinewidth": 0,
            "ticks": ""
           }
          },
          "colorscale": {
           "diverging": [
            [
             0,
             "#8e0152"
            ],
            [
             0.1,
             "#c51b7d"
            ],
            [
             0.2,
             "#de77ae"
            ],
            [
             0.3,
             "#f1b6da"
            ],
            [
             0.4,
             "#fde0ef"
            ],
            [
             0.5,
             "#f7f7f7"
            ],
            [
             0.6,
             "#e6f5d0"
            ],
            [
             0.7,
             "#b8e186"
            ],
            [
             0.8,
             "#7fbc41"
            ],
            [
             0.9,
             "#4d9221"
            ],
            [
             1,
             "#276419"
            ]
           ],
           "sequential": [
            [
             0,
             "#0d0887"
            ],
            [
             0.1111111111111111,
             "#46039f"
            ],
            [
             0.2222222222222222,
             "#7201a8"
            ],
            [
             0.3333333333333333,
             "#9c179e"
            ],
            [
             0.4444444444444444,
             "#bd3786"
            ],
            [
             0.5555555555555556,
             "#d8576b"
            ],
            [
             0.6666666666666666,
             "#ed7953"
            ],
            [
             0.7777777777777778,
             "#fb9f3a"
            ],
            [
             0.8888888888888888,
             "#fdca26"
            ],
            [
             1,
             "#f0f921"
            ]
           ],
           "sequentialminus": [
            [
             0,
             "#0d0887"
            ],
            [
             0.1111111111111111,
             "#46039f"
            ],
            [
             0.2222222222222222,
             "#7201a8"
            ],
            [
             0.3333333333333333,
             "#9c179e"
            ],
            [
             0.4444444444444444,
             "#bd3786"
            ],
            [
             0.5555555555555556,
             "#d8576b"
            ],
            [
             0.6666666666666666,
             "#ed7953"
            ],
            [
             0.7777777777777778,
             "#fb9f3a"
            ],
            [
             0.8888888888888888,
             "#fdca26"
            ],
            [
             1,
             "#f0f921"
            ]
           ]
          },
          "colorway": [
           "#636efa",
           "#EF553B",
           "#00cc96",
           "#ab63fa",
           "#FFA15A",
           "#19d3f3",
           "#FF6692",
           "#B6E880",
           "#FF97FF",
           "#FECB52"
          ],
          "font": {
           "color": "#2a3f5f"
          },
          "geo": {
           "bgcolor": "white",
           "lakecolor": "white",
           "landcolor": "#E5ECF6",
           "showlakes": true,
           "showland": true,
           "subunitcolor": "white"
          },
          "hoverlabel": {
           "align": "left"
          },
          "hovermode": "closest",
          "mapbox": {
           "style": "light"
          },
          "paper_bgcolor": "white",
          "plot_bgcolor": "#E5ECF6",
          "polar": {
           "angularaxis": {
            "gridcolor": "white",
            "linecolor": "white",
            "ticks": ""
           },
           "bgcolor": "#E5ECF6",
           "radialaxis": {
            "gridcolor": "white",
            "linecolor": "white",
            "ticks": ""
           }
          },
          "scene": {
           "xaxis": {
            "backgroundcolor": "#E5ECF6",
            "gridcolor": "white",
            "gridwidth": 2,
            "linecolor": "white",
            "showbackground": true,
            "ticks": "",
            "zerolinecolor": "white"
           },
           "yaxis": {
            "backgroundcolor": "#E5ECF6",
            "gridcolor": "white",
            "gridwidth": 2,
            "linecolor": "white",
            "showbackground": true,
            "ticks": "",
            "zerolinecolor": "white"
           },
           "zaxis": {
            "backgroundcolor": "#E5ECF6",
            "gridcolor": "white",
            "gridwidth": 2,
            "linecolor": "white",
            "showbackground": true,
            "ticks": "",
            "zerolinecolor": "white"
           }
          },
          "shapedefaults": {
           "line": {
            "color": "#2a3f5f"
           }
          },
          "ternary": {
           "aaxis": {
            "gridcolor": "white",
            "linecolor": "white",
            "ticks": ""
           },
           "baxis": {
            "gridcolor": "white",
            "linecolor": "white",
            "ticks": ""
           },
           "bgcolor": "#E5ECF6",
           "caxis": {
            "gridcolor": "white",
            "linecolor": "white",
            "ticks": ""
           }
          },
          "title": {
           "x": 0.05
          },
          "xaxis": {
           "automargin": true,
           "gridcolor": "white",
           "linecolor": "white",
           "ticks": "",
           "title": {
            "standoff": 15
           },
           "zerolinecolor": "white",
           "zerolinewidth": 2
          },
          "yaxis": {
           "automargin": true,
           "gridcolor": "white",
           "linecolor": "white",
           "ticks": "",
           "title": {
            "standoff": 15
           },
           "zerolinecolor": "white",
           "zerolinewidth": 2
          }
         }
        },
        "title": {
         "text": "Correlation Matrix"
        },
        "xaxis": {
         "dtick": 1,
         "gridcolor": "rgb(0, 0, 0)",
         "side": "top",
         "tickangle": -45,
         "ticks": ""
        },
        "yaxis": {
         "dtick": 1,
         "ticks": "",
         "ticksuffix": "  "
        }
       }
      }
     },
     "metadata": {},
     "output_type": "display_data"
    }
   ],
   "source": [
    "# Calculate the correlation matrix\n",
    "corr_matrix = all_df[['Price', 'Review Number', 'Review Mark']].corr()\n",
    "\n",
    "# Create a heatmap\n",
    "fig = ff.create_annotated_heatmap(\n",
    "    z=corr_matrix.values,\n",
    "    x=corr_matrix.columns.tolist(),\n",
    "    y=corr_matrix.index.tolist(),\n",
    "    annotation_text=corr_matrix.round(2).values,\n",
    "    colorscale='Blues',\n",
    "    showscale=True,\n",
    ")\n",
    "\n",
    "fig.update_layout(\n",
    "    title='Correlation Matrix',\n",
    "    xaxis=dict(tickangle=-45),\n",
    "    template='plotly', \n",
    ")\n",
    "\n",
    "fig.show()"
   ]
  },
  {
   "cell_type": "code",
   "execution_count": 18,
   "metadata": {},
   "outputs": [],
   "source": [
    "go.Figure(fig).write_html(\"eda_plots/iDC_plot8.html\", auto_open=True)"
   ]
  },
  {
   "cell_type": "markdown",
   "metadata": {},
   "source": [
    "The correlation plot reveals significant relationships among Review Mark, Review Number, and Price. Specifically, Price and Review Number exhibit a negative correlation, suggesting that lower prices can drive higher sales. Similarly, a negative correlation between Price and Review Mark implies that higher prices may often result in lower customer satisfaction."
   ]
  },
  {
   "cell_type": "code",
   "execution_count": 19,
   "metadata": {},
   "outputs": [
    {
     "data": {
      "application/vnd.plotly.v1+json": {
       "config": {
        "plotlyServerURL": "https://plot.ly"
       },
       "data": [
        {
         "hovertemplate": "Brand=Amazon<br>Retailer=Amazon<br>Price=%{x}<br>Review Mark=%{y}<extra></extra>",
         "legendgroup": "Amazon",
         "marker": {
          "color": "#636efa",
          "symbol": "circle"
         },
         "mode": "markers",
         "name": "Amazon",
         "orientation": "v",
         "showlegend": true,
         "type": "scatter",
         "x": [
          506.98999999999995
         ],
         "xaxis": "x",
         "y": [
          4.42
         ],
         "yaxis": "y"
        },
        {
         "hovertemplate": "Brand=Amazon<br>Retailer=BestBuy<br>Price=%{x}<br>Review Mark=%{y}<extra></extra>",
         "legendgroup": "Amazon",
         "marker": {
          "color": "#636efa",
          "symbol": "circle"
         },
         "mode": "markers",
         "name": "Amazon",
         "orientation": "v",
         "showlegend": false,
         "type": "scatter",
         "x": [
          378.49
         ],
         "xaxis": "x2",
         "y": [
          4.6125
         ],
         "yaxis": "y2"
        },
        {
         "hovertemplate": "Brand=Android<br>Retailer=Amazon<br>Price=%{x}<br>Review Mark=%{y}<extra></extra>",
         "legendgroup": "Android",
         "marker": {
          "color": "#EF553B",
          "symbol": "circle"
         },
         "mode": "markers",
         "name": "Android",
         "orientation": "v",
         "showlegend": true,
         "type": "scatter",
         "x": [
          166.2713333333333
         ],
         "xaxis": "x",
         "y": [
          2.9733333333333336
         ],
         "yaxis": "y"
        },
        {
         "hovertemplate": "Brand=Android<br>Retailer=BestBuy<br>Price=%{x}<br>Review Mark=%{y}<extra></extra>",
         "legendgroup": "Android",
         "marker": {
          "color": "#EF553B",
          "symbol": "circle"
         },
         "mode": "markers",
         "name": "Android",
         "orientation": "v",
         "showlegend": false,
         "type": "scatter",
         "x": [
          2749.99
         ],
         "xaxis": "x2",
         "y": [
          2.733333333333333
         ],
         "yaxis": "y2"
        },
        {
         "hovertemplate": "Brand=Android<br>Retailer=Walmart<br>Price=%{x}<br>Review Mark=%{y}<extra></extra>",
         "legendgroup": "Android",
         "marker": {
          "color": "#EF553B",
          "symbol": "circle"
         },
         "mode": "markers",
         "name": "Android",
         "orientation": "v",
         "showlegend": false,
         "type": "scatter",
         "x": [
          1155.0983333333334
         ],
         "xaxis": "x4",
         "y": [
          3.966666666666667
         ],
         "yaxis": "y4"
        },
        {
         "hovertemplate": "Brand=Apple<br>Retailer=Amazon<br>Price=%{x}<br>Review Mark=%{y}<extra></extra>",
         "legendgroup": "Apple",
         "marker": {
          "color": "#00cc96",
          "symbol": "circle"
         },
         "mode": "markers",
         "name": "Apple",
         "orientation": "v",
         "showlegend": true,
         "type": "scatter",
         "x": [
          198.49
         ],
         "xaxis": "x",
         "y": [
          4.75
         ],
         "yaxis": "y"
        },
        {
         "hovertemplate": "Brand=BuzzTV<br>Retailer=Amazon<br>Price=%{x}<br>Review Mark=%{y}<extra></extra>",
         "legendgroup": "BuzzTV",
         "marker": {
          "color": "#ab63fa",
          "symbol": "circle"
         },
         "mode": "markers",
         "name": "BuzzTV",
         "orientation": "v",
         "showlegend": true,
         "type": "scatter",
         "x": [
          164.89100000000002
         ],
         "xaxis": "x",
         "y": [
          3.34
         ],
         "yaxis": "y"
        },
        {
         "hovertemplate": "Brand=Furrion<br>Retailer=Amazon<br>Price=%{x}<br>Review Mark=%{y}<extra></extra>",
         "legendgroup": "Furrion",
         "marker": {
          "color": "#FFA15A",
          "symbol": "circle"
         },
         "mode": "markers",
         "name": "Furrion",
         "orientation": "v",
         "showlegend": true,
         "type": "scatter",
         "x": [
          2712.285714285714
         ],
         "xaxis": "x",
         "y": [
          0.8571428571428571
         ],
         "yaxis": "y"
        },
        {
         "hovertemplate": "Brand=Furrion<br>Retailer=BestBuy<br>Price=%{x}<br>Review Mark=%{y}<extra></extra>",
         "legendgroup": "Furrion",
         "marker": {
          "color": "#FFA15A",
          "symbol": "circle"
         },
         "mode": "markers",
         "name": "Furrion",
         "orientation": "v",
         "showlegend": false,
         "type": "scatter",
         "x": [
          2237.899090909091
         ],
         "xaxis": "x2",
         "y": [
          2.268181818181818
         ],
         "yaxis": "y2"
        },
        {
         "hovertemplate": "Brand=Furrion<br>Retailer=Walmart<br>Price=%{x}<br>Review Mark=%{y}<extra></extra>",
         "legendgroup": "Furrion",
         "marker": {
          "color": "#FFA15A",
          "symbol": "circle"
         },
         "mode": "markers",
         "name": "Furrion",
         "orientation": "v",
         "showlegend": false,
         "type": "scatter",
         "x": [
          1906.0836363636363
         ],
         "xaxis": "x4",
         "y": [
          0.6363636363636364
         ],
         "yaxis": "y4"
        },
        {
         "hovertemplate": "Brand=Hisense<br>Retailer=Amazon<br>Price=%{x}<br>Review Mark=%{y}<extra></extra>",
         "legendgroup": "Hisense",
         "marker": {
          "color": "#19d3f3",
          "symbol": "circle"
         },
         "mode": "markers",
         "name": "Hisense",
         "orientation": "v",
         "showlegend": true,
         "type": "scatter",
         "x": [
          975.9087499999999
         ],
         "xaxis": "x",
         "y": [
          3.94375
         ],
         "yaxis": "y"
        },
        {
         "hovertemplate": "Brand=Hisense<br>Retailer=BestBuy<br>Price=%{x}<br>Review Mark=%{y}<extra></extra>",
         "legendgroup": "Hisense",
         "marker": {
          "color": "#19d3f3",
          "symbol": "circle"
         },
         "mode": "markers",
         "name": "Hisense",
         "orientation": "v",
         "showlegend": false,
         "type": "scatter",
         "x": [
          759.4326229508197
         ],
         "xaxis": "x2",
         "y": [
          3.8524590163934427
         ],
         "yaxis": "y2"
        },
        {
         "hovertemplate": "Brand=Hisense<br>Retailer=Costco<br>Price=%{x}<br>Review Mark=%{y}<extra></extra>",
         "legendgroup": "Hisense",
         "marker": {
          "color": "#19d3f3",
          "symbol": "circle"
         },
         "mode": "markers",
         "name": "Hisense",
         "orientation": "v",
         "showlegend": false,
         "type": "scatter",
         "x": [
          1111.7794736842106
         ],
         "xaxis": "x3",
         "y": [
          2.3263157894736843
         ],
         "yaxis": "y3"
        },
        {
         "hovertemplate": "Brand=Hisense<br>Retailer=Walmart<br>Price=%{x}<br>Review Mark=%{y}<extra></extra>",
         "legendgroup": "Hisense",
         "marker": {
          "color": "#19d3f3",
          "symbol": "circle"
         },
         "mode": "markers",
         "name": "Hisense",
         "orientation": "v",
         "showlegend": false,
         "type": "scatter",
         "x": [
          952.1321276595744
         ],
         "xaxis": "x4",
         "y": [
          3.1702127659574466
         ],
         "yaxis": "y4"
        },
        {
         "hovertemplate": "Brand=Impecca<br>Retailer=Amazon<br>Price=%{x}<br>Review Mark=%{y}<extra></extra>",
         "legendgroup": "Impecca",
         "marker": {
          "color": "#FF6692",
          "symbol": "circle"
         },
         "mode": "markers",
         "name": "Impecca",
         "orientation": "v",
         "showlegend": true,
         "type": "scatter",
         "x": [
          259.135
         ],
         "xaxis": "x",
         "y": [
          3.8499999999999996
         ],
         "yaxis": "y"
        },
        {
         "hovertemplate": "Brand=Impecca<br>Retailer=Walmart<br>Price=%{x}<br>Review Mark=%{y}<extra></extra>",
         "legendgroup": "Impecca",
         "marker": {
          "color": "#FF6692",
          "symbol": "circle"
         },
         "mode": "markers",
         "name": "Impecca",
         "orientation": "v",
         "showlegend": false,
         "type": "scatter",
         "x": [
          272.475
         ],
         "xaxis": "x4",
         "y": [
          0
         ],
         "yaxis": "y4"
        },
        {
         "hovertemplate": "Brand=Insignia<br>Retailer=Amazon<br>Price=%{x}<br>Review Mark=%{y}<extra></extra>",
         "legendgroup": "Insignia",
         "marker": {
          "color": "#B6E880",
          "symbol": "circle"
         },
         "mode": "markers",
         "name": "Insignia",
         "orientation": "v",
         "showlegend": true,
         "type": "scatter",
         "x": [
          324.8833333333333
         ],
         "xaxis": "x",
         "y": [
          4.333333333333333
         ],
         "yaxis": "y"
        },
        {
         "hovertemplate": "Brand=Insignia<br>Retailer=BestBuy<br>Price=%{x}<br>Review Mark=%{y}<extra></extra>",
         "legendgroup": "Insignia",
         "marker": {
          "color": "#B6E880",
          "symbol": "circle"
         },
         "mode": "markers",
         "name": "Insignia",
         "orientation": "v",
         "showlegend": false,
         "type": "scatter",
         "x": [
          205.75
         ],
         "xaxis": "x2",
         "y": [
          4.412
         ],
         "yaxis": "y2"
        },
        {
         "hovertemplate": "Brand=Insignia<br>Retailer=Walmart<br>Price=%{x}<br>Review Mark=%{y}<extra></extra>",
         "legendgroup": "Insignia",
         "marker": {
          "color": "#B6E880",
          "symbol": "circle"
         },
         "mode": "markers",
         "name": "Insignia",
         "orientation": "v",
         "showlegend": false,
         "type": "scatter",
         "x": [
          230.9925
         ],
         "xaxis": "x4",
         "y": [
          0
         ],
         "yaxis": "y4"
        },
        {
         "hovertemplate": "Brand=JENSEN<br>Retailer=Amazon<br>Price=%{x}<br>Review Mark=%{y}<extra></extra>",
         "legendgroup": "JENSEN",
         "marker": {
          "color": "#FF97FF",
          "symbol": "circle"
         },
         "mode": "markers",
         "name": "JENSEN",
         "orientation": "v",
         "showlegend": true,
         "type": "scatter",
         "x": [
          519.6
         ],
         "xaxis": "x",
         "y": [
          2.5
         ],
         "yaxis": "y"
        },
        {
         "hovertemplate": "Brand=JENSEN<br>Retailer=Walmart<br>Price=%{x}<br>Review Mark=%{y}<extra></extra>",
         "legendgroup": "JENSEN",
         "marker": {
          "color": "#FF97FF",
          "symbol": "circle"
         },
         "mode": "markers",
         "name": "JENSEN",
         "orientation": "v",
         "showlegend": false,
         "type": "scatter",
         "x": [
          285.87333333333333
         ],
         "xaxis": "x4",
         "y": [
          0.4666666666666666
         ],
         "yaxis": "y4"
        },
        {
         "hovertemplate": "Brand=LG<br>Retailer=Amazon<br>Price=%{x}<br>Review Mark=%{y}<extra></extra>",
         "legendgroup": "LG",
         "marker": {
          "color": "#FECB52",
          "symbol": "circle"
         },
         "mode": "markers",
         "name": "LG",
         "orientation": "v",
         "showlegend": true,
         "type": "scatter",
         "x": [
          4515.967777777777
         ],
         "xaxis": "x",
         "y": [
          3.3962962962962964
         ],
         "yaxis": "y"
        },
        {
         "hovertemplate": "Brand=LG<br>Retailer=BestBuy<br>Price=%{x}<br>Review Mark=%{y}<extra></extra>",
         "legendgroup": "LG",
         "marker": {
          "color": "#FECB52",
          "symbol": "circle"
         },
         "mode": "markers",
         "name": "LG",
         "orientation": "v",
         "showlegend": false,
         "type": "scatter",
         "x": [
          2236.2541509433963
         ],
         "xaxis": "x2",
         "y": [
          3.723584905660377
         ],
         "yaxis": "y2"
        },
        {
         "hovertemplate": "Brand=LG<br>Retailer=Costco<br>Price=%{x}<br>Review Mark=%{y}<extra></extra>",
         "legendgroup": "LG",
         "marker": {
          "color": "#FECB52",
          "symbol": "circle"
         },
         "mode": "markers",
         "name": "LG",
         "orientation": "v",
         "showlegend": false,
         "type": "scatter",
         "x": [
          1973.19
         ],
         "xaxis": "x3",
         "y": [
          3.512
         ],
         "yaxis": "y3"
        },
        {
         "hovertemplate": "Brand=LG<br>Retailer=Walmart<br>Price=%{x}<br>Review Mark=%{y}<extra></extra>",
         "legendgroup": "LG",
         "marker": {
          "color": "#FECB52",
          "symbol": "circle"
         },
         "mode": "markers",
         "name": "LG",
         "orientation": "v",
         "showlegend": false,
         "type": "scatter",
         "x": [
          1696.9043564356434
         ],
         "xaxis": "x4",
         "y": [
          2.7217821782178215
         ],
         "yaxis": "y4"
        },
        {
         "hovertemplate": "Brand=Other<br>Retailer=Amazon<br>Price=%{x}<br>Review Mark=%{y}<extra></extra>",
         "legendgroup": "Other",
         "marker": {
          "color": "#636efa",
          "symbol": "circle"
         },
         "mode": "markers",
         "name": "Other",
         "orientation": "v",
         "showlegend": true,
         "type": "scatter",
         "x": [
          537.8315384615385
         ],
         "xaxis": "x",
         "y": [
          3.8282051282051284
         ],
         "yaxis": "y"
        },
        {
         "hovertemplate": "Brand=Other<br>Retailer=BestBuy<br>Price=%{x}<br>Review Mark=%{y}<extra></extra>",
         "legendgroup": "Other",
         "marker": {
          "color": "#636efa",
          "symbol": "circle"
         },
         "mode": "markers",
         "name": "Other",
         "orientation": "v",
         "showlegend": false,
         "type": "scatter",
         "x": [
          1898.5614285714285
         ],
         "xaxis": "x2",
         "y": [
          4.685714285714285
         ],
         "yaxis": "y2"
        },
        {
         "hovertemplate": "Brand=Other<br>Retailer=Walmart<br>Price=%{x}<br>Review Mark=%{y}<extra></extra>",
         "legendgroup": "Other",
         "marker": {
          "color": "#636efa",
          "symbol": "circle"
         },
         "mode": "markers",
         "name": "Other",
         "orientation": "v",
         "showlegend": false,
         "type": "scatter",
         "x": [
          403.53277777777777
         ],
         "xaxis": "x4",
         "y": [
          1.8833333333333333
         ],
         "yaxis": "y4"
        },
        {
         "hovertemplate": "Brand=RCA<br>Retailer=Amazon<br>Price=%{x}<br>Review Mark=%{y}<extra></extra>",
         "legendgroup": "RCA",
         "marker": {
          "color": "#EF553B",
          "symbol": "circle"
         },
         "mode": "markers",
         "name": "RCA",
         "orientation": "v",
         "showlegend": true,
         "type": "scatter",
         "x": [
          334.72
         ],
         "xaxis": "x",
         "y": [
          4
         ],
         "yaxis": "y"
        },
        {
         "hovertemplate": "Brand=RCA<br>Retailer=Walmart<br>Price=%{x}<br>Review Mark=%{y}<extra></extra>",
         "legendgroup": "RCA",
         "marker": {
          "color": "#EF553B",
          "symbol": "circle"
         },
         "mode": "markers",
         "name": "RCA",
         "orientation": "v",
         "showlegend": false,
         "type": "scatter",
         "x": [
          257.9227272727273
         ],
         "xaxis": "x4",
         "y": [
          3.627272727272727
         ],
         "yaxis": "y4"
        },
        {
         "hovertemplate": "Brand=Roku<br>Retailer=Amazon<br>Price=%{x}<br>Review Mark=%{y}<extra></extra>",
         "legendgroup": "Roku",
         "marker": {
          "color": "#00cc96",
          "symbol": "circle"
         },
         "mode": "markers",
         "name": "Roku",
         "orientation": "v",
         "showlegend": true,
         "type": "scatter",
         "x": [
          55.985
         ],
         "xaxis": "x",
         "y": [
          3.425
         ],
         "yaxis": "y"
        },
        {
         "hovertemplate": "Brand=Roku<br>Retailer=BestBuy<br>Price=%{x}<br>Review Mark=%{y}<extra></extra>",
         "legendgroup": "Roku",
         "marker": {
          "color": "#00cc96",
          "symbol": "circle"
         },
         "mode": "markers",
         "name": "Roku",
         "orientation": "v",
         "showlegend": false,
         "type": "scatter",
         "x": [
          385.37461538461537
         ],
         "xaxis": "x2",
         "y": [
          4.6923076923076925
         ],
         "yaxis": "y2"
        },
        {
         "hovertemplate": "Brand=Roku<br>Retailer=Walmart<br>Price=%{x}<br>Review Mark=%{y}<extra></extra>",
         "legendgroup": "Roku",
         "marker": {
          "color": "#00cc96",
          "symbol": "circle"
         },
         "mode": "markers",
         "name": "Roku",
         "orientation": "v",
         "showlegend": false,
         "type": "scatter",
         "x": [
          208.265
         ],
         "xaxis": "x4",
         "y": [
          4.0875
         ],
         "yaxis": "y4"
        },
        {
         "hovertemplate": "Brand=SUPERSONIC<br>Retailer=Amazon<br>Price=%{x}<br>Review Mark=%{y}<extra></extra>",
         "legendgroup": "SUPERSONIC",
         "marker": {
          "color": "#ab63fa",
          "symbol": "circle"
         },
         "mode": "markers",
         "name": "SUPERSONIC",
         "orientation": "v",
         "showlegend": true,
         "type": "scatter",
         "x": [
          258.71999999999997
         ],
         "xaxis": "x",
         "y": [
          3.88
         ],
         "yaxis": "y"
        },
        {
         "hovertemplate": "Brand=SUPERSONIC<br>Retailer=Walmart<br>Price=%{x}<br>Review Mark=%{y}<extra></extra>",
         "legendgroup": "SUPERSONIC",
         "marker": {
          "color": "#ab63fa",
          "symbol": "circle"
         },
         "mode": "markers",
         "name": "SUPERSONIC",
         "orientation": "v",
         "showlegend": false,
         "type": "scatter",
         "x": [
          175.37780487804878
         ],
         "xaxis": "x4",
         "y": [
          2.104878048780488
         ],
         "yaxis": "y4"
        },
        {
         "hovertemplate": "Brand=Samsung<br>Retailer=Amazon<br>Price=%{x}<br>Review Mark=%{y}<extra></extra>",
         "legendgroup": "Samsung",
         "marker": {
          "color": "#FFA15A",
          "symbol": "circle"
         },
         "mode": "markers",
         "name": "Samsung",
         "orientation": "v",
         "showlegend": true,
         "type": "scatter",
         "x": [
          2295.6279069767443
         ],
         "xaxis": "x",
         "y": [
          4.013953488372093
         ],
         "yaxis": "y"
        },
        {
         "hovertemplate": "Brand=Samsung<br>Retailer=BestBuy<br>Price=%{x}<br>Review Mark=%{y}<extra></extra>",
         "legendgroup": "Samsung",
         "marker": {
          "color": "#FFA15A",
          "symbol": "circle"
         },
         "mode": "markers",
         "name": "Samsung",
         "orientation": "v",
         "showlegend": false,
         "type": "scatter",
         "x": [
          2957.9777848101266
         ],
         "xaxis": "x2",
         "y": [
          3.8879746835443036
         ],
         "yaxis": "y2"
        },
        {
         "hovertemplate": "Brand=Samsung<br>Retailer=Costco<br>Price=%{x}<br>Review Mark=%{y}<extra></extra>",
         "legendgroup": "Samsung",
         "marker": {
          "color": "#FFA15A",
          "symbol": "circle"
         },
         "mode": "markers",
         "name": "Samsung",
         "orientation": "v",
         "showlegend": false,
         "type": "scatter",
         "x": [
          2508.045581395349
         ],
         "xaxis": "x3",
         "y": [
          3.53953488372093
         ],
         "yaxis": "y3"
        },
        {
         "hovertemplate": "Brand=Samsung<br>Retailer=Walmart<br>Price=%{x}<br>Review Mark=%{y}<extra></extra>",
         "legendgroup": "Samsung",
         "marker": {
          "color": "#FFA15A",
          "symbol": "circle"
         },
         "mode": "markers",
         "name": "Samsung",
         "orientation": "v",
         "showlegend": false,
         "type": "scatter",
         "x": [
          1846.272682926829
         ],
         "xaxis": "x4",
         "y": [
          2.7222560975609755
         ],
         "yaxis": "y4"
        },
        {
         "hovertemplate": "Brand=Sony<br>Retailer=Amazon<br>Price=%{x}<br>Review Mark=%{y}<extra></extra>",
         "legendgroup": "Sony",
         "marker": {
          "color": "#19d3f3",
          "symbol": "circle"
         },
         "mode": "markers",
         "name": "Sony",
         "orientation": "v",
         "showlegend": true,
         "type": "scatter",
         "x": [
          2189.21
         ],
         "xaxis": "x",
         "y": [
          4.425
         ],
         "yaxis": "y"
        },
        {
         "hovertemplate": "Brand=Sony<br>Retailer=BestBuy<br>Price=%{x}<br>Review Mark=%{y}<extra></extra>",
         "legendgroup": "Sony",
         "marker": {
          "color": "#19d3f3",
          "symbol": "circle"
         },
         "mode": "markers",
         "name": "Sony",
         "orientation": "v",
         "showlegend": false,
         "type": "scatter",
         "x": [
          2243.115
         ],
         "xaxis": "x2",
         "y": [
          4.2625
         ],
         "yaxis": "y2"
        },
        {
         "hovertemplate": "Brand=Sony<br>Retailer=Costco<br>Price=%{x}<br>Review Mark=%{y}<extra></extra>",
         "legendgroup": "Sony",
         "marker": {
          "color": "#19d3f3",
          "symbol": "circle"
         },
         "mode": "markers",
         "name": "Sony",
         "orientation": "v",
         "showlegend": false,
         "type": "scatter",
         "x": [
          2102
         ],
         "xaxis": "x3",
         "y": [
          4.545
         ],
         "yaxis": "y3"
        },
        {
         "hovertemplate": "Brand=Sony<br>Retailer=Walmart<br>Price=%{x}<br>Review Mark=%{y}<extra></extra>",
         "legendgroup": "Sony",
         "marker": {
          "color": "#19d3f3",
          "symbol": "circle"
         },
         "mode": "markers",
         "name": "Sony",
         "orientation": "v",
         "showlegend": false,
         "type": "scatter",
         "x": [
          1884.7506818181819
         ],
         "xaxis": "x4",
         "y": [
          3.1818181818181817
         ],
         "yaxis": "y4"
        },
        {
         "hovertemplate": "Brand=Sylvox<br>Retailer=Amazon<br>Price=%{x}<br>Review Mark=%{y}<extra></extra>",
         "legendgroup": "Sylvox",
         "marker": {
          "color": "#FF6692",
          "symbol": "circle"
         },
         "mode": "markers",
         "name": "Sylvox",
         "orientation": "v",
         "showlegend": true,
         "type": "scatter",
         "x": [
          1388
         ],
         "xaxis": "x",
         "y": [
          4.45
         ],
         "yaxis": "y"
        },
        {
         "hovertemplate": "Brand=Sylvox<br>Retailer=Walmart<br>Price=%{x}<br>Review Mark=%{y}<extra></extra>",
         "legendgroup": "Sylvox",
         "marker": {
          "color": "#FF6692",
          "symbol": "circle"
         },
         "mode": "markers",
         "name": "Sylvox",
         "orientation": "v",
         "showlegend": false,
         "type": "scatter",
         "x": [
          1615.3548387096773
         ],
         "xaxis": "x4",
         "y": [
          3.1548387096774193
         ],
         "yaxis": "y4"
        },
        {
         "hovertemplate": "Brand=TCL<br>Retailer=Amazon<br>Price=%{x}<br>Review Mark=%{y}<extra></extra>",
         "legendgroup": "TCL",
         "marker": {
          "color": "#B6E880",
          "symbol": "circle"
         },
         "mode": "markers",
         "name": "TCL",
         "orientation": "v",
         "showlegend": true,
         "type": "scatter",
         "x": [
          715.311052631579
         ],
         "xaxis": "x",
         "y": [
          3.452631578947368
         ],
         "yaxis": "y"
        },
        {
         "hovertemplate": "Brand=TCL<br>Retailer=BestBuy<br>Price=%{x}<br>Review Mark=%{y}<extra></extra>",
         "legendgroup": "TCL",
         "marker": {
          "color": "#B6E880",
          "symbol": "circle"
         },
         "mode": "markers",
         "name": "TCL",
         "orientation": "v",
         "showlegend": false,
         "type": "scatter",
         "x": [
          839.8384848484848
         ],
         "xaxis": "x2",
         "y": [
          4.033333333333333
         ],
         "yaxis": "y2"
        },
        {
         "hovertemplate": "Brand=TCL<br>Retailer=Walmart<br>Price=%{x}<br>Review Mark=%{y}<extra></extra>",
         "legendgroup": "TCL",
         "marker": {
          "color": "#B6E880",
          "symbol": "circle"
         },
         "mode": "markers",
         "name": "TCL",
         "orientation": "v",
         "showlegend": false,
         "type": "scatter",
         "x": [
          560.4336170212766
         ],
         "xaxis": "x4",
         "y": [
          3.6425531914893616
         ],
         "yaxis": "y4"
        },
        {
         "hovertemplate": "Brand=Toshiba<br>Retailer=Amazon<br>Price=%{x}<br>Review Mark=%{y}<extra></extra>",
         "legendgroup": "Toshiba",
         "marker": {
          "color": "#FF97FF",
          "symbol": "circle"
         },
         "mode": "markers",
         "name": "Toshiba",
         "orientation": "v",
         "showlegend": true,
         "type": "scatter",
         "x": [
          549.9766666666667
         ],
         "xaxis": "x",
         "y": [
          4.2
         ],
         "yaxis": "y"
        },
        {
         "hovertemplate": "Brand=Toshiba<br>Retailer=BestBuy<br>Price=%{x}<br>Review Mark=%{y}<extra></extra>",
         "legendgroup": "Toshiba",
         "marker": {
          "color": "#FF97FF",
          "symbol": "circle"
         },
         "mode": "markers",
         "name": "Toshiba",
         "orientation": "v",
         "showlegend": false,
         "type": "scatter",
         "x": [
          261.34714285714284
         ],
         "xaxis": "x2",
         "y": [
          3.9499999999999997
         ],
         "yaxis": "y2"
        },
        {
         "hovertemplate": "Brand=Vizio<br>Retailer=Amazon<br>Price=%{x}<br>Review Mark=%{y}<extra></extra>",
         "legendgroup": "Vizio",
         "marker": {
          "color": "#FECB52",
          "symbol": "circle"
         },
         "mode": "markers",
         "name": "Vizio",
         "orientation": "v",
         "showlegend": true,
         "type": "scatter",
         "x": [
          276.32666666666665
         ],
         "xaxis": "x",
         "y": [
          4.266666666666667
         ],
         "yaxis": "y"
        },
        {
         "hovertemplate": "Brand=Vizio<br>Retailer=BestBuy<br>Price=%{x}<br>Review Mark=%{y}<extra></extra>",
         "legendgroup": "Vizio",
         "marker": {
          "color": "#FECB52",
          "symbol": "circle"
         },
         "mode": "markers",
         "name": "Vizio",
         "orientation": "v",
         "showlegend": false,
         "type": "scatter",
         "x": [
          458.39909090909094
         ],
         "xaxis": "x2",
         "y": [
          4.372727272727273
         ],
         "yaxis": "y2"
        },
        {
         "hovertemplate": "Brand=Vizio<br>Retailer=Walmart<br>Price=%{x}<br>Review Mark=%{y}<extra></extra>",
         "legendgroup": "Vizio",
         "marker": {
          "color": "#FECB52",
          "symbol": "circle"
         },
         "mode": "markers",
         "name": "Vizio",
         "orientation": "v",
         "showlegend": false,
         "type": "scatter",
         "x": [
          365.25942857142854
         ],
         "xaxis": "x4",
         "y": [
          3.11
         ],
         "yaxis": "y4"
        },
        {
         "hovertemplate": "Brand=Westinghouse<br>Retailer=Amazon<br>Price=%{x}<br>Review Mark=%{y}<extra></extra>",
         "legendgroup": "Westinghouse",
         "marker": {
          "color": "#636efa",
          "symbol": "circle"
         },
         "mode": "markers",
         "name": "Westinghouse",
         "orientation": "v",
         "showlegend": true,
         "type": "scatter",
         "x": [
          882.65
         ],
         "xaxis": "x",
         "y": [
          4
         ],
         "yaxis": "y"
        },
        {
         "hovertemplate": "Brand=Westinghouse<br>Retailer=BestBuy<br>Price=%{x}<br>Review Mark=%{y}<extra></extra>",
         "legendgroup": "Westinghouse",
         "marker": {
          "color": "#636efa",
          "symbol": "circle"
         },
         "mode": "markers",
         "name": "Westinghouse",
         "orientation": "v",
         "showlegend": false,
         "type": "scatter",
         "x": [
          175.2757142857143
         ],
         "xaxis": "x2",
         "y": [
          4.3999999999999995
         ],
         "yaxis": "y2"
        },
        {
         "hovertemplate": "Brand=Westinghouse<br>Retailer=Walmart<br>Price=%{x}<br>Review Mark=%{y}<extra></extra>",
         "legendgroup": "Westinghouse",
         "marker": {
          "color": "#636efa",
          "symbol": "circle"
         },
         "mode": "markers",
         "name": "Westinghouse",
         "orientation": "v",
         "showlegend": false,
         "type": "scatter",
         "x": [
          233.47333333333336
         ],
         "xaxis": "x4",
         "y": [
          2.1750000000000003
         ],
         "yaxis": "y4"
        },
        {
         "hovertemplate": "Brand=Seura<br>Retailer=BestBuy<br>Price=%{x}<br>Review Mark=%{y}<extra></extra>",
         "legendgroup": "Seura",
         "marker": {
          "color": "#EF553B",
          "symbol": "circle"
         },
         "mode": "markers",
         "name": "Seura",
         "orientation": "v",
         "showlegend": true,
         "type": "scatter",
         "x": [
          6887.49
         ],
         "xaxis": "x2",
         "y": [
          0
         ],
         "yaxis": "y2"
        },
        {
         "hovertemplate": "Brand=SunBrite<br>Retailer=BestBuy<br>Price=%{x}<br>Review Mark=%{y}<extra></extra>",
         "legendgroup": "SunBrite",
         "marker": {
          "color": "#00cc96",
          "symbol": "circle"
         },
         "mode": "markers",
         "name": "SunBrite",
         "orientation": "v",
         "showlegend": true,
         "type": "scatter",
         "x": [
          5222.833076923077
         ],
         "xaxis": "x2",
         "y": [
          0.9846153846153847
         ],
         "yaxis": "y2"
        },
        {
         "hovertemplate": "Brand=SunBrite<br>Retailer=Walmart<br>Price=%{x}<br>Review Mark=%{y}<extra></extra>",
         "legendgroup": "SunBrite",
         "marker": {
          "color": "#00cc96",
          "symbol": "circle"
         },
         "mode": "markers",
         "name": "SunBrite",
         "orientation": "v",
         "showlegend": false,
         "type": "scatter",
         "x": [
          2343.95
         ],
         "xaxis": "x4",
         "y": [
          1
         ],
         "yaxis": "y4"
        },
        {
         "hovertemplate": "Brand=Element<br>Retailer=Walmart<br>Price=%{x}<br>Review Mark=%{y}<extra></extra>",
         "legendgroup": "Element",
         "marker": {
          "color": "#ab63fa",
          "symbol": "circle"
         },
         "mode": "markers",
         "name": "Element",
         "orientation": "v",
         "showlegend": true,
         "type": "scatter",
         "x": [
          349.33
         ],
         "xaxis": "x4",
         "y": [
          4.066666666666666
         ],
         "yaxis": "y4"
        },
        {
         "hovertemplate": "Brand=Panasonic<br>Retailer=Walmart<br>Price=%{x}<br>Review Mark=%{y}<extra></extra>",
         "legendgroup": "Panasonic",
         "marker": {
          "color": "#FFA15A",
          "symbol": "circle"
         },
         "mode": "markers",
         "name": "Panasonic",
         "orientation": "v",
         "showlegend": true,
         "type": "scatter",
         "x": [
          1237.44
         ],
         "xaxis": "x4",
         "y": [
          0
         ],
         "yaxis": "y4"
        },
        {
         "hovertemplate": "Brand=Philips<br>Retailer=Walmart<br>Price=%{x}<br>Review Mark=%{y}<extra></extra>",
         "legendgroup": "Philips",
         "marker": {
          "color": "#19d3f3",
          "symbol": "circle"
         },
         "mode": "markers",
         "name": "Philips",
         "orientation": "v",
         "showlegend": true,
         "type": "scatter",
         "x": [
          623.045
         ],
         "xaxis": "x4",
         "y": [
          2.46
         ],
         "yaxis": "y4"
        },
        {
         "hovertemplate": "Brand=Sceptre<br>Retailer=Walmart<br>Price=%{x}<br>Review Mark=%{y}<extra></extra>",
         "legendgroup": "Sceptre",
         "marker": {
          "color": "#FF6692",
          "symbol": "circle"
         },
         "mode": "markers",
         "name": "Sceptre",
         "orientation": "v",
         "showlegend": true,
         "type": "scatter",
         "x": [
          210.9975
         ],
         "xaxis": "x4",
         "y": [
          4.0875
         ],
         "yaxis": "y4"
        },
        {
         "hovertemplate": "Brand=Sharp<br>Retailer=Walmart<br>Price=%{x}<br>Review Mark=%{y}<extra></extra>",
         "legendgroup": "Sharp",
         "marker": {
          "color": "#B6E880",
          "symbol": "circle"
         },
         "mode": "markers",
         "name": "Sharp",
         "orientation": "v",
         "showlegend": true,
         "type": "scatter",
         "x": [
          693.0166666666668
         ],
         "xaxis": "x4",
         "y": [
          0
         ],
         "yaxis": "y4"
        }
       ],
       "layout": {
        "annotations": [
         {
          "font": {},
          "showarrow": false,
          "text": "Retailer=Amazon",
          "x": 0.1175,
          "xanchor": "center",
          "xref": "paper",
          "y": 1,
          "yanchor": "bottom",
          "yref": "paper"
         },
         {
          "font": {},
          "showarrow": false,
          "text": "Retailer=BestBuy",
          "x": 0.3725,
          "xanchor": "center",
          "xref": "paper",
          "y": 1,
          "yanchor": "bottom",
          "yref": "paper"
         },
         {
          "font": {},
          "showarrow": false,
          "text": "Retailer=Costco",
          "x": 0.6275,
          "xanchor": "center",
          "xref": "paper",
          "y": 1,
          "yanchor": "bottom",
          "yref": "paper"
         },
         {
          "font": {},
          "showarrow": false,
          "text": "Retailer=Walmart",
          "x": 0.8824999999999998,
          "xanchor": "center",
          "xref": "paper",
          "y": 1,
          "yanchor": "bottom",
          "yref": "paper"
         }
        ],
        "legend": {
         "title": {
          "text": "Brand"
         },
         "tracegroupgap": 0
        },
        "template": {
         "data": {
          "bar": [
           {
            "error_x": {
             "color": "#2a3f5f"
            },
            "error_y": {
             "color": "#2a3f5f"
            },
            "marker": {
             "line": {
              "color": "#E5ECF6",
              "width": 0.5
             },
             "pattern": {
              "fillmode": "overlay",
              "size": 10,
              "solidity": 0.2
             }
            },
            "type": "bar"
           }
          ],
          "barpolar": [
           {
            "marker": {
             "line": {
              "color": "#E5ECF6",
              "width": 0.5
             },
             "pattern": {
              "fillmode": "overlay",
              "size": 10,
              "solidity": 0.2
             }
            },
            "type": "barpolar"
           }
          ],
          "carpet": [
           {
            "aaxis": {
             "endlinecolor": "#2a3f5f",
             "gridcolor": "white",
             "linecolor": "white",
             "minorgridcolor": "white",
             "startlinecolor": "#2a3f5f"
            },
            "baxis": {
             "endlinecolor": "#2a3f5f",
             "gridcolor": "white",
             "linecolor": "white",
             "minorgridcolor": "white",
             "startlinecolor": "#2a3f5f"
            },
            "type": "carpet"
           }
          ],
          "choropleth": [
           {
            "colorbar": {
             "outlinewidth": 0,
             "ticks": ""
            },
            "type": "choropleth"
           }
          ],
          "contour": [
           {
            "colorbar": {
             "outlinewidth": 0,
             "ticks": ""
            },
            "colorscale": [
             [
              0,
              "#0d0887"
             ],
             [
              0.1111111111111111,
              "#46039f"
             ],
             [
              0.2222222222222222,
              "#7201a8"
             ],
             [
              0.3333333333333333,
              "#9c179e"
             ],
             [
              0.4444444444444444,
              "#bd3786"
             ],
             [
              0.5555555555555556,
              "#d8576b"
             ],
             [
              0.6666666666666666,
              "#ed7953"
             ],
             [
              0.7777777777777778,
              "#fb9f3a"
             ],
             [
              0.8888888888888888,
              "#fdca26"
             ],
             [
              1,
              "#f0f921"
             ]
            ],
            "type": "contour"
           }
          ],
          "contourcarpet": [
           {
            "colorbar": {
             "outlinewidth": 0,
             "ticks": ""
            },
            "type": "contourcarpet"
           }
          ],
          "heatmap": [
           {
            "colorbar": {
             "outlinewidth": 0,
             "ticks": ""
            },
            "colorscale": [
             [
              0,
              "#0d0887"
             ],
             [
              0.1111111111111111,
              "#46039f"
             ],
             [
              0.2222222222222222,
              "#7201a8"
             ],
             [
              0.3333333333333333,
              "#9c179e"
             ],
             [
              0.4444444444444444,
              "#bd3786"
             ],
             [
              0.5555555555555556,
              "#d8576b"
             ],
             [
              0.6666666666666666,
              "#ed7953"
             ],
             [
              0.7777777777777778,
              "#fb9f3a"
             ],
             [
              0.8888888888888888,
              "#fdca26"
             ],
             [
              1,
              "#f0f921"
             ]
            ],
            "type": "heatmap"
           }
          ],
          "heatmapgl": [
           {
            "colorbar": {
             "outlinewidth": 0,
             "ticks": ""
            },
            "colorscale": [
             [
              0,
              "#0d0887"
             ],
             [
              0.1111111111111111,
              "#46039f"
             ],
             [
              0.2222222222222222,
              "#7201a8"
             ],
             [
              0.3333333333333333,
              "#9c179e"
             ],
             [
              0.4444444444444444,
              "#bd3786"
             ],
             [
              0.5555555555555556,
              "#d8576b"
             ],
             [
              0.6666666666666666,
              "#ed7953"
             ],
             [
              0.7777777777777778,
              "#fb9f3a"
             ],
             [
              0.8888888888888888,
              "#fdca26"
             ],
             [
              1,
              "#f0f921"
             ]
            ],
            "type": "heatmapgl"
           }
          ],
          "histogram": [
           {
            "marker": {
             "pattern": {
              "fillmode": "overlay",
              "size": 10,
              "solidity": 0.2
             }
            },
            "type": "histogram"
           }
          ],
          "histogram2d": [
           {
            "colorbar": {
             "outlinewidth": 0,
             "ticks": ""
            },
            "colorscale": [
             [
              0,
              "#0d0887"
             ],
             [
              0.1111111111111111,
              "#46039f"
             ],
             [
              0.2222222222222222,
              "#7201a8"
             ],
             [
              0.3333333333333333,
              "#9c179e"
             ],
             [
              0.4444444444444444,
              "#bd3786"
             ],
             [
              0.5555555555555556,
              "#d8576b"
             ],
             [
              0.6666666666666666,
              "#ed7953"
             ],
             [
              0.7777777777777778,
              "#fb9f3a"
             ],
             [
              0.8888888888888888,
              "#fdca26"
             ],
             [
              1,
              "#f0f921"
             ]
            ],
            "type": "histogram2d"
           }
          ],
          "histogram2dcontour": [
           {
            "colorbar": {
             "outlinewidth": 0,
             "ticks": ""
            },
            "colorscale": [
             [
              0,
              "#0d0887"
             ],
             [
              0.1111111111111111,
              "#46039f"
             ],
             [
              0.2222222222222222,
              "#7201a8"
             ],
             [
              0.3333333333333333,
              "#9c179e"
             ],
             [
              0.4444444444444444,
              "#bd3786"
             ],
             [
              0.5555555555555556,
              "#d8576b"
             ],
             [
              0.6666666666666666,
              "#ed7953"
             ],
             [
              0.7777777777777778,
              "#fb9f3a"
             ],
             [
              0.8888888888888888,
              "#fdca26"
             ],
             [
              1,
              "#f0f921"
             ]
            ],
            "type": "histogram2dcontour"
           }
          ],
          "mesh3d": [
           {
            "colorbar": {
             "outlinewidth": 0,
             "ticks": ""
            },
            "type": "mesh3d"
           }
          ],
          "parcoords": [
           {
            "line": {
             "colorbar": {
              "outlinewidth": 0,
              "ticks": ""
             }
            },
            "type": "parcoords"
           }
          ],
          "pie": [
           {
            "automargin": true,
            "type": "pie"
           }
          ],
          "scatter": [
           {
            "fillpattern": {
             "fillmode": "overlay",
             "size": 10,
             "solidity": 0.2
            },
            "type": "scatter"
           }
          ],
          "scatter3d": [
           {
            "line": {
             "colorbar": {
              "outlinewidth": 0,
              "ticks": ""
             }
            },
            "marker": {
             "colorbar": {
              "outlinewidth": 0,
              "ticks": ""
             }
            },
            "type": "scatter3d"
           }
          ],
          "scattercarpet": [
           {
            "marker": {
             "colorbar": {
              "outlinewidth": 0,
              "ticks": ""
             }
            },
            "type": "scattercarpet"
           }
          ],
          "scattergeo": [
           {
            "marker": {
             "colorbar": {
              "outlinewidth": 0,
              "ticks": ""
             }
            },
            "type": "scattergeo"
           }
          ],
          "scattergl": [
           {
            "marker": {
             "colorbar": {
              "outlinewidth": 0,
              "ticks": ""
             }
            },
            "type": "scattergl"
           }
          ],
          "scattermapbox": [
           {
            "marker": {
             "colorbar": {
              "outlinewidth": 0,
              "ticks": ""
             }
            },
            "type": "scattermapbox"
           }
          ],
          "scatterpolar": [
           {
            "marker": {
             "colorbar": {
              "outlinewidth": 0,
              "ticks": ""
             }
            },
            "type": "scatterpolar"
           }
          ],
          "scatterpolargl": [
           {
            "marker": {
             "colorbar": {
              "outlinewidth": 0,
              "ticks": ""
             }
            },
            "type": "scatterpolargl"
           }
          ],
          "scatterternary": [
           {
            "marker": {
             "colorbar": {
              "outlinewidth": 0,
              "ticks": ""
             }
            },
            "type": "scatterternary"
           }
          ],
          "surface": [
           {
            "colorbar": {
             "outlinewidth": 0,
             "ticks": ""
            },
            "colorscale": [
             [
              0,
              "#0d0887"
             ],
             [
              0.1111111111111111,
              "#46039f"
             ],
             [
              0.2222222222222222,
              "#7201a8"
             ],
             [
              0.3333333333333333,
              "#9c179e"
             ],
             [
              0.4444444444444444,
              "#bd3786"
             ],
             [
              0.5555555555555556,
              "#d8576b"
             ],
             [
              0.6666666666666666,
              "#ed7953"
             ],
             [
              0.7777777777777778,
              "#fb9f3a"
             ],
             [
              0.8888888888888888,
              "#fdca26"
             ],
             [
              1,
              "#f0f921"
             ]
            ],
            "type": "surface"
           }
          ],
          "table": [
           {
            "cells": {
             "fill": {
              "color": "#EBF0F8"
             },
             "line": {
              "color": "white"
             }
            },
            "header": {
             "fill": {
              "color": "#C8D4E3"
             },
             "line": {
              "color": "white"
             }
            },
            "type": "table"
           }
          ]
         },
         "layout": {
          "annotationdefaults": {
           "arrowcolor": "#2a3f5f",
           "arrowhead": 0,
           "arrowwidth": 1
          },
          "autotypenumbers": "strict",
          "coloraxis": {
           "colorbar": {
            "outlinewidth": 0,
            "ticks": ""
           }
          },
          "colorscale": {
           "diverging": [
            [
             0,
             "#8e0152"
            ],
            [
             0.1,
             "#c51b7d"
            ],
            [
             0.2,
             "#de77ae"
            ],
            [
             0.3,
             "#f1b6da"
            ],
            [
             0.4,
             "#fde0ef"
            ],
            [
             0.5,
             "#f7f7f7"
            ],
            [
             0.6,
             "#e6f5d0"
            ],
            [
             0.7,
             "#b8e186"
            ],
            [
             0.8,
             "#7fbc41"
            ],
            [
             0.9,
             "#4d9221"
            ],
            [
             1,
             "#276419"
            ]
           ],
           "sequential": [
            [
             0,
             "#0d0887"
            ],
            [
             0.1111111111111111,
             "#46039f"
            ],
            [
             0.2222222222222222,
             "#7201a8"
            ],
            [
             0.3333333333333333,
             "#9c179e"
            ],
            [
             0.4444444444444444,
             "#bd3786"
            ],
            [
             0.5555555555555556,
             "#d8576b"
            ],
            [
             0.6666666666666666,
             "#ed7953"
            ],
            [
             0.7777777777777778,
             "#fb9f3a"
            ],
            [
             0.8888888888888888,
             "#fdca26"
            ],
            [
             1,
             "#f0f921"
            ]
           ],
           "sequentialminus": [
            [
             0,
             "#0d0887"
            ],
            [
             0.1111111111111111,
             "#46039f"
            ],
            [
             0.2222222222222222,
             "#7201a8"
            ],
            [
             0.3333333333333333,
             "#9c179e"
            ],
            [
             0.4444444444444444,
             "#bd3786"
            ],
            [
             0.5555555555555556,
             "#d8576b"
            ],
            [
             0.6666666666666666,
             "#ed7953"
            ],
            [
             0.7777777777777778,
             "#fb9f3a"
            ],
            [
             0.8888888888888888,
             "#fdca26"
            ],
            [
             1,
             "#f0f921"
            ]
           ]
          },
          "colorway": [
           "#636efa",
           "#EF553B",
           "#00cc96",
           "#ab63fa",
           "#FFA15A",
           "#19d3f3",
           "#FF6692",
           "#B6E880",
           "#FF97FF",
           "#FECB52"
          ],
          "font": {
           "color": "#2a3f5f"
          },
          "geo": {
           "bgcolor": "white",
           "lakecolor": "white",
           "landcolor": "#E5ECF6",
           "showlakes": true,
           "showland": true,
           "subunitcolor": "white"
          },
          "hoverlabel": {
           "align": "left"
          },
          "hovermode": "closest",
          "mapbox": {
           "style": "light"
          },
          "paper_bgcolor": "white",
          "plot_bgcolor": "#E5ECF6",
          "polar": {
           "angularaxis": {
            "gridcolor": "white",
            "linecolor": "white",
            "ticks": ""
           },
           "bgcolor": "#E5ECF6",
           "radialaxis": {
            "gridcolor": "white",
            "linecolor": "white",
            "ticks": ""
           }
          },
          "scene": {
           "xaxis": {
            "backgroundcolor": "#E5ECF6",
            "gridcolor": "white",
            "gridwidth": 2,
            "linecolor": "white",
            "showbackground": true,
            "ticks": "",
            "zerolinecolor": "white"
           },
           "yaxis": {
            "backgroundcolor": "#E5ECF6",
            "gridcolor": "white",
            "gridwidth": 2,
            "linecolor": "white",
            "showbackground": true,
            "ticks": "",
            "zerolinecolor": "white"
           },
           "zaxis": {
            "backgroundcolor": "#E5ECF6",
            "gridcolor": "white",
            "gridwidth": 2,
            "linecolor": "white",
            "showbackground": true,
            "ticks": "",
            "zerolinecolor": "white"
           }
          },
          "shapedefaults": {
           "line": {
            "color": "#2a3f5f"
           }
          },
          "ternary": {
           "aaxis": {
            "gridcolor": "white",
            "linecolor": "white",
            "ticks": ""
           },
           "baxis": {
            "gridcolor": "white",
            "linecolor": "white",
            "ticks": ""
           },
           "bgcolor": "#E5ECF6",
           "caxis": {
            "gridcolor": "white",
            "linecolor": "white",
            "ticks": ""
           }
          },
          "title": {
           "x": 0.05
          },
          "xaxis": {
           "automargin": true,
           "gridcolor": "white",
           "linecolor": "white",
           "ticks": "",
           "title": {
            "standoff": 15
           },
           "zerolinecolor": "white",
           "zerolinewidth": 2
          },
          "yaxis": {
           "automargin": true,
           "gridcolor": "white",
           "linecolor": "white",
           "ticks": "",
           "title": {
            "standoff": 15
           },
           "zerolinecolor": "white",
           "zerolinewidth": 2
          }
         }
        },
        "title": {
         "text": "Cross-Brand Retailer Analysis"
        },
        "xaxis": {
         "anchor": "y",
         "domain": [
          0,
          0.235
         ],
         "title": {
          "text": "Price"
         }
        },
        "xaxis2": {
         "anchor": "y2",
         "domain": [
          0.255,
          0.49
         ],
         "matches": "x",
         "title": {
          "text": "Price"
         }
        },
        "xaxis3": {
         "anchor": "y3",
         "domain": [
          0.51,
          0.745
         ],
         "matches": "x",
         "title": {
          "text": "Price"
         }
        },
        "xaxis4": {
         "anchor": "y4",
         "domain": [
          0.7649999999999999,
          0.9999999999999999
         ],
         "matches": "x",
         "title": {
          "text": "Price"
         }
        },
        "yaxis": {
         "anchor": "x",
         "domain": [
          0,
          1
         ],
         "title": {
          "text": "Review Mark"
         }
        },
        "yaxis2": {
         "anchor": "x2",
         "domain": [
          0,
          1
         ],
         "matches": "y",
         "showticklabels": false
        },
        "yaxis3": {
         "anchor": "x3",
         "domain": [
          0,
          1
         ],
         "matches": "y",
         "showticklabels": false
        },
        "yaxis4": {
         "anchor": "x4",
         "domain": [
          0,
          1
         ],
         "matches": "y",
         "showticklabels": false
        }
       }
      }
     },
     "metadata": {},
     "output_type": "display_data"
    }
   ],
   "source": [
    "# Cross-Brand Retailer Analysis\n",
    "cross_brand_retailer = all_df.groupby(['Retailer', 'Brand']).agg({'Price': 'mean', 'Review Mark': 'mean'}).reset_index()\n",
    "\n",
    "# Plotting\n",
    "fig_cross_brand = px.scatter(cross_brand_retailer, x='Price', y='Review Mark', color='Brand', facet_col='Retailer', title='Cross-Brand Retailer Analysis')\n",
    "fig_cross_brand.show()"
   ]
  },
  {
   "cell_type": "code",
   "execution_count": 20,
   "metadata": {},
   "outputs": [],
   "source": [
    "go.Figure(fig_cross_brand).write_html(\"eda_plots/iDC_plot9.html\", auto_open=True)"
   ]
  },
  {
   "cell_type": "markdown",
   "metadata": {},
   "source": [
    "### Conclusions"
   ]
  },
  {
   "cell_type": "markdown",
   "metadata": {},
   "source": [
    "Through our detailed analysis, several strategic insights have been gleaned to augment iDC TV Inc.'s market stance."
   ]
  },
  {
   "cell_type": "markdown",
   "metadata": {},
   "source": [
    "### Strategic Recommendations:\n",
    "\n",
    "1. Adopt Competitive Pricing:\n",
    "\n",
    "Implementing competitive pricing can attract a wider consumer base, particularly those sensitive to price, thereby potentially increasing market share.\n",
    "\n",
    "2. Diversify Product Portfolio:\n",
    "\n",
    "Enhancing product diversity to cater to various consumer segments can ensure broader market appeal and can help in customer retention through varied offerings.\n",
    "\n",
    "3. Optimize Market Positioning:\n",
    "\n",
    "Strategically aligning product offerings and pricing strategies with consumer expectations and preferences can maximize the impact and drive sustained growth."
   ]
  },
  {
   "cell_type": "markdown",
   "metadata": {},
   "source": [
    "By strategically aligning with market dynamics and prioritizing consumer-centric approaches, iDC TV Inc. can navigate the competitive landscape effectively and solidify its market presence."
   ]
  }
 ],
 "metadata": {
  "kernelspec": {
   "display_name": "Python 3.10.8 ('metfid')",
   "language": "python",
   "name": "python3"
  },
  "language_info": {
   "codemirror_mode": {
    "name": "ipython",
    "version": 3
   },
   "file_extension": ".py",
   "mimetype": "text/x-python",
   "name": "python",
   "nbconvert_exporter": "python",
   "pygments_lexer": "ipython3",
   "version": "3.10.8"
  },
  "orig_nbformat": 4,
  "vscode": {
   "interpreter": {
    "hash": "22132aac36628afcc2ca9478ac1549919b362bc2e2dde8349831927e86299f90"
   }
  }
 },
 "nbformat": 4,
 "nbformat_minor": 2
}
